{
 "cells": [
  {
   "cell_type": "code",
   "execution_count": 1,
   "id": "18b73c89",
   "metadata": {},
   "outputs": [],
   "source": [
    "# Import libraries\n",
    "import pandas as pd\n",
    "import numpy as np\n",
    "import os\n",
    "import seaborn as sns\n",
    "import scipy\n",
    "import matplotlib.pyplot as plt"
   ]
  },
  {
   "cell_type": "code",
   "execution_count": 3,
   "id": "d950dac7",
   "metadata": {},
   "outputs": [],
   "source": [
    "# Create folder path\n",
    "path = r'C:\\Users\\Thor\\OneDrive\\Desktop\\Career Foundry Tools\\Projects\\Project 7\\Netflix'"
   ]
  },
  {
   "cell_type": "code",
   "execution_count": 4,
   "id": "8a34faf7",
   "metadata": {},
   "outputs": [],
   "source": [
    "df = pd.read_csv(os.path.join(path, '02 Data', 'Original Data', 'all-weeks-countries.csv'), index_col = False)"
   ]
  },
  {
   "cell_type": "code",
   "execution_count": 5,
   "id": "16343c8c",
   "metadata": {},
   "outputs": [
    {
     "data": {
      "text/html": [
       "<div>\n",
       "<style scoped>\n",
       "    .dataframe tbody tr th:only-of-type {\n",
       "        vertical-align: middle;\n",
       "    }\n",
       "\n",
       "    .dataframe tbody tr th {\n",
       "        vertical-align: top;\n",
       "    }\n",
       "\n",
       "    .dataframe thead th {\n",
       "        text-align: right;\n",
       "    }\n",
       "</style>\n",
       "<table border=\"1\" class=\"dataframe\">\n",
       "  <thead>\n",
       "    <tr style=\"text-align: right;\">\n",
       "      <th></th>\n",
       "      <th>country_name</th>\n",
       "      <th>country_iso2</th>\n",
       "      <th>week</th>\n",
       "      <th>category</th>\n",
       "      <th>weekly_rank</th>\n",
       "      <th>show_title</th>\n",
       "      <th>season_title</th>\n",
       "      <th>cumulative_weeks_in_top_10</th>\n",
       "      <th>Unnamed: 8</th>\n",
       "    </tr>\n",
       "  </thead>\n",
       "  <tbody>\n",
       "    <tr>\n",
       "      <th>0</th>\n",
       "      <td>Argentina</td>\n",
       "      <td>AR</td>\n",
       "      <td>2021-11-14</td>\n",
       "      <td>Films</td>\n",
       "      <td>1</td>\n",
       "      <td>Red Notice</td>\n",
       "      <td>NaN</td>\n",
       "      <td>1</td>\n",
       "      <td>NaN</td>\n",
       "    </tr>\n",
       "    <tr>\n",
       "      <th>1</th>\n",
       "      <td>Argentina</td>\n",
       "      <td>AR</td>\n",
       "      <td>2021-11-14</td>\n",
       "      <td>Films</td>\n",
       "      <td>2</td>\n",
       "      <td>Love Hard</td>\n",
       "      <td>NaN</td>\n",
       "      <td>2</td>\n",
       "      <td>NaN</td>\n",
       "    </tr>\n",
       "    <tr>\n",
       "      <th>2</th>\n",
       "      <td>Argentina</td>\n",
       "      <td>AR</td>\n",
       "      <td>2021-11-14</td>\n",
       "      <td>Films</td>\n",
       "      <td>3</td>\n",
       "      <td>Yara</td>\n",
       "      <td>NaN</td>\n",
       "      <td>2</td>\n",
       "      <td>NaN</td>\n",
       "    </tr>\n",
       "    <tr>\n",
       "      <th>3</th>\n",
       "      <td>Argentina</td>\n",
       "      <td>AR</td>\n",
       "      <td>2021-11-14</td>\n",
       "      <td>Films</td>\n",
       "      <td>4</td>\n",
       "      <td>211</td>\n",
       "      <td>NaN</td>\n",
       "      <td>1</td>\n",
       "      <td>NaN</td>\n",
       "    </tr>\n",
       "    <tr>\n",
       "      <th>4</th>\n",
       "      <td>Argentina</td>\n",
       "      <td>AR</td>\n",
       "      <td>2021-11-14</td>\n",
       "      <td>Films</td>\n",
       "      <td>5</td>\n",
       "      <td>The Harder They Fall</td>\n",
       "      <td>NaN</td>\n",
       "      <td>2</td>\n",
       "      <td>NaN</td>\n",
       "    </tr>\n",
       "  </tbody>\n",
       "</table>\n",
       "</div>"
      ],
      "text/plain": [
       "  country_name country_iso2        week category  weekly_rank  \\\n",
       "0    Argentina           AR  2021-11-14    Films            1   \n",
       "1    Argentina           AR  2021-11-14    Films            2   \n",
       "2    Argentina           AR  2021-11-14    Films            3   \n",
       "3    Argentina           AR  2021-11-14    Films            4   \n",
       "4    Argentina           AR  2021-11-14    Films            5   \n",
       "\n",
       "             show_title season_title  cumulative_weeks_in_top_10  Unnamed: 8  \n",
       "0            Red Notice          NaN                           1         NaN  \n",
       "1             Love Hard          NaN                           2         NaN  \n",
       "2                  Yara          NaN                           2         NaN  \n",
       "3                   211          NaN                           1         NaN  \n",
       "4  The Harder They Fall          NaN                           2         NaN  "
      ]
     },
     "execution_count": 5,
     "metadata": {},
     "output_type": "execute_result"
    }
   ],
   "source": [
    "df.head()"
   ]
  },
  {
   "cell_type": "code",
   "execution_count": 9,
   "id": "f79f64ed",
   "metadata": {},
   "outputs": [],
   "source": [
    "df=df.drop(columns = ['Unnamed: 8'])"
   ]
  },
  {
   "cell_type": "code",
   "execution_count": 10,
   "id": "68516e8b",
   "metadata": {},
   "outputs": [
    {
     "data": {
      "text/html": [
       "<div>\n",
       "<style scoped>\n",
       "    .dataframe tbody tr th:only-of-type {\n",
       "        vertical-align: middle;\n",
       "    }\n",
       "\n",
       "    .dataframe tbody tr th {\n",
       "        vertical-align: top;\n",
       "    }\n",
       "\n",
       "    .dataframe thead th {\n",
       "        text-align: right;\n",
       "    }\n",
       "</style>\n",
       "<table border=\"1\" class=\"dataframe\">\n",
       "  <thead>\n",
       "    <tr style=\"text-align: right;\">\n",
       "      <th></th>\n",
       "      <th>country_name</th>\n",
       "      <th>country_iso2</th>\n",
       "      <th>week</th>\n",
       "      <th>category</th>\n",
       "      <th>weekly_rank</th>\n",
       "      <th>show_title</th>\n",
       "      <th>season_title</th>\n",
       "      <th>cumulative_weeks_in_top_10</th>\n",
       "    </tr>\n",
       "  </thead>\n",
       "  <tbody>\n",
       "    <tr>\n",
       "      <th>0</th>\n",
       "      <td>Argentina</td>\n",
       "      <td>AR</td>\n",
       "      <td>2021-11-14</td>\n",
       "      <td>Films</td>\n",
       "      <td>1</td>\n",
       "      <td>Red Notice</td>\n",
       "      <td>NaN</td>\n",
       "      <td>1</td>\n",
       "    </tr>\n",
       "    <tr>\n",
       "      <th>1</th>\n",
       "      <td>Argentina</td>\n",
       "      <td>AR</td>\n",
       "      <td>2021-11-14</td>\n",
       "      <td>Films</td>\n",
       "      <td>2</td>\n",
       "      <td>Love Hard</td>\n",
       "      <td>NaN</td>\n",
       "      <td>2</td>\n",
       "    </tr>\n",
       "    <tr>\n",
       "      <th>2</th>\n",
       "      <td>Argentina</td>\n",
       "      <td>AR</td>\n",
       "      <td>2021-11-14</td>\n",
       "      <td>Films</td>\n",
       "      <td>3</td>\n",
       "      <td>Yara</td>\n",
       "      <td>NaN</td>\n",
       "      <td>2</td>\n",
       "    </tr>\n",
       "    <tr>\n",
       "      <th>3</th>\n",
       "      <td>Argentina</td>\n",
       "      <td>AR</td>\n",
       "      <td>2021-11-14</td>\n",
       "      <td>Films</td>\n",
       "      <td>4</td>\n",
       "      <td>211</td>\n",
       "      <td>NaN</td>\n",
       "      <td>1</td>\n",
       "    </tr>\n",
       "    <tr>\n",
       "      <th>4</th>\n",
       "      <td>Argentina</td>\n",
       "      <td>AR</td>\n",
       "      <td>2021-11-14</td>\n",
       "      <td>Films</td>\n",
       "      <td>5</td>\n",
       "      <td>The Harder They Fall</td>\n",
       "      <td>NaN</td>\n",
       "      <td>2</td>\n",
       "    </tr>\n",
       "  </tbody>\n",
       "</table>\n",
       "</div>"
      ],
      "text/plain": [
       "  country_name country_iso2        week category  weekly_rank  \\\n",
       "0    Argentina           AR  2021-11-14    Films            1   \n",
       "1    Argentina           AR  2021-11-14    Films            2   \n",
       "2    Argentina           AR  2021-11-14    Films            3   \n",
       "3    Argentina           AR  2021-11-14    Films            4   \n",
       "4    Argentina           AR  2021-11-14    Films            5   \n",
       "\n",
       "             show_title season_title  cumulative_weeks_in_top_10  \n",
       "0            Red Notice          NaN                           1  \n",
       "1             Love Hard          NaN                           2  \n",
       "2                  Yara          NaN                           2  \n",
       "3                   211          NaN                           1  \n",
       "4  The Harder They Fall          NaN                           2  "
      ]
     },
     "execution_count": 10,
     "metadata": {},
     "output_type": "execute_result"
    }
   ],
   "source": [
    "df.head()"
   ]
  },
  {
   "cell_type": "code",
   "execution_count": 23,
   "id": "e158b058",
   "metadata": {},
   "outputs": [],
   "source": [
    "df_film=df.filter(['country_name','category','show_title'])"
   ]
  },
  {
   "cell_type": "code",
   "execution_count": 24,
   "id": "96327479",
   "metadata": {},
   "outputs": [
    {
     "data": {
      "text/html": [
       "<div>\n",
       "<style scoped>\n",
       "    .dataframe tbody tr th:only-of-type {\n",
       "        vertical-align: middle;\n",
       "    }\n",
       "\n",
       "    .dataframe tbody tr th {\n",
       "        vertical-align: top;\n",
       "    }\n",
       "\n",
       "    .dataframe thead th {\n",
       "        text-align: right;\n",
       "    }\n",
       "</style>\n",
       "<table border=\"1\" class=\"dataframe\">\n",
       "  <thead>\n",
       "    <tr style=\"text-align: right;\">\n",
       "      <th></th>\n",
       "      <th>country_name</th>\n",
       "      <th>category</th>\n",
       "      <th>show_title</th>\n",
       "    </tr>\n",
       "  </thead>\n",
       "  <tbody>\n",
       "    <tr>\n",
       "      <th>0</th>\n",
       "      <td>Argentina</td>\n",
       "      <td>Films</td>\n",
       "      <td>Red Notice</td>\n",
       "    </tr>\n",
       "    <tr>\n",
       "      <th>1</th>\n",
       "      <td>Argentina</td>\n",
       "      <td>Films</td>\n",
       "      <td>Love Hard</td>\n",
       "    </tr>\n",
       "    <tr>\n",
       "      <th>2</th>\n",
       "      <td>Argentina</td>\n",
       "      <td>Films</td>\n",
       "      <td>Yara</td>\n",
       "    </tr>\n",
       "    <tr>\n",
       "      <th>3</th>\n",
       "      <td>Argentina</td>\n",
       "      <td>Films</td>\n",
       "      <td>211</td>\n",
       "    </tr>\n",
       "    <tr>\n",
       "      <th>4</th>\n",
       "      <td>Argentina</td>\n",
       "      <td>Films</td>\n",
       "      <td>The Harder They Fall</td>\n",
       "    </tr>\n",
       "  </tbody>\n",
       "</table>\n",
       "</div>"
      ],
      "text/plain": [
       "  country_name category            show_title\n",
       "0    Argentina    Films            Red Notice\n",
       "1    Argentina    Films             Love Hard\n",
       "2    Argentina    Films                  Yara\n",
       "3    Argentina    Films                   211\n",
       "4    Argentina    Films  The Harder They Fall"
      ]
     },
     "execution_count": 24,
     "metadata": {},
     "output_type": "execute_result"
    }
   ],
   "source": [
    "df_film.head()"
   ]
  },
  {
   "cell_type": "code",
   "execution_count": 25,
   "id": "a311ba9f",
   "metadata": {},
   "outputs": [
    {
     "data": {
      "text/plain": [
       "(37600, 3)"
      ]
     },
     "execution_count": 25,
     "metadata": {},
     "output_type": "execute_result"
    }
   ],
   "source": [
    "df_film.shape"
   ]
  },
  {
   "cell_type": "code",
   "execution_count": 26,
   "id": "1c37f8bf",
   "metadata": {},
   "outputs": [],
   "source": [
    "df_unique = df_film.drop_duplicates(subset=['show_title'])"
   ]
  },
  {
   "cell_type": "code",
   "execution_count": 27,
   "id": "e8ee8b22",
   "metadata": {},
   "outputs": [
    {
     "data": {
      "text/plain": [
       "(1504, 3)"
      ]
     },
     "execution_count": 27,
     "metadata": {},
     "output_type": "execute_result"
    }
   ],
   "source": [
    "df_unique.shape"
   ]
  },
  {
   "cell_type": "code",
   "execution_count": 28,
   "id": "8ae5080f",
   "metadata": {},
   "outputs": [],
   "source": [
    "df_list=df_unique['show_title'].to_list"
   ]
  },
  {
   "cell_type": "code",
   "execution_count": 31,
   "id": "70cef8b6",
   "metadata": {
    "scrolled": true
   },
   "outputs": [
    {
     "data": {
      "text/plain": [
       "<bound method IndexOpsMixin.tolist of 0                    Red Notice\n",
       "1                     Love Hard\n",
       "2                          Yara\n",
       "3                           211\n",
       "4          The Harder They Fall\n",
       "                  ...          \n",
       "37458    Descendants of the Sun\n",
       "37459          The Fiery Priest\n",
       "37507               Dreamy Eyes\n",
       "37508               My Mr. Wife\n",
       "37587                    Glitch\n",
       "Name: show_title, Length: 1504, dtype: object>"
      ]
     },
     "execution_count": 31,
     "metadata": {},
     "output_type": "execute_result"
    }
   ],
   "source": [
    "df_list"
   ]
  },
  {
   "cell_type": "code",
   "execution_count": 32,
   "id": "221a3d09",
   "metadata": {},
   "outputs": [
    {
     "name": "stdout",
     "output_type": "stream",
     "text": [
      "{\"movie_results\":[{\"title\":\"Jane Doe: The Harder They Fall\",\"year\":2006,\"imdb_id\":\"tt0455134\"},{\"title\":\"The Harder They Fall\",\"year\":1956,\"imdb_id\":\"tt0049291\"},{\"title\":\"The Harder They Fall\",\"year\":2021,\"imdb_id\":\"tt10696784\"}],\"search_results\":3,\"status\":\"OK\",\"status_message\":\"Query was successful\"}\n"
     ]
    }
   ],
   "source": [
    "import requests\n",
    "\n",
    "url = \"https://movies-tvshows-data-imdb.p.rapidapi.com/\"\n",
    "\n",
    "querystring = {\"type\":\"get-movies-by-title\",\"title\":\"the harder they fall\"}\n",
    "\n",
    "headers = {\n",
    "    'x-rapidapi-host': \"movies-tvshows-data-imdb.p.rapidapi.com\",\n",
    "    'x-rapidapi-key': \"a0a5381157mshd35ac8e64965466p1bcb35jsn8e55b0e12b9f\"\n",
    "    }\n",
    "\n",
    "response = requests.request(\"GET\", url, headers=headers, params=querystring)\n",
    "\n",
    "print(response.text)"
   ]
  },
  {
   "cell_type": "code",
   "execution_count": null,
   "id": "f0ac4087",
   "metadata": {},
   "outputs": [],
   "source": []
  }
 ],
 "metadata": {
  "kernelspec": {
   "display_name": "Python 3",
   "language": "python",
   "name": "python3"
  },
  "language_info": {
   "codemirror_mode": {
    "name": "ipython",
    "version": 3
   },
   "file_extension": ".py",
   "mimetype": "text/x-python",
   "name": "python",
   "nbconvert_exporter": "python",
   "pygments_lexer": "ipython3",
   "version": "3.8.8"
  }
 },
 "nbformat": 4,
 "nbformat_minor": 5
}

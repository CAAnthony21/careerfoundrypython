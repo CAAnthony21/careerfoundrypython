{
 "cells": [
  {
   "cell_type": "markdown",
   "id": "ab6e7168",
   "metadata": {},
   "source": [
    "# 5.10 Coding Etiquette & Excel Reporting"
   ]
  },
  {
   "cell_type": "markdown",
   "id": "621cff2b",
   "metadata": {},
   "source": [
    "### This script contains the following points:\n",
    "\n",
    "### 1. Part 1 of Project 5"
   ]
  },
  {
   "cell_type": "code",
   "execution_count": 1,
   "id": "8dd207c5",
   "metadata": {},
   "outputs": [],
   "source": [
    "# Import libraries\n",
    "import pandas as pd\n",
    "import numpy as np\n",
    "import os\n",
    "import seaborn as sns\n",
    "import scipy\n",
    "import matplotlib.pyplot as plt"
   ]
  },
  {
   "cell_type": "code",
   "execution_count": 2,
   "id": "d4be6fce",
   "metadata": {},
   "outputs": [],
   "source": [
    "# Create folder path\n",
    "path = r'C:\\Users\\Thor\\OneDrive\\Desktop\\Career Foundry Tools\\Projects\\Project 5\\09-01-2021 Instacart Basket Analysis'"
   ]
  },
  {
   "cell_type": "markdown",
   "id": "dde88bc8",
   "metadata": {},
   "source": [
    "# Question 1: Import the data set you exported in Exercise 4.9 into a new Jupyter notebook. This should be the merged version of your data that contains the new customers column."
   ]
  },
  {
   "cell_type": "code",
   "execution_count": 3,
   "id": "d891cf20",
   "metadata": {},
   "outputs": [],
   "source": [
    "# Loading All_merged.pkl\n",
    "df = pd.read_pickle(os.path.join(path, '02 Data', 'Prepared Data', 'All_merge.pkl'))"
   ]
  },
  {
   "cell_type": "code",
   "execution_count": 4,
   "id": "ac974194",
   "metadata": {},
   "outputs": [
    {
     "data": {
      "text/plain": [
       "(15956724, 30)"
      ]
     },
     "execution_count": 4,
     "metadata": {},
     "output_type": "execute_result"
    }
   ],
   "source": [
    "df.shape"
   ]
  },
  {
   "cell_type": "code",
   "execution_count": 5,
   "id": "cf850d41",
   "metadata": {},
   "outputs": [
    {
     "data": {
      "text/plain": [
       "order_id                    int64\n",
       "user_id                     int64\n",
       "order_number                int64\n",
       "orders_day_of_week          int64\n",
       "order_time_of_day           int64\n",
       "days_since_prior_order    float64\n",
       "product_id                  int64\n",
       "add_to_cart_order           int64\n",
       "reordered                   int64\n",
       "product_name               object\n",
       "aisle_id                  float64\n",
       "department_id             float64\n",
       "prices                    float64\n",
       "price_range_loc            object\n",
       "busiest_days               object\n",
       "busiest_period_of_day      object\n",
       "max_order                   int64\n",
       "loyalty_flag               object\n",
       "spending                  float64\n",
       "spending_flag              object\n",
       "frequency                 float64\n",
       "frequency_flag             object\n",
       "surname                    object\n",
       "gender                     object\n",
       "state                      object\n",
       "age                         int64\n",
       "date_joined                object\n",
       "n_dependants                int64\n",
       "fam_status                 object\n",
       "income                      int64\n",
       "dtype: object"
      ]
     },
     "execution_count": 5,
     "metadata": {},
     "output_type": "execute_result"
    }
   ],
   "source": [
    "df.dtypes"
   ]
  },
  {
   "cell_type": "code",
   "execution_count": 6,
   "id": "4ff38cab",
   "metadata": {},
   "outputs": [
    {
     "data": {
      "text/html": [
       "<div>\n",
       "<style scoped>\n",
       "    .dataframe tbody tr th:only-of-type {\n",
       "        vertical-align: middle;\n",
       "    }\n",
       "\n",
       "    .dataframe tbody tr th {\n",
       "        vertical-align: top;\n",
       "    }\n",
       "\n",
       "    .dataframe thead th {\n",
       "        text-align: right;\n",
       "    }\n",
       "</style>\n",
       "<table border=\"1\" class=\"dataframe\">\n",
       "  <thead>\n",
       "    <tr style=\"text-align: right;\">\n",
       "      <th></th>\n",
       "      <th>order_id</th>\n",
       "      <th>user_id</th>\n",
       "      <th>order_number</th>\n",
       "      <th>orders_day_of_week</th>\n",
       "      <th>order_time_of_day</th>\n",
       "      <th>days_since_prior_order</th>\n",
       "      <th>product_id</th>\n",
       "      <th>add_to_cart_order</th>\n",
       "      <th>reordered</th>\n",
       "      <th>product_name</th>\n",
       "      <th>...</th>\n",
       "      <th>frequency</th>\n",
       "      <th>frequency_flag</th>\n",
       "      <th>surname</th>\n",
       "      <th>gender</th>\n",
       "      <th>state</th>\n",
       "      <th>age</th>\n",
       "      <th>date_joined</th>\n",
       "      <th>n_dependants</th>\n",
       "      <th>fam_status</th>\n",
       "      <th>income</th>\n",
       "    </tr>\n",
       "  </thead>\n",
       "  <tbody>\n",
       "    <tr>\n",
       "      <th>0</th>\n",
       "      <td>2398795</td>\n",
       "      <td>1</td>\n",
       "      <td>2</td>\n",
       "      <td>3</td>\n",
       "      <td>7</td>\n",
       "      <td>15.0</td>\n",
       "      <td>196</td>\n",
       "      <td>1</td>\n",
       "      <td>1</td>\n",
       "      <td>Soda</td>\n",
       "      <td>...</td>\n",
       "      <td>16.0</td>\n",
       "      <td>Regular customer</td>\n",
       "      <td>Nguyen</td>\n",
       "      <td>Female</td>\n",
       "      <td>Alabama</td>\n",
       "      <td>31</td>\n",
       "      <td>2/17/2019</td>\n",
       "      <td>3</td>\n",
       "      <td>married</td>\n",
       "      <td>40423</td>\n",
       "    </tr>\n",
       "  </tbody>\n",
       "</table>\n",
       "<p>1 rows × 30 columns</p>\n",
       "</div>"
      ],
      "text/plain": [
       "   order_id  user_id  order_number  orders_day_of_week  order_time_of_day  \\\n",
       "0   2398795        1             2                   3                  7   \n",
       "\n",
       "   days_since_prior_order  product_id  add_to_cart_order  reordered  \\\n",
       "0                    15.0         196                  1          1   \n",
       "\n",
       "  product_name  ...  frequency    frequency_flag  surname  gender    state  \\\n",
       "0         Soda  ...       16.0  Regular customer   Nguyen  Female  Alabama   \n",
       "\n",
       "  age  date_joined n_dependants  fam_status income  \n",
       "0  31    2/17/2019            3     married  40423  \n",
       "\n",
       "[1 rows x 30 columns]"
      ]
     },
     "execution_count": 6,
     "metadata": {},
     "output_type": "execute_result"
    }
   ],
   "source": [
    "# Displayinh head to see fields\n",
    "df.head(1)"
   ]
  },
  {
   "cell_type": "markdown",
   "id": "c8c6765c",
   "metadata": {},
   "source": [
    "# Question 2: Consider any security implications that might exist for this new data. You’ll need to address any PII data in the data before continuing your analysis.\n"
   ]
  },
  {
   "cell_type": "markdown",
   "id": "42adb931",
   "metadata": {},
   "source": [
    "### Information such as Surname, Age, number of dependants, family status, and income are all PII and should be treated with proper security protocols. "
   ]
  },
  {
   "cell_type": "markdown",
   "id": "c2796240",
   "metadata": {},
   "source": [
    "# Question 3: The Instacart officers are interested in comparing customer behavior in different geographic areas. Create a regional segmentation of the data. You’ll need to create a “Region” column based on the “State” column from your customers data set.\n",
    "# Use the region information in this Wikipedia article to create your column (you only need to create regions, not divisions).\n",
    "# Determine whether there’s a difference in spending habits between the different U.S. regions. (Hint: You can do this by crossing the variable you just created with the spending flag.)\n"
   ]
  },
  {
   "cell_type": "code",
   "execution_count": 7,
   "id": "1503ab86",
   "metadata": {},
   "outputs": [],
   "source": [
    "# Create column that divides states up into regions based on Wikipedia grouping (https://simple.wikipedia.org/wiki/List_of_regions_of_the_United_States)\n",
    "region =[]\n",
    "\n",
    "for state in df['state']:\n",
    "    if (state == 'Wisconsin') or (state == 'Michigan') or (state == 'Illinois') or (state == 'Indiana') or (state == 'Ohio') or (state == 'North Dakota') or (state == 'South Dakota') or (state == 'Nebraska') or (state == 'Minnesota') or (state == 'Iowa') or (state == 'Missouri') or (state == 'Kansas'):\n",
    "        region.append('Midwest')\n",
    "    elif (state == 'Maine') or (state == 'New Hampshire') or (state == 'Vermont') or (state == 'Massachusetts') or (state == 'Rhode Island') or (state == 'Connecticut') or (state == 'New York') or (state == 'Pennsylvania') or (state =='New Jersey'):\n",
    "        region.append('Northeast')\n",
    "    elif (state == 'Deleware') or (state == 'Maryland') or (state == 'District of Columbia') or (state == 'Virginia') or (state == 'West Virginia') or (state == 'North Carolina') or (state == 'South Carolina') or (state == 'Georgia') or (state == 'Florida') or (state == 'Kentucky') or (state == 'Tennessee') or (state == 'Mississippi') or (state == 'Alabama') or (state == 'Oklahoma') or (state == 'Texas') or (state == 'Arkansas') or (state == 'Louisiana'):\n",
    "        region.append('South')\n",
    "    else:\n",
    "        region.append('West')"
   ]
  },
  {
   "cell_type": "code",
   "execution_count": 8,
   "id": "3a937ddb",
   "metadata": {},
   "outputs": [],
   "source": [
    "# Create region column\n",
    "df['region'] = region"
   ]
  },
  {
   "cell_type": "code",
   "execution_count": 9,
   "id": "9a5eef79",
   "metadata": {},
   "outputs": [
    {
     "data": {
      "text/plain": [
       "South        5018251\n",
       "West         4331741\n",
       "Midwest      3744428\n",
       "Northeast    2862304\n",
       "Name: region, dtype: int64"
      ]
     },
     "execution_count": 9,
     "metadata": {},
     "output_type": "execute_result"
    }
   ],
   "source": [
    "df['region'].value_counts()"
   ]
  },
  {
   "cell_type": "code",
   "execution_count": 10,
   "id": "61aa8a6c",
   "metadata": {},
   "outputs": [
    {
     "data": {
      "text/plain": [
       "15956724"
      ]
     },
     "execution_count": 10,
     "metadata": {},
     "output_type": "execute_result"
    }
   ],
   "source": [
    "# Check to make sure all states are properly labeled by checking value counts\n",
    "5018251+4331741+3744428+2862304"
   ]
  },
  {
   "cell_type": "code",
   "execution_count": 11,
   "id": "15033b75",
   "metadata": {},
   "outputs": [
    {
     "data": {
      "text/plain": [
       "15956724"
      ]
     },
     "execution_count": 11,
     "metadata": {},
     "output_type": "execute_result"
    }
   ],
   "source": [
    "# Check to make sure length of states matches region count\n",
    "len(df['state'])"
   ]
  },
  {
   "cell_type": "code",
   "execution_count": 12,
   "id": "4d8d5c77",
   "metadata": {},
   "outputs": [],
   "source": [
    "#Change dtype category\n",
    "df['region'] = df['region'].astype('category')"
   ]
  },
  {
   "cell_type": "code",
   "execution_count": 13,
   "id": "1df0cd78",
   "metadata": {},
   "outputs": [],
   "source": [
    "# Creating crosstab of spending habits of different US regions\n",
    "crosstab = pd.crosstab(df['region'], df['spending_flag'], dropna = False)"
   ]
  },
  {
   "cell_type": "code",
   "execution_count": 14,
   "id": "edac8e3b",
   "metadata": {},
   "outputs": [
    {
     "data": {
      "text/html": [
       "<div>\n",
       "<style scoped>\n",
       "    .dataframe tbody tr th:only-of-type {\n",
       "        vertical-align: middle;\n",
       "    }\n",
       "\n",
       "    .dataframe tbody tr th {\n",
       "        vertical-align: top;\n",
       "    }\n",
       "\n",
       "    .dataframe thead th {\n",
       "        text-align: right;\n",
       "    }\n",
       "</style>\n",
       "<table border=\"1\" class=\"dataframe\">\n",
       "  <thead>\n",
       "    <tr style=\"text-align: right;\">\n",
       "      <th>spending_flag</th>\n",
       "      <th>High Spender</th>\n",
       "      <th>Low Spender</th>\n",
       "    </tr>\n",
       "    <tr>\n",
       "      <th>region</th>\n",
       "      <th></th>\n",
       "      <th></th>\n",
       "    </tr>\n",
       "  </thead>\n",
       "  <tbody>\n",
       "    <tr>\n",
       "      <th>Midwest</th>\n",
       "      <td>127116</td>\n",
       "      <td>3617312</td>\n",
       "    </tr>\n",
       "    <tr>\n",
       "      <th>Northeast</th>\n",
       "      <td>101065</td>\n",
       "      <td>2761239</td>\n",
       "    </tr>\n",
       "    <tr>\n",
       "      <th>South</th>\n",
       "      <td>189707</td>\n",
       "      <td>4828544</td>\n",
       "    </tr>\n",
       "    <tr>\n",
       "      <th>West</th>\n",
       "      <td>170483</td>\n",
       "      <td>4161258</td>\n",
       "    </tr>\n",
       "  </tbody>\n",
       "</table>\n",
       "</div>"
      ],
      "text/plain": [
       "spending_flag  High Spender  Low Spender\n",
       "region                                  \n",
       "Midwest              127116      3617312\n",
       "Northeast            101065      2761239\n",
       "South                189707      4828544\n",
       "West                 170483      4161258"
      ]
     },
     "execution_count": 14,
     "metadata": {},
     "output_type": "execute_result"
    }
   ],
   "source": [
    "crosstab"
   ]
  },
  {
   "cell_type": "code",
   "execution_count": 15,
   "id": "5a877d6b",
   "metadata": {},
   "outputs": [
    {
     "data": {
      "text/plain": [
       "3744428"
      ]
     },
     "execution_count": 15,
     "metadata": {},
     "output_type": "execute_result"
    }
   ],
   "source": [
    "# Check for high spending population percentage in Midwest\n",
    "3617312+127116"
   ]
  },
  {
   "cell_type": "code",
   "execution_count": 16,
   "id": "ebb2fb83",
   "metadata": {},
   "outputs": [],
   "source": [
    "Midwest=(127116/3744428)*100"
   ]
  },
  {
   "cell_type": "code",
   "execution_count": 17,
   "id": "113230bf",
   "metadata": {},
   "outputs": [
    {
     "data": {
      "text/plain": [
       "3.3948042264399265"
      ]
     },
     "execution_count": 17,
     "metadata": {},
     "output_type": "execute_result"
    }
   ],
   "source": [
    "Midwest"
   ]
  },
  {
   "cell_type": "code",
   "execution_count": 18,
   "id": "a05a9f40",
   "metadata": {},
   "outputs": [
    {
     "data": {
      "text/plain": [
       "2862304"
      ]
     },
     "execution_count": 18,
     "metadata": {},
     "output_type": "execute_result"
    }
   ],
   "source": [
    "# Check for high spending population percentage in Northeast\n",
    "2761239+101065"
   ]
  },
  {
   "cell_type": "code",
   "execution_count": 19,
   "id": "27f69ae1",
   "metadata": {},
   "outputs": [],
   "source": [
    "Northeast= (101065/2862304)*100"
   ]
  },
  {
   "cell_type": "code",
   "execution_count": 20,
   "id": "a1949e41",
   "metadata": {},
   "outputs": [
    {
     "data": {
      "text/plain": [
       "3.5308967880420807"
      ]
     },
     "execution_count": 20,
     "metadata": {},
     "output_type": "execute_result"
    }
   ],
   "source": [
    "Northeast"
   ]
  },
  {
   "cell_type": "code",
   "execution_count": 21,
   "id": "1a0eaee6",
   "metadata": {},
   "outputs": [
    {
     "data": {
      "text/plain": [
       "5018251"
      ]
     },
     "execution_count": 21,
     "metadata": {},
     "output_type": "execute_result"
    }
   ],
   "source": [
    "# Check for high spending population percentage in South\n",
    "4828544+189707"
   ]
  },
  {
   "cell_type": "code",
   "execution_count": 22,
   "id": "d3a4da85",
   "metadata": {},
   "outputs": [],
   "source": [
    "South = (189707/5018251)*100"
   ]
  },
  {
   "cell_type": "code",
   "execution_count": 23,
   "id": "809c8bfa",
   "metadata": {},
   "outputs": [
    {
     "data": {
      "text/plain": [
       "3.7803409992844124"
      ]
     },
     "execution_count": 23,
     "metadata": {},
     "output_type": "execute_result"
    }
   ],
   "source": [
    "South"
   ]
  },
  {
   "cell_type": "code",
   "execution_count": 24,
   "id": "755de52b",
   "metadata": {},
   "outputs": [
    {
     "data": {
      "text/plain": [
       "4331741"
      ]
     },
     "execution_count": 24,
     "metadata": {},
     "output_type": "execute_result"
    }
   ],
   "source": [
    "# Check for high spending population percentage in West\n",
    "4161258+170483"
   ]
  },
  {
   "cell_type": "code",
   "execution_count": 25,
   "id": "55f15dcf",
   "metadata": {},
   "outputs": [],
   "source": [
    "West = (170483/4331741)*100"
   ]
  },
  {
   "cell_type": "code",
   "execution_count": 26,
   "id": "8681d240",
   "metadata": {},
   "outputs": [
    {
     "data": {
      "text/plain": [
       "3.935669284013056"
      ]
     },
     "execution_count": 26,
     "metadata": {},
     "output_type": "execute_result"
    }
   ],
   "source": [
    "West"
   ]
  },
  {
   "cell_type": "markdown",
   "id": "e608491e",
   "metadata": {},
   "source": [
    "### All four regions have around the same high spender percentage. The West has the highest percentage at 3.9% while the Midwest has the lowest at 3.4%"
   ]
  },
  {
   "cell_type": "markdown",
   "id": "3b33171f",
   "metadata": {},
   "source": [
    "# Question 4: The Instacart CFO isn’t interested in customers who don’t generate much revenue for the app. Create an exclusion flag for low-activity customers (customers with less than 5 orders) and exclude them from the data. Make sure you export this sample."
   ]
  },
  {
   "cell_type": "code",
   "execution_count": 27,
   "id": "b63e44ce",
   "metadata": {},
   "outputs": [],
   "source": [
    "# Creating a dataframe excluding customers with less than 5 orders\n",
    "\n",
    "df_high = df[df['max_order'] >=5]"
   ]
  },
  {
   "cell_type": "code",
   "execution_count": 28,
   "id": "c9904482",
   "metadata": {},
   "outputs": [
    {
     "data": {
      "text/html": [
       "<div>\n",
       "<style scoped>\n",
       "    .dataframe tbody tr th:only-of-type {\n",
       "        vertical-align: middle;\n",
       "    }\n",
       "\n",
       "    .dataframe tbody tr th {\n",
       "        vertical-align: top;\n",
       "    }\n",
       "\n",
       "    .dataframe thead th {\n",
       "        text-align: right;\n",
       "    }\n",
       "</style>\n",
       "<table border=\"1\" class=\"dataframe\">\n",
       "  <thead>\n",
       "    <tr style=\"text-align: right;\">\n",
       "      <th></th>\n",
       "      <th>order_id</th>\n",
       "      <th>user_id</th>\n",
       "      <th>order_number</th>\n",
       "      <th>orders_day_of_week</th>\n",
       "      <th>order_time_of_day</th>\n",
       "      <th>days_since_prior_order</th>\n",
       "      <th>product_id</th>\n",
       "      <th>add_to_cart_order</th>\n",
       "      <th>reordered</th>\n",
       "      <th>product_name</th>\n",
       "      <th>...</th>\n",
       "      <th>frequency_flag</th>\n",
       "      <th>surname</th>\n",
       "      <th>gender</th>\n",
       "      <th>state</th>\n",
       "      <th>age</th>\n",
       "      <th>date_joined</th>\n",
       "      <th>n_dependants</th>\n",
       "      <th>fam_status</th>\n",
       "      <th>income</th>\n",
       "      <th>region</th>\n",
       "    </tr>\n",
       "  </thead>\n",
       "  <tbody>\n",
       "    <tr>\n",
       "      <th>0</th>\n",
       "      <td>2398795</td>\n",
       "      <td>1</td>\n",
       "      <td>2</td>\n",
       "      <td>3</td>\n",
       "      <td>7</td>\n",
       "      <td>15.0</td>\n",
       "      <td>196</td>\n",
       "      <td>1</td>\n",
       "      <td>1</td>\n",
       "      <td>Soda</td>\n",
       "      <td>...</td>\n",
       "      <td>Regular customer</td>\n",
       "      <td>Nguyen</td>\n",
       "      <td>Female</td>\n",
       "      <td>Alabama</td>\n",
       "      <td>31</td>\n",
       "      <td>2/17/2019</td>\n",
       "      <td>3</td>\n",
       "      <td>married</td>\n",
       "      <td>40423</td>\n",
       "      <td>South</td>\n",
       "    </tr>\n",
       "    <tr>\n",
       "      <th>1</th>\n",
       "      <td>2398795</td>\n",
       "      <td>1</td>\n",
       "      <td>2</td>\n",
       "      <td>3</td>\n",
       "      <td>7</td>\n",
       "      <td>15.0</td>\n",
       "      <td>10258</td>\n",
       "      <td>2</td>\n",
       "      <td>0</td>\n",
       "      <td>Pistachios</td>\n",
       "      <td>...</td>\n",
       "      <td>Regular customer</td>\n",
       "      <td>Nguyen</td>\n",
       "      <td>Female</td>\n",
       "      <td>Alabama</td>\n",
       "      <td>31</td>\n",
       "      <td>2/17/2019</td>\n",
       "      <td>3</td>\n",
       "      <td>married</td>\n",
       "      <td>40423</td>\n",
       "      <td>South</td>\n",
       "    </tr>\n",
       "    <tr>\n",
       "      <th>2</th>\n",
       "      <td>2398795</td>\n",
       "      <td>1</td>\n",
       "      <td>2</td>\n",
       "      <td>3</td>\n",
       "      <td>7</td>\n",
       "      <td>15.0</td>\n",
       "      <td>12427</td>\n",
       "      <td>3</td>\n",
       "      <td>1</td>\n",
       "      <td>Original Beef Jerky</td>\n",
       "      <td>...</td>\n",
       "      <td>Regular customer</td>\n",
       "      <td>Nguyen</td>\n",
       "      <td>Female</td>\n",
       "      <td>Alabama</td>\n",
       "      <td>31</td>\n",
       "      <td>2/17/2019</td>\n",
       "      <td>3</td>\n",
       "      <td>married</td>\n",
       "      <td>40423</td>\n",
       "      <td>South</td>\n",
       "    </tr>\n",
       "    <tr>\n",
       "      <th>3</th>\n",
       "      <td>2398795</td>\n",
       "      <td>1</td>\n",
       "      <td>2</td>\n",
       "      <td>3</td>\n",
       "      <td>7</td>\n",
       "      <td>15.0</td>\n",
       "      <td>13176</td>\n",
       "      <td>4</td>\n",
       "      <td>0</td>\n",
       "      <td>Bag of Organic Bananas</td>\n",
       "      <td>...</td>\n",
       "      <td>Regular customer</td>\n",
       "      <td>Nguyen</td>\n",
       "      <td>Female</td>\n",
       "      <td>Alabama</td>\n",
       "      <td>31</td>\n",
       "      <td>2/17/2019</td>\n",
       "      <td>3</td>\n",
       "      <td>married</td>\n",
       "      <td>40423</td>\n",
       "      <td>South</td>\n",
       "    </tr>\n",
       "    <tr>\n",
       "      <th>4</th>\n",
       "      <td>2398795</td>\n",
       "      <td>1</td>\n",
       "      <td>2</td>\n",
       "      <td>3</td>\n",
       "      <td>7</td>\n",
       "      <td>15.0</td>\n",
       "      <td>26088</td>\n",
       "      <td>5</td>\n",
       "      <td>1</td>\n",
       "      <td>Aged White Cheddar Popcorn</td>\n",
       "      <td>...</td>\n",
       "      <td>Regular customer</td>\n",
       "      <td>Nguyen</td>\n",
       "      <td>Female</td>\n",
       "      <td>Alabama</td>\n",
       "      <td>31</td>\n",
       "      <td>2/17/2019</td>\n",
       "      <td>3</td>\n",
       "      <td>married</td>\n",
       "      <td>40423</td>\n",
       "      <td>South</td>\n",
       "    </tr>\n",
       "  </tbody>\n",
       "</table>\n",
       "<p>5 rows × 31 columns</p>\n",
       "</div>"
      ],
      "text/plain": [
       "   order_id  user_id  order_number  orders_day_of_week  order_time_of_day  \\\n",
       "0   2398795        1             2                   3                  7   \n",
       "1   2398795        1             2                   3                  7   \n",
       "2   2398795        1             2                   3                  7   \n",
       "3   2398795        1             2                   3                  7   \n",
       "4   2398795        1             2                   3                  7   \n",
       "\n",
       "   days_since_prior_order  product_id  add_to_cart_order  reordered  \\\n",
       "0                    15.0         196                  1          1   \n",
       "1                    15.0       10258                  2          0   \n",
       "2                    15.0       12427                  3          1   \n",
       "3                    15.0       13176                  4          0   \n",
       "4                    15.0       26088                  5          1   \n",
       "\n",
       "                 product_name  ...    frequency_flag  surname  gender  \\\n",
       "0                        Soda  ...  Regular customer   Nguyen  Female   \n",
       "1                  Pistachios  ...  Regular customer   Nguyen  Female   \n",
       "2         Original Beef Jerky  ...  Regular customer   Nguyen  Female   \n",
       "3      Bag of Organic Bananas  ...  Regular customer   Nguyen  Female   \n",
       "4  Aged White Cheddar Popcorn  ...  Regular customer   Nguyen  Female   \n",
       "\n",
       "     state age date_joined  n_dependants fam_status  income region  \n",
       "0  Alabama  31   2/17/2019             3    married   40423  South  \n",
       "1  Alabama  31   2/17/2019             3    married   40423  South  \n",
       "2  Alabama  31   2/17/2019             3    married   40423  South  \n",
       "3  Alabama  31   2/17/2019             3    married   40423  South  \n",
       "4  Alabama  31   2/17/2019             3    married   40423  South  \n",
       "\n",
       "[5 rows x 31 columns]"
      ]
     },
     "execution_count": 28,
     "metadata": {},
     "output_type": "execute_result"
    }
   ],
   "source": [
    "df_high.head()"
   ]
  },
  {
   "cell_type": "code",
   "execution_count": 29,
   "id": "2c4f0386",
   "metadata": {},
   "outputs": [
    {
     "data": {
      "text/plain": [
       "5"
      ]
     },
     "execution_count": 29,
     "metadata": {},
     "output_type": "execute_result"
    }
   ],
   "source": [
    "# Check to make sure new dataframe has no less than 5 orders\n",
    "df_high['max_order'].min()"
   ]
  },
  {
   "cell_type": "code",
   "execution_count": 30,
   "id": "00f35ab4",
   "metadata": {},
   "outputs": [],
   "source": [
    "# Creating a dataframe for customers with less than 5 orders\n",
    "\n",
    "df_low = df[df['max_order'] <5]"
   ]
  },
  {
   "cell_type": "code",
   "execution_count": 31,
   "id": "d82b5644",
   "metadata": {},
   "outputs": [
    {
     "data": {
      "text/html": [
       "<div>\n",
       "<style scoped>\n",
       "    .dataframe tbody tr th:only-of-type {\n",
       "        vertical-align: middle;\n",
       "    }\n",
       "\n",
       "    .dataframe tbody tr th {\n",
       "        vertical-align: top;\n",
       "    }\n",
       "\n",
       "    .dataframe thead th {\n",
       "        text-align: right;\n",
       "    }\n",
       "</style>\n",
       "<table border=\"1\" class=\"dataframe\">\n",
       "  <thead>\n",
       "    <tr style=\"text-align: right;\">\n",
       "      <th></th>\n",
       "      <th>order_id</th>\n",
       "      <th>user_id</th>\n",
       "      <th>order_number</th>\n",
       "      <th>orders_day_of_week</th>\n",
       "      <th>order_time_of_day</th>\n",
       "      <th>days_since_prior_order</th>\n",
       "      <th>product_id</th>\n",
       "      <th>add_to_cart_order</th>\n",
       "      <th>reordered</th>\n",
       "      <th>product_name</th>\n",
       "      <th>...</th>\n",
       "      <th>frequency_flag</th>\n",
       "      <th>surname</th>\n",
       "      <th>gender</th>\n",
       "      <th>state</th>\n",
       "      <th>age</th>\n",
       "      <th>date_joined</th>\n",
       "      <th>n_dependants</th>\n",
       "      <th>fam_status</th>\n",
       "      <th>income</th>\n",
       "      <th>region</th>\n",
       "    </tr>\n",
       "  </thead>\n",
       "  <tbody>\n",
       "    <tr>\n",
       "      <th>64703</th>\n",
       "      <td>977610</td>\n",
       "      <td>114</td>\n",
       "      <td>2</td>\n",
       "      <td>0</td>\n",
       "      <td>8</td>\n",
       "      <td>6.0</td>\n",
       "      <td>39877</td>\n",
       "      <td>1</td>\n",
       "      <td>1</td>\n",
       "      <td>Organic Granny Smith Apple</td>\n",
       "      <td>...</td>\n",
       "      <td>Frequent customer</td>\n",
       "      <td>Weiss</td>\n",
       "      <td>Female</td>\n",
       "      <td>Hawaii</td>\n",
       "      <td>57</td>\n",
       "      <td>3/18/2020</td>\n",
       "      <td>2</td>\n",
       "      <td>married</td>\n",
       "      <td>104350</td>\n",
       "      <td>West</td>\n",
       "    </tr>\n",
       "    <tr>\n",
       "      <th>64704</th>\n",
       "      <td>977610</td>\n",
       "      <td>114</td>\n",
       "      <td>2</td>\n",
       "      <td>0</td>\n",
       "      <td>8</td>\n",
       "      <td>6.0</td>\n",
       "      <td>18465</td>\n",
       "      <td>2</td>\n",
       "      <td>1</td>\n",
       "      <td>Organic Grade A Free Range Large Brown Eggs</td>\n",
       "      <td>...</td>\n",
       "      <td>Frequent customer</td>\n",
       "      <td>Weiss</td>\n",
       "      <td>Female</td>\n",
       "      <td>Hawaii</td>\n",
       "      <td>57</td>\n",
       "      <td>3/18/2020</td>\n",
       "      <td>2</td>\n",
       "      <td>married</td>\n",
       "      <td>104350</td>\n",
       "      <td>West</td>\n",
       "    </tr>\n",
       "    <tr>\n",
       "      <th>64705</th>\n",
       "      <td>977610</td>\n",
       "      <td>114</td>\n",
       "      <td>2</td>\n",
       "      <td>0</td>\n",
       "      <td>8</td>\n",
       "      <td>6.0</td>\n",
       "      <td>40706</td>\n",
       "      <td>3</td>\n",
       "      <td>1</td>\n",
       "      <td>Organic Grape Tomatoes</td>\n",
       "      <td>...</td>\n",
       "      <td>Frequent customer</td>\n",
       "      <td>Weiss</td>\n",
       "      <td>Female</td>\n",
       "      <td>Hawaii</td>\n",
       "      <td>57</td>\n",
       "      <td>3/18/2020</td>\n",
       "      <td>2</td>\n",
       "      <td>married</td>\n",
       "      <td>104350</td>\n",
       "      <td>West</td>\n",
       "    </tr>\n",
       "    <tr>\n",
       "      <th>64706</th>\n",
       "      <td>977610</td>\n",
       "      <td>114</td>\n",
       "      <td>2</td>\n",
       "      <td>0</td>\n",
       "      <td>8</td>\n",
       "      <td>6.0</td>\n",
       "      <td>13176</td>\n",
       "      <td>4</td>\n",
       "      <td>1</td>\n",
       "      <td>Bag of Organic Bananas</td>\n",
       "      <td>...</td>\n",
       "      <td>Frequent customer</td>\n",
       "      <td>Weiss</td>\n",
       "      <td>Female</td>\n",
       "      <td>Hawaii</td>\n",
       "      <td>57</td>\n",
       "      <td>3/18/2020</td>\n",
       "      <td>2</td>\n",
       "      <td>married</td>\n",
       "      <td>104350</td>\n",
       "      <td>West</td>\n",
       "    </tr>\n",
       "    <tr>\n",
       "      <th>64707</th>\n",
       "      <td>977610</td>\n",
       "      <td>114</td>\n",
       "      <td>2</td>\n",
       "      <td>0</td>\n",
       "      <td>8</td>\n",
       "      <td>6.0</td>\n",
       "      <td>30391</td>\n",
       "      <td>5</td>\n",
       "      <td>1</td>\n",
       "      <td>Organic Cucumber</td>\n",
       "      <td>...</td>\n",
       "      <td>Frequent customer</td>\n",
       "      <td>Weiss</td>\n",
       "      <td>Female</td>\n",
       "      <td>Hawaii</td>\n",
       "      <td>57</td>\n",
       "      <td>3/18/2020</td>\n",
       "      <td>2</td>\n",
       "      <td>married</td>\n",
       "      <td>104350</td>\n",
       "      <td>West</td>\n",
       "    </tr>\n",
       "  </tbody>\n",
       "</table>\n",
       "<p>5 rows × 31 columns</p>\n",
       "</div>"
      ],
      "text/plain": [
       "       order_id  user_id  order_number  orders_day_of_week  order_time_of_day  \\\n",
       "64703    977610      114             2                   0                  8   \n",
       "64704    977610      114             2                   0                  8   \n",
       "64705    977610      114             2                   0                  8   \n",
       "64706    977610      114             2                   0                  8   \n",
       "64707    977610      114             2                   0                  8   \n",
       "\n",
       "       days_since_prior_order  product_id  add_to_cart_order  reordered  \\\n",
       "64703                     6.0       39877                  1          1   \n",
       "64704                     6.0       18465                  2          1   \n",
       "64705                     6.0       40706                  3          1   \n",
       "64706                     6.0       13176                  4          1   \n",
       "64707                     6.0       30391                  5          1   \n",
       "\n",
       "                                      product_name  ...     frequency_flag  \\\n",
       "64703                   Organic Granny Smith Apple  ...  Frequent customer   \n",
       "64704  Organic Grade A Free Range Large Brown Eggs  ...  Frequent customer   \n",
       "64705                       Organic Grape Tomatoes  ...  Frequent customer   \n",
       "64706                       Bag of Organic Bananas  ...  Frequent customer   \n",
       "64707                             Organic Cucumber  ...  Frequent customer   \n",
       "\n",
       "       surname  gender   state age date_joined  n_dependants fam_status  \\\n",
       "64703    Weiss  Female  Hawaii  57   3/18/2020             2    married   \n",
       "64704    Weiss  Female  Hawaii  57   3/18/2020             2    married   \n",
       "64705    Weiss  Female  Hawaii  57   3/18/2020             2    married   \n",
       "64706    Weiss  Female  Hawaii  57   3/18/2020             2    married   \n",
       "64707    Weiss  Female  Hawaii  57   3/18/2020             2    married   \n",
       "\n",
       "       income region  \n",
       "64703  104350   West  \n",
       "64704  104350   West  \n",
       "64705  104350   West  \n",
       "64706  104350   West  \n",
       "64707  104350   West  \n",
       "\n",
       "[5 rows x 31 columns]"
      ]
     },
     "execution_count": 31,
     "metadata": {},
     "output_type": "execute_result"
    }
   ],
   "source": [
    "df_low.head()"
   ]
  },
  {
   "cell_type": "code",
   "execution_count": 32,
   "id": "5388a16e",
   "metadata": {},
   "outputs": [
    {
     "data": {
      "text/plain": [
       "4"
      ]
     },
     "execution_count": 32,
     "metadata": {},
     "output_type": "execute_result"
    }
   ],
   "source": [
    "# Checking to make sure low dataframe has no more than 4 max orders\n",
    "df_low['max_order'].max()"
   ]
  },
  {
   "cell_type": "markdown",
   "id": "c595a061",
   "metadata": {},
   "source": [
    "# Question 5: The marketing and business strategy units at Instacart want to create more-relevant marketing strategies for different products and are, thus, curious about customer profiling in their database. Create a profiling variable based on age, income, certain goods in the “department_id” column, and number of dependents. You might also use the “orders_day_of_the_week” and “order_hour_of_day” columns if you can think of a way they would impact customer profiles. (Hint: As an example, try thinking of what characteristics would lead you to the profile “Single adult” or “Young parent.”)\n"
   ]
  },
  {
   "cell_type": "code",
   "execution_count": 33,
   "id": "74a7a65d",
   "metadata": {},
   "outputs": [
    {
     "data": {
      "text/plain": [
       "order_id                     int64\n",
       "user_id                      int64\n",
       "order_number                 int64\n",
       "orders_day_of_week           int64\n",
       "order_time_of_day            int64\n",
       "days_since_prior_order     float64\n",
       "product_id                   int64\n",
       "add_to_cart_order            int64\n",
       "reordered                    int64\n",
       "product_name                object\n",
       "aisle_id                   float64\n",
       "department_id              float64\n",
       "prices                     float64\n",
       "price_range_loc             object\n",
       "busiest_days                object\n",
       "busiest_period_of_day       object\n",
       "max_order                    int64\n",
       "loyalty_flag                object\n",
       "spending                   float64\n",
       "spending_flag               object\n",
       "frequency                  float64\n",
       "frequency_flag              object\n",
       "surname                     object\n",
       "gender                      object\n",
       "state                       object\n",
       "age                          int64\n",
       "date_joined                 object\n",
       "n_dependants                 int64\n",
       "fam_status                  object\n",
       "income                       int64\n",
       "region                    category\n",
       "dtype: object"
      ]
     },
     "execution_count": 33,
     "metadata": {},
     "output_type": "execute_result"
    }
   ],
   "source": [
    "# List of all potential variables\n",
    "df_high.dtypes"
   ]
  },
  {
   "cell_type": "code",
   "execution_count": 34,
   "id": "3fa75d01",
   "metadata": {},
   "outputs": [
    {
     "data": {
      "text/plain": [
       "Low Spender     15354066\n",
       "High Spender      588213\n",
       "Name: spending_flag, dtype: int64"
      ]
     },
     "execution_count": 34,
     "metadata": {},
     "output_type": "execute_result"
    }
   ],
   "source": [
    "# Creating crosstabs to find correlations between different segments of population\n",
    "df_high['spending_flag'].value_counts()"
   ]
  },
  {
   "cell_type": "code",
   "execution_count": 35,
   "id": "a5c1ef89",
   "metadata": {},
   "outputs": [],
   "source": [
    "crosstab_region_spending = pd.crosstab(df['age'], df['spending_flag'], dropna = False)"
   ]
  },
  {
   "cell_type": "code",
   "execution_count": 36,
   "id": "c1712704",
   "metadata": {},
   "outputs": [
    {
     "data": {
      "text/html": [
       "<div>\n",
       "<style scoped>\n",
       "    .dataframe tbody tr th:only-of-type {\n",
       "        vertical-align: middle;\n",
       "    }\n",
       "\n",
       "    .dataframe tbody tr th {\n",
       "        vertical-align: top;\n",
       "    }\n",
       "\n",
       "    .dataframe thead th {\n",
       "        text-align: right;\n",
       "    }\n",
       "</style>\n",
       "<table border=\"1\" class=\"dataframe\">\n",
       "  <thead>\n",
       "    <tr style=\"text-align: right;\">\n",
       "      <th>spending_flag</th>\n",
       "      <th>High Spender</th>\n",
       "      <th>Low Spender</th>\n",
       "    </tr>\n",
       "    <tr>\n",
       "      <th>age</th>\n",
       "      <th></th>\n",
       "      <th></th>\n",
       "    </tr>\n",
       "  </thead>\n",
       "  <tbody>\n",
       "    <tr>\n",
       "      <th>18</th>\n",
       "      <td>9312</td>\n",
       "      <td>261823</td>\n",
       "    </tr>\n",
       "    <tr>\n",
       "      <th>19</th>\n",
       "      <td>6868</td>\n",
       "      <td>252587</td>\n",
       "    </tr>\n",
       "    <tr>\n",
       "      <th>20</th>\n",
       "      <td>7514</td>\n",
       "      <td>243039</td>\n",
       "    </tr>\n",
       "    <tr>\n",
       "      <th>21</th>\n",
       "      <td>9252</td>\n",
       "      <td>240372</td>\n",
       "    </tr>\n",
       "    <tr>\n",
       "      <th>22</th>\n",
       "      <td>6561</td>\n",
       "      <td>223588</td>\n",
       "    </tr>\n",
       "    <tr>\n",
       "      <th>...</th>\n",
       "      <td>...</td>\n",
       "      <td>...</td>\n",
       "    </tr>\n",
       "    <tr>\n",
       "      <th>77</th>\n",
       "      <td>4467</td>\n",
       "      <td>246529</td>\n",
       "    </tr>\n",
       "    <tr>\n",
       "      <th>78</th>\n",
       "      <td>12801</td>\n",
       "      <td>228635</td>\n",
       "    </tr>\n",
       "    <tr>\n",
       "      <th>79</th>\n",
       "      <td>7229</td>\n",
       "      <td>241616</td>\n",
       "    </tr>\n",
       "    <tr>\n",
       "      <th>80</th>\n",
       "      <td>10376</td>\n",
       "      <td>232661</td>\n",
       "    </tr>\n",
       "    <tr>\n",
       "      <th>81</th>\n",
       "      <td>11712</td>\n",
       "      <td>270433</td>\n",
       "    </tr>\n",
       "  </tbody>\n",
       "</table>\n",
       "<p>64 rows × 2 columns</p>\n",
       "</div>"
      ],
      "text/plain": [
       "spending_flag  High Spender  Low Spender\n",
       "age                                     \n",
       "18                     9312       261823\n",
       "19                     6868       252587\n",
       "20                     7514       243039\n",
       "21                     9252       240372\n",
       "22                     6561       223588\n",
       "..                      ...          ...\n",
       "77                     4467       246529\n",
       "78                    12801       228635\n",
       "79                     7229       241616\n",
       "80                    10376       232661\n",
       "81                    11712       270433\n",
       "\n",
       "[64 rows x 2 columns]"
      ]
     },
     "execution_count": 36,
     "metadata": {},
     "output_type": "execute_result"
    }
   ],
   "source": [
    "crosstab_region_spending"
   ]
  },
  {
   "cell_type": "code",
   "execution_count": 37,
   "id": "e1e53bcc",
   "metadata": {},
   "outputs": [
    {
     "name": "stderr",
     "output_type": "stream",
     "text": [
      "C:\\Users\\Thor\\anaconda3\\lib\\site-packages\\pandas\\core\\indexing.py:1599: SettingWithCopyWarning: \n",
      "A value is trying to be set on a copy of a slice from a DataFrame.\n",
      "Try using .loc[row_indexer,col_indexer] = value instead\n",
      "\n",
      "See the caveats in the documentation: https://pandas.pydata.org/pandas-docs/stable/user_guide/indexing.html#returning-a-view-versus-a-copy\n",
      "  self.obj[key] = infer_fill_value(value)\n",
      "C:\\Users\\Thor\\anaconda3\\lib\\site-packages\\pandas\\core\\indexing.py:1720: SettingWithCopyWarning: \n",
      "A value is trying to be set on a copy of a slice from a DataFrame.\n",
      "Try using .loc[row_indexer,col_indexer] = value instead\n",
      "\n",
      "See the caveats in the documentation: https://pandas.pydata.org/pandas-docs/stable/user_guide/indexing.html#returning-a-view-versus-a-copy\n",
      "  self._setitem_single_column(loc, value, pi)\n",
      "C:\\Users\\Thor\\anaconda3\\lib\\site-packages\\pandas\\core\\indexing.py:1720: SettingWithCopyWarning: \n",
      "A value is trying to be set on a copy of a slice from a DataFrame.\n",
      "Try using .loc[row_indexer,col_indexer] = value instead\n",
      "\n",
      "See the caveats in the documentation: https://pandas.pydata.org/pandas-docs/stable/user_guide/indexing.html#returning-a-view-versus-a-copy\n",
      "  self._setitem_single_column(loc, value, pi)\n",
      "C:\\Users\\Thor\\anaconda3\\lib\\site-packages\\pandas\\core\\indexing.py:1720: SettingWithCopyWarning: \n",
      "A value is trying to be set on a copy of a slice from a DataFrame.\n",
      "Try using .loc[row_indexer,col_indexer] = value instead\n",
      "\n",
      "See the caveats in the documentation: https://pandas.pydata.org/pandas-docs/stable/user_guide/indexing.html#returning-a-view-versus-a-copy\n",
      "  self._setitem_single_column(loc, value, pi)\n",
      "C:\\Users\\Thor\\anaconda3\\lib\\site-packages\\pandas\\core\\indexing.py:1720: SettingWithCopyWarning: \n",
      "A value is trying to be set on a copy of a slice from a DataFrame.\n",
      "Try using .loc[row_indexer,col_indexer] = value instead\n",
      "\n",
      "See the caveats in the documentation: https://pandas.pydata.org/pandas-docs/stable/user_guide/indexing.html#returning-a-view-versus-a-copy\n",
      "  self._setitem_single_column(loc, value, pi)\n",
      "C:\\Users\\Thor\\anaconda3\\lib\\site-packages\\pandas\\core\\indexing.py:1720: SettingWithCopyWarning: \n",
      "A value is trying to be set on a copy of a slice from a DataFrame.\n",
      "Try using .loc[row_indexer,col_indexer] = value instead\n",
      "\n",
      "See the caveats in the documentation: https://pandas.pydata.org/pandas-docs/stable/user_guide/indexing.html#returning-a-view-versus-a-copy\n",
      "  self._setitem_single_column(loc, value, pi)\n",
      "C:\\Users\\Thor\\anaconda3\\lib\\site-packages\\pandas\\core\\indexing.py:1720: SettingWithCopyWarning: \n",
      "A value is trying to be set on a copy of a slice from a DataFrame.\n",
      "Try using .loc[row_indexer,col_indexer] = value instead\n",
      "\n",
      "See the caveats in the documentation: https://pandas.pydata.org/pandas-docs/stable/user_guide/indexing.html#returning-a-view-versus-a-copy\n",
      "  self._setitem_single_column(loc, value, pi)\n",
      "C:\\Users\\Thor\\anaconda3\\lib\\site-packages\\pandas\\core\\indexing.py:1720: SettingWithCopyWarning: \n",
      "A value is trying to be set on a copy of a slice from a DataFrame.\n",
      "Try using .loc[row_indexer,col_indexer] = value instead\n",
      "\n",
      "See the caveats in the documentation: https://pandas.pydata.org/pandas-docs/stable/user_guide/indexing.html#returning-a-view-versus-a-copy\n",
      "  self._setitem_single_column(loc, value, pi)\n"
     ]
    }
   ],
   "source": [
    "#creating age groups based on Generations (Source: https://www.beresfordresearch.com/age-range-by-generation/)\n",
    "df_high.loc[df_high['age'] < 24, 'Generation'] = 'Gen_Z'\n",
    "df_high.loc[(df_high['age'] >= 25) & (df_high['age'] <= 40), 'Generation'] = 'Millennials'\n",
    "df_high.loc[(df_high['age'] >= 41) & (df_high['age'] <= 56), 'Generation'] = 'Gen_X'\n",
    "df_high.loc[(df_high['age'] >= 57) & (df_high['age'] <= 66), 'Generation'] = 'Boomers_II'\n",
    "df_high.loc[(df_high['age'] >= 67) & (df_high['age'] <= 75), 'Generation'] = 'Boomers_I'\n",
    "df_high.loc[(df_high['age'] >= 76) & (df_high['age'] <= 93), 'Generation'] = 'Post_War'\n",
    "df_high.loc[df_high['age'] >= 94, 'Generation'] = 'WW_II'"
   ]
  },
  {
   "cell_type": "code",
   "execution_count": 38,
   "id": "191424c7",
   "metadata": {},
   "outputs": [
    {
     "data": {
      "text/plain": [
       "Millennials    4009304\n",
       "Gen_X          3968579\n",
       "Boomers_II     2462968\n",
       "Boomers_I      2218387\n",
       "Gen_Z          1522235\n",
       "Post_War       1519167\n",
       "Name: Generation, dtype: int64"
      ]
     },
     "execution_count": 38,
     "metadata": {},
     "output_type": "execute_result"
    }
   ],
   "source": [
    "df_high['Generation'].value_counts()"
   ]
  },
  {
   "cell_type": "code",
   "execution_count": 39,
   "id": "758726b4",
   "metadata": {},
   "outputs": [
    {
     "data": {
      "text/plain": [
       "15942279"
      ]
     },
     "execution_count": 39,
     "metadata": {},
     "output_type": "execute_result"
    }
   ],
   "source": [
    "# Verifing proper attachment\n",
    "len(df_high['Generation'])"
   ]
  },
  {
   "cell_type": "code",
   "execution_count": 40,
   "id": "e95c1a60",
   "metadata": {},
   "outputs": [
    {
     "data": {
      "text/plain": [
       "15942279"
      ]
     },
     "execution_count": 40,
     "metadata": {},
     "output_type": "execute_result"
    }
   ],
   "source": [
    "len(df_high['age'])"
   ]
  },
  {
   "cell_type": "code",
   "execution_count": 41,
   "id": "866f5aa7",
   "metadata": {},
   "outputs": [],
   "source": [
    "# Create Crosstab between generations and spending flags\n",
    "crosstab_generation_spending = pd.crosstab(df_high['Generation'], df_high['spending_flag'], dropna = False)"
   ]
  },
  {
   "cell_type": "code",
   "execution_count": 42,
   "id": "836789c3",
   "metadata": {},
   "outputs": [
    {
     "data": {
      "text/html": [
       "<div>\n",
       "<style scoped>\n",
       "    .dataframe tbody tr th:only-of-type {\n",
       "        vertical-align: middle;\n",
       "    }\n",
       "\n",
       "    .dataframe tbody tr th {\n",
       "        vertical-align: top;\n",
       "    }\n",
       "\n",
       "    .dataframe thead th {\n",
       "        text-align: right;\n",
       "    }\n",
       "</style>\n",
       "<table border=\"1\" class=\"dataframe\">\n",
       "  <thead>\n",
       "    <tr style=\"text-align: right;\">\n",
       "      <th>spending_flag</th>\n",
       "      <th>High Spender</th>\n",
       "      <th>Low Spender</th>\n",
       "    </tr>\n",
       "    <tr>\n",
       "      <th>Generation</th>\n",
       "      <th></th>\n",
       "      <th></th>\n",
       "    </tr>\n",
       "  </thead>\n",
       "  <tbody>\n",
       "    <tr>\n",
       "      <th>Boomers_I</th>\n",
       "      <td>86712</td>\n",
       "      <td>2131675</td>\n",
       "    </tr>\n",
       "    <tr>\n",
       "      <th>Boomers_II</th>\n",
       "      <td>93543</td>\n",
       "      <td>2369425</td>\n",
       "    </tr>\n",
       "    <tr>\n",
       "      <th>Gen_X</th>\n",
       "      <td>155662</td>\n",
       "      <td>3812917</td>\n",
       "    </tr>\n",
       "    <tr>\n",
       "      <th>Gen_Z</th>\n",
       "      <td>46480</td>\n",
       "      <td>1475755</td>\n",
       "    </tr>\n",
       "    <tr>\n",
       "      <th>Millennials</th>\n",
       "      <td>146068</td>\n",
       "      <td>3863236</td>\n",
       "    </tr>\n",
       "    <tr>\n",
       "      <th>Post_War</th>\n",
       "      <td>57150</td>\n",
       "      <td>1462017</td>\n",
       "    </tr>\n",
       "  </tbody>\n",
       "</table>\n",
       "</div>"
      ],
      "text/plain": [
       "spending_flag  High Spender  Low Spender\n",
       "Generation                              \n",
       "Boomers_I             86712      2131675\n",
       "Boomers_II            93543      2369425\n",
       "Gen_X                155662      3812917\n",
       "Gen_Z                 46480      1475755\n",
       "Millennials          146068      3863236\n",
       "Post_War              57150      1462017"
      ]
     },
     "execution_count": 42,
     "metadata": {},
     "output_type": "execute_result"
    }
   ],
   "source": [
    "crosstab_generation_spending"
   ]
  },
  {
   "cell_type": "code",
   "execution_count": 43,
   "id": "43969fad",
   "metadata": {},
   "outputs": [],
   "source": [
    "# Export crosstab to Excel\n",
    "crosstab_generation_spending.to_clipboard()"
   ]
  },
  {
   "cell_type": "code",
   "execution_count": 44,
   "id": "0e63b51a",
   "metadata": {},
   "outputs": [
    {
     "data": {
      "text/plain": [
       "married                             11209898\n",
       "single                               2581746\n",
       "divorced/widowed                     1358981\n",
       "living with parents and siblings      791654\n",
       "Name: fam_status, dtype: int64"
      ]
     },
     "execution_count": 44,
     "metadata": {},
     "output_type": "execute_result"
    }
   ],
   "source": [
    "# Exploring correlation with regards to family status\n",
    "df_high['fam_status'].value_counts()"
   ]
  },
  {
   "cell_type": "code",
   "execution_count": 45,
   "id": "a0625847",
   "metadata": {},
   "outputs": [],
   "source": [
    "crosstab_fam_generation = pd.crosstab(df_high['Generation'], df_high['fam_status'], dropna = False)"
   ]
  },
  {
   "cell_type": "code",
   "execution_count": 46,
   "id": "dabb71c2",
   "metadata": {},
   "outputs": [
    {
     "data": {
      "text/html": [
       "<div>\n",
       "<style scoped>\n",
       "    .dataframe tbody tr th:only-of-type {\n",
       "        vertical-align: middle;\n",
       "    }\n",
       "\n",
       "    .dataframe tbody tr th {\n",
       "        vertical-align: top;\n",
       "    }\n",
       "\n",
       "    .dataframe thead th {\n",
       "        text-align: right;\n",
       "    }\n",
       "</style>\n",
       "<table border=\"1\" class=\"dataframe\">\n",
       "  <thead>\n",
       "    <tr style=\"text-align: right;\">\n",
       "      <th>fam_status</th>\n",
       "      <th>divorced/widowed</th>\n",
       "      <th>living with parents and siblings</th>\n",
       "      <th>married</th>\n",
       "      <th>single</th>\n",
       "    </tr>\n",
       "    <tr>\n",
       "      <th>Generation</th>\n",
       "      <th></th>\n",
       "      <th></th>\n",
       "      <th></th>\n",
       "      <th></th>\n",
       "    </tr>\n",
       "  </thead>\n",
       "  <tbody>\n",
       "    <tr>\n",
       "      <th>Boomers_I</th>\n",
       "      <td>538463</td>\n",
       "      <td>0</td>\n",
       "      <td>1679924</td>\n",
       "      <td>0</td>\n",
       "    </tr>\n",
       "    <tr>\n",
       "      <th>Boomers_II</th>\n",
       "      <td>425048</td>\n",
       "      <td>0</td>\n",
       "      <td>1854435</td>\n",
       "      <td>183485</td>\n",
       "    </tr>\n",
       "    <tr>\n",
       "      <th>Gen_X</th>\n",
       "      <td>0</td>\n",
       "      <td>0</td>\n",
       "      <td>3000859</td>\n",
       "      <td>967720</td>\n",
       "    </tr>\n",
       "    <tr>\n",
       "      <th>Gen_Z</th>\n",
       "      <td>0</td>\n",
       "      <td>791654</td>\n",
       "      <td>365708</td>\n",
       "      <td>364873</td>\n",
       "    </tr>\n",
       "    <tr>\n",
       "      <th>Millennials</th>\n",
       "      <td>0</td>\n",
       "      <td>0</td>\n",
       "      <td>3001540</td>\n",
       "      <td>1007764</td>\n",
       "    </tr>\n",
       "    <tr>\n",
       "      <th>Post_War</th>\n",
       "      <td>395470</td>\n",
       "      <td>0</td>\n",
       "      <td>1123697</td>\n",
       "      <td>0</td>\n",
       "    </tr>\n",
       "  </tbody>\n",
       "</table>\n",
       "</div>"
      ],
      "text/plain": [
       "fam_status   divorced/widowed  living with parents and siblings  married  \\\n",
       "Generation                                                                 \n",
       "Boomers_I              538463                                 0  1679924   \n",
       "Boomers_II             425048                                 0  1854435   \n",
       "Gen_X                       0                                 0  3000859   \n",
       "Gen_Z                       0                            791654   365708   \n",
       "Millennials                 0                                 0  3001540   \n",
       "Post_War               395470                                 0  1123697   \n",
       "\n",
       "fam_status    single  \n",
       "Generation            \n",
       "Boomers_I          0  \n",
       "Boomers_II    183485  \n",
       "Gen_X         967720  \n",
       "Gen_Z         364873  \n",
       "Millennials  1007764  \n",
       "Post_War           0  "
      ]
     },
     "execution_count": 46,
     "metadata": {},
     "output_type": "execute_result"
    }
   ],
   "source": [
    "crosstab_fam_generation"
   ]
  },
  {
   "cell_type": "code",
   "execution_count": 47,
   "id": "594c9194",
   "metadata": {},
   "outputs": [],
   "source": [
    "crosstab_fam_generation.to_clipboard()"
   ]
  },
  {
   "cell_type": "code",
   "execution_count": 48,
   "id": "1945d39e",
   "metadata": {},
   "outputs": [],
   "source": [
    "# Exploring correlation between generations and deparment ID \n",
    "crosstab_gen_dept = pd.crosstab(df_high['Generation'], df_high['department_id'], dropna = False)"
   ]
  },
  {
   "cell_type": "code",
   "execution_count": 49,
   "id": "806a0438",
   "metadata": {},
   "outputs": [
    {
     "data": {
      "text/html": [
       "<div>\n",
       "<style scoped>\n",
       "    .dataframe tbody tr th:only-of-type {\n",
       "        vertical-align: middle;\n",
       "    }\n",
       "\n",
       "    .dataframe tbody tr th {\n",
       "        vertical-align: top;\n",
       "    }\n",
       "\n",
       "    .dataframe thead th {\n",
       "        text-align: right;\n",
       "    }\n",
       "</style>\n",
       "<table border=\"1\" class=\"dataframe\">\n",
       "  <thead>\n",
       "    <tr style=\"text-align: right;\">\n",
       "      <th>department_id</th>\n",
       "      <th>1.0</th>\n",
       "      <th>2.0</th>\n",
       "      <th>3.0</th>\n",
       "      <th>4.0</th>\n",
       "      <th>5.0</th>\n",
       "      <th>6.0</th>\n",
       "      <th>7.0</th>\n",
       "      <th>8.0</th>\n",
       "      <th>9.0</th>\n",
       "      <th>10.0</th>\n",
       "      <th>...</th>\n",
       "      <th>12.0</th>\n",
       "      <th>13.0</th>\n",
       "      <th>14.0</th>\n",
       "      <th>15.0</th>\n",
       "      <th>16.0</th>\n",
       "      <th>17.0</th>\n",
       "      <th>18.0</th>\n",
       "      <th>19.0</th>\n",
       "      <th>20.0</th>\n",
       "      <th>21.0</th>\n",
       "    </tr>\n",
       "    <tr>\n",
       "      <th>Generation</th>\n",
       "      <th></th>\n",
       "      <th></th>\n",
       "      <th></th>\n",
       "      <th></th>\n",
       "      <th></th>\n",
       "      <th></th>\n",
       "      <th></th>\n",
       "      <th></th>\n",
       "      <th></th>\n",
       "      <th></th>\n",
       "      <th></th>\n",
       "      <th></th>\n",
       "      <th></th>\n",
       "      <th></th>\n",
       "      <th></th>\n",
       "      <th></th>\n",
       "      <th></th>\n",
       "      <th></th>\n",
       "      <th></th>\n",
       "      <th></th>\n",
       "      <th></th>\n",
       "    </tr>\n",
       "  </thead>\n",
       "  <tbody>\n",
       "    <tr>\n",
       "      <th>Boomers_I</th>\n",
       "      <td>155721</td>\n",
       "      <td>2259</td>\n",
       "      <td>80664</td>\n",
       "      <td>647203</td>\n",
       "      <td>9167</td>\n",
       "      <td>18619</td>\n",
       "      <td>182423</td>\n",
       "      <td>7274</td>\n",
       "      <td>59314</td>\n",
       "      <td>2294</td>\n",
       "      <td>...</td>\n",
       "      <td>49163</td>\n",
       "      <td>128678</td>\n",
       "      <td>46785</td>\n",
       "      <td>73908</td>\n",
       "      <td>372093</td>\n",
       "      <td>49960</td>\n",
       "      <td>28059</td>\n",
       "      <td>195186</td>\n",
       "      <td>72027</td>\n",
       "      <td>4757</td>\n",
       "    </tr>\n",
       "    <tr>\n",
       "      <th>Boomers_II</th>\n",
       "      <td>167909</td>\n",
       "      <td>2858</td>\n",
       "      <td>89071</td>\n",
       "      <td>722465</td>\n",
       "      <td>10851</td>\n",
       "      <td>19806</td>\n",
       "      <td>206413</td>\n",
       "      <td>6981</td>\n",
       "      <td>65516</td>\n",
       "      <td>2600</td>\n",
       "      <td>...</td>\n",
       "      <td>53794</td>\n",
       "      <td>143246</td>\n",
       "      <td>52690</td>\n",
       "      <td>78607</td>\n",
       "      <td>410226</td>\n",
       "      <td>56352</td>\n",
       "      <td>33913</td>\n",
       "      <td>218638</td>\n",
       "      <td>79383</td>\n",
       "      <td>5609</td>\n",
       "    </tr>\n",
       "    <tr>\n",
       "      <th>Gen_X</th>\n",
       "      <td>269405</td>\n",
       "      <td>4354</td>\n",
       "      <td>142870</td>\n",
       "      <td>1165001</td>\n",
       "      <td>19292</td>\n",
       "      <td>32850</td>\n",
       "      <td>331295</td>\n",
       "      <td>12226</td>\n",
       "      <td>104677</td>\n",
       "      <td>4105</td>\n",
       "      <td>...</td>\n",
       "      <td>85670</td>\n",
       "      <td>228426</td>\n",
       "      <td>85686</td>\n",
       "      <td>129974</td>\n",
       "      <td>660525</td>\n",
       "      <td>90288</td>\n",
       "      <td>53242</td>\n",
       "      <td>354587</td>\n",
       "      <td>127111</td>\n",
       "      <td>8815</td>\n",
       "    </tr>\n",
       "    <tr>\n",
       "      <th>Gen_Z</th>\n",
       "      <td>102806</td>\n",
       "      <td>1841</td>\n",
       "      <td>54468</td>\n",
       "      <td>448571</td>\n",
       "      <td>7589</td>\n",
       "      <td>12603</td>\n",
       "      <td>122478</td>\n",
       "      <td>4836</td>\n",
       "      <td>39734</td>\n",
       "      <td>1615</td>\n",
       "      <td>...</td>\n",
       "      <td>33231</td>\n",
       "      <td>87535</td>\n",
       "      <td>33767</td>\n",
       "      <td>50004</td>\n",
       "      <td>259155</td>\n",
       "      <td>33866</td>\n",
       "      <td>20795</td>\n",
       "      <td>134500</td>\n",
       "      <td>47997</td>\n",
       "      <td>3169</td>\n",
       "    </tr>\n",
       "    <tr>\n",
       "      <th>Millennials</th>\n",
       "      <td>269268</td>\n",
       "      <td>4596</td>\n",
       "      <td>145719</td>\n",
       "      <td>1177214</td>\n",
       "      <td>18027</td>\n",
       "      <td>33557</td>\n",
       "      <td>330881</td>\n",
       "      <td>11472</td>\n",
       "      <td>107089</td>\n",
       "      <td>4393</td>\n",
       "      <td>...</td>\n",
       "      <td>86650</td>\n",
       "      <td>229614</td>\n",
       "      <td>86111</td>\n",
       "      <td>132780</td>\n",
       "      <td>673565</td>\n",
       "      <td>90182</td>\n",
       "      <td>52172</td>\n",
       "      <td>358432</td>\n",
       "      <td>130838</td>\n",
       "      <td>8456</td>\n",
       "    </tr>\n",
       "    <tr>\n",
       "      <th>Post_War</th>\n",
       "      <td>105178</td>\n",
       "      <td>1527</td>\n",
       "      <td>55679</td>\n",
       "      <td>443853</td>\n",
       "      <td>6521</td>\n",
       "      <td>12598</td>\n",
       "      <td>126320</td>\n",
       "      <td>4495</td>\n",
       "      <td>39916</td>\n",
       "      <td>1606</td>\n",
       "      <td>...</td>\n",
       "      <td>32653</td>\n",
       "      <td>85951</td>\n",
       "      <td>34433</td>\n",
       "      <td>49899</td>\n",
       "      <td>251972</td>\n",
       "      <td>34211</td>\n",
       "      <td>19172</td>\n",
       "      <td>137560</td>\n",
       "      <td>50677</td>\n",
       "      <td>3361</td>\n",
       "    </tr>\n",
       "  </tbody>\n",
       "</table>\n",
       "<p>6 rows × 21 columns</p>\n",
       "</div>"
      ],
      "text/plain": [
       "department_id    1.0   2.0     3.0      4.0    5.0    6.0     7.0    8.0   \\\n",
       "Generation                                                                  \n",
       "Boomers_I      155721  2259   80664   647203   9167  18619  182423   7274   \n",
       "Boomers_II     167909  2858   89071   722465  10851  19806  206413   6981   \n",
       "Gen_X          269405  4354  142870  1165001  19292  32850  331295  12226   \n",
       "Gen_Z          102806  1841   54468   448571   7589  12603  122478   4836   \n",
       "Millennials    269268  4596  145719  1177214  18027  33557  330881  11472   \n",
       "Post_War       105178  1527   55679   443853   6521  12598  126320   4495   \n",
       "\n",
       "department_id    9.0   10.0  ...   12.0    13.0   14.0    15.0    16.0   17.0  \\\n",
       "Generation                   ...                                                \n",
       "Boomers_I       59314  2294  ...  49163  128678  46785   73908  372093  49960   \n",
       "Boomers_II      65516  2600  ...  53794  143246  52690   78607  410226  56352   \n",
       "Gen_X          104677  4105  ...  85670  228426  85686  129974  660525  90288   \n",
       "Gen_Z           39734  1615  ...  33231   87535  33767   50004  259155  33866   \n",
       "Millennials    107089  4393  ...  86650  229614  86111  132780  673565  90182   \n",
       "Post_War        39916  1606  ...  32653   85951  34433   49899  251972  34211   \n",
       "\n",
       "department_id   18.0    19.0    20.0  21.0  \n",
       "Generation                                  \n",
       "Boomers_I      28059  195186   72027  4757  \n",
       "Boomers_II     33913  218638   79383  5609  \n",
       "Gen_X          53242  354587  127111  8815  \n",
       "Gen_Z          20795  134500   47997  3169  \n",
       "Millennials    52172  358432  130838  8456  \n",
       "Post_War       19172  137560   50677  3361  \n",
       "\n",
       "[6 rows x 21 columns]"
      ]
     },
     "execution_count": 49,
     "metadata": {},
     "output_type": "execute_result"
    }
   ],
   "source": [
    "crosstab_gen_dept"
   ]
  },
  {
   "cell_type": "code",
   "execution_count": 50,
   "id": "978ae60b",
   "metadata": {},
   "outputs": [],
   "source": [
    "crosstab_gen_dept.to_clipboard()"
   ]
  },
  {
   "cell_type": "code",
   "execution_count": 51,
   "id": "2a0f7d18",
   "metadata": {},
   "outputs": [
    {
     "name": "stdout",
     "output_type": "stream",
     "text": [
      "n_dependants        0        1        2       3\n",
      "Generation                                     \n",
      "Boomers_I      538463   565098   546811  568015\n",
      "Boomers_II     608533   610871   628655  614909\n",
      "Gen_X          967720  1020576  1044349  935934\n",
      "Gen_Z          364873   398832   376287  382243\n",
      "Millennials   1007764  1013057  1005814  982669\n",
      "Post_War       395470   357537   372604  393556\n"
     ]
    }
   ],
   "source": [
    "# Exploring correlation between generations and number of dependents\n",
    "crosstab_gen_ndep = pd.crosstab(df_high['Generation'], df_high['n_dependants'], dropna = False)\n",
    "print(crosstab_gen_ndep)\n",
    "crosstab_gen_ndep.to_clipboard()"
   ]
  },
  {
   "cell_type": "code",
   "execution_count": 52,
   "id": "8819f256",
   "metadata": {},
   "outputs": [
    {
     "name": "stdout",
     "output_type": "stream",
     "text": [
      "orders_day_of_week       0       1       2       3       4       5       6\n",
      "Generation                                                                \n",
      "Boomers_I           419736  388140  287345  266026  259734  291063  306343\n",
      "Boomers_II          463030  428333  324468  292951  288655  329903  335628\n",
      "Gen_X               752861  693937  515208  472497  465113  519157  549806\n",
      "Gen_Z               285301  267490  199995  180881  180687  198654  209227\n",
      "Millennials         767203  699391  518374  475724  469853  523135  555624\n",
      "Post_War            290685  266413  198116  181015  176430  196733  209775\n"
     ]
    }
   ],
   "source": [
    "# Exploring correlation between generations and purchase days\n",
    "crosstab_gen_day = pd.crosstab(df_high['Generation'], df_high['orders_day_of_week'], dropna = False)\n",
    "print(crosstab_gen_day)\n",
    "crosstab_gen_day.to_clipboard()"
   ]
  },
  {
   "cell_type": "code",
   "execution_count": 53,
   "id": "6d47cebd",
   "metadata": {},
   "outputs": [
    {
     "name": "stderr",
     "output_type": "stream",
     "text": [
      "C:\\Users\\Thor\\anaconda3\\lib\\site-packages\\pandas\\core\\indexing.py:1599: SettingWithCopyWarning: \n",
      "A value is trying to be set on a copy of a slice from a DataFrame.\n",
      "Try using .loc[row_indexer,col_indexer] = value instead\n",
      "\n",
      "See the caveats in the documentation: https://pandas.pydata.org/pandas-docs/stable/user_guide/indexing.html#returning-a-view-versus-a-copy\n",
      "  self.obj[key] = infer_fill_value(value)\n",
      "C:\\Users\\Thor\\anaconda3\\lib\\site-packages\\pandas\\core\\indexing.py:1720: SettingWithCopyWarning: \n",
      "A value is trying to be set on a copy of a slice from a DataFrame.\n",
      "Try using .loc[row_indexer,col_indexer] = value instead\n",
      "\n",
      "See the caveats in the documentation: https://pandas.pydata.org/pandas-docs/stable/user_guide/indexing.html#returning-a-view-versus-a-copy\n",
      "  self._setitem_single_column(loc, value, pi)\n",
      "C:\\Users\\Thor\\anaconda3\\lib\\site-packages\\pandas\\core\\indexing.py:1720: SettingWithCopyWarning: \n",
      "A value is trying to be set on a copy of a slice from a DataFrame.\n",
      "Try using .loc[row_indexer,col_indexer] = value instead\n",
      "\n",
      "See the caveats in the documentation: https://pandas.pydata.org/pandas-docs/stable/user_guide/indexing.html#returning-a-view-versus-a-copy\n",
      "  self._setitem_single_column(loc, value, pi)\n",
      "C:\\Users\\Thor\\anaconda3\\lib\\site-packages\\pandas\\core\\indexing.py:1720: SettingWithCopyWarning: \n",
      "A value is trying to be set on a copy of a slice from a DataFrame.\n",
      "Try using .loc[row_indexer,col_indexer] = value instead\n",
      "\n",
      "See the caveats in the documentation: https://pandas.pydata.org/pandas-docs/stable/user_guide/indexing.html#returning-a-view-versus-a-copy\n",
      "  self._setitem_single_column(loc, value, pi)\n",
      "C:\\Users\\Thor\\anaconda3\\lib\\site-packages\\pandas\\core\\indexing.py:1720: SettingWithCopyWarning: \n",
      "A value is trying to be set on a copy of a slice from a DataFrame.\n",
      "Try using .loc[row_indexer,col_indexer] = value instead\n",
      "\n",
      "See the caveats in the documentation: https://pandas.pydata.org/pandas-docs/stable/user_guide/indexing.html#returning-a-view-versus-a-copy\n",
      "  self._setitem_single_column(loc, value, pi)\n",
      "C:\\Users\\Thor\\anaconda3\\lib\\site-packages\\pandas\\core\\indexing.py:1720: SettingWithCopyWarning: \n",
      "A value is trying to be set on a copy of a slice from a DataFrame.\n",
      "Try using .loc[row_indexer,col_indexer] = value instead\n",
      "\n",
      "See the caveats in the documentation: https://pandas.pydata.org/pandas-docs/stable/user_guide/indexing.html#returning-a-view-versus-a-copy\n",
      "  self._setitem_single_column(loc, value, pi)\n",
      "C:\\Users\\Thor\\anaconda3\\lib\\site-packages\\pandas\\core\\indexing.py:1720: SettingWithCopyWarning: \n",
      "A value is trying to be set on a copy of a slice from a DataFrame.\n",
      "Try using .loc[row_indexer,col_indexer] = value instead\n",
      "\n",
      "See the caveats in the documentation: https://pandas.pydata.org/pandas-docs/stable/user_guide/indexing.html#returning-a-view-versus-a-copy\n",
      "  self._setitem_single_column(loc, value, pi)\n"
     ]
    }
   ],
   "source": [
    "# Creating filter for income brackets\n",
    "\n",
    "df_high.loc[df_high['income'] < 100000, 'income_range'] = '0 - 100k'\n",
    "df_high.loc[(df_high['income'] >= 100000) & (df_high['income'] < 200000), 'income_range'] = '100-200k'\n",
    "df_high.loc[(df_high['income'] >= 200000) & (df_high['income'] < 300000), 'income_range'] = '200-300k'\n",
    "df_high.loc[(df_high['income'] >= 300000) & (df_high['income'] < 400000), 'income_range'] = '300-400k'\n",
    "df_high.loc[(df_high['income'] >= 400000) & (df_high['income'] < 500000), 'income_range'] = '400-500k'\n",
    "df_high.loc[df_high['income'] >= 500000, 'income_range'] = 'Over 500k'"
   ]
  },
  {
   "cell_type": "code",
   "execution_count": 54,
   "id": "d69454cb",
   "metadata": {},
   "outputs": [
    {
     "data": {
      "text/plain": [
       "0 - 100k     9085710\n",
       "100-200k     6767862\n",
       "200-300k       55906\n",
       "300-400k       14702\n",
       "400-500k       12066\n",
       "Over 500k       6033\n",
       "Name: income_range, dtype: int64"
      ]
     },
     "execution_count": 54,
     "metadata": {},
     "output_type": "execute_result"
    }
   ],
   "source": [
    "df_high['income_range'].value_counts()"
   ]
  },
  {
   "cell_type": "code",
   "execution_count": 55,
   "id": "3804da73",
   "metadata": {},
   "outputs": [
    {
     "name": "stdout",
     "output_type": "stream",
     "text": [
      "income_range  0 - 100k  100-200k  200-300k  300-400k  400-500k  Over 500k\n",
      "Generation                                                               \n",
      "Boomers_I       726918   1475750      7866      1494      4264       2095\n",
      "Boomers_II      857653   1586339     10306      3726      3109       1835\n",
      "Gen_X          1367303   2572953     20503      3354      2785       1681\n",
      "Gen_Z          1475582     41353      2314      2986         0          0\n",
      "Millennials    3904280     97628      4977      2419         0          0\n",
      "Post_War        518156    988658      9812       211      1908        422\n"
     ]
    }
   ],
   "source": [
    "# Exploring correlation between generations and income\n",
    "crosstab_gen_income = pd.crosstab(df_high['Generation'], df_high['income_range'], dropna = False)\n",
    "print(crosstab_gen_income)\n",
    "crosstab_gen_income.to_clipboard()"
   ]
  },
  {
   "cell_type": "code",
   "execution_count": 56,
   "id": "876a00f3",
   "metadata": {},
   "outputs": [
    {
     "name": "stdout",
     "output_type": "stream",
     "text": [
      "department_id    1.0    2.0     3.0      4.0    5.0    6.0     7.0    8.0   \\\n",
      "income_range                                                                 \n",
      "0 - 100k       614710  10634  328092  2653165  40072  74761  761144  27669   \n",
      "100-200k       465486   7046  245510  2000502  31199  56378  551424  20173   \n",
      "200-300k         4102     61    2150    14120    831    427    4307    238   \n",
      "300-400k         1242     16     766     3469    120    116    1262     24   \n",
      "400-500k          905     11     447     3009    321     95    1099     13   \n",
      "Over 500k         438      9     284     1364     75     66     503      9   \n",
      "\n",
      "department_id    9.0    10.0  ...    12.0    13.0    14.0    15.0     16.0  \\\n",
      "income_range                  ...                                            \n",
      "0 - 100k       238256  10136  ...  194411  518798  198453  295167  1515288   \n",
      "100-200k       181819   6703  ...  150271  393228  144052  224744  1136283   \n",
      "200-300k         1548     24  ...    1079    3379    1484    2015     9492   \n",
      "300-400k          446      3  ...     319    1012     309     575     2376   \n",
      "400-500k          356      7  ...     327     713     238     423     2239   \n",
      "Over 500k         200      2  ...     168     402     112     268     1040   \n",
      "\n",
      "department_id    17.0    18.0    19.0    20.0   21.0  \n",
      "income_range                                          \n",
      "0 - 100k       208309  119918  831324  293101  19692  \n",
      "100-200k       149310   89502  581219  220001  14881  \n",
      "200-300k         1779     739    5240    1939     66  \n",
      "300-400k          578     267    1119     402     15  \n",
      "400-500k          328     131     918     317     23  \n",
      "Over 500k         172      58     569     221      6  \n",
      "\n",
      "[6 rows x 21 columns]\n"
     ]
    }
   ],
   "source": [
    "# Exploring correlation between department and income\n",
    "crosstab_dep_income = pd.crosstab(df_high['income_range'], df_high['department_id'], dropna = False)\n",
    "print(crosstab_dep_income)\n",
    "crosstab_dep_income.to_clipboard()"
   ]
  },
  {
   "cell_type": "code",
   "execution_count": 57,
   "id": "b8bdba4b",
   "metadata": {},
   "outputs": [
    {
     "name": "stdout",
     "output_type": "stream",
     "text": [
      "department_id       1.0   2.0    3.0     4.0   5.0    6.0     7.0   8.0   \\\n",
      "order_time_of_day                                                          \n",
      "0                   7353   122   3592   32903   249    933    8244   344   \n",
      "1                   4109    65   1754   16971   129    494    4725   200   \n",
      "2                   2473    53   1052    9453    84    268    2999   122   \n",
      "3                   1972    37    875    7027   102    239    2250   103   \n",
      "4                   1974    24    947    7498    84    231    2267   120   \n",
      "5                   3048    49   1527   12845   146    332    3667   136   \n",
      "6                   9452   159   5472   42768   324   1077   11238   468   \n",
      "7                  27793   435  16961  133813   957   3082   33765  1128   \n",
      "8                  51410   890  31754  254932  2578   6164   69265  2092   \n",
      "9                  71633  1346  44366  352361  4816   8981  108442  3331   \n",
      "10                 82850  1445  48586  395174  6350  11080  120457  3800   \n",
      "11                 87517  1478  48637  395535  6629  11453  114882  3927   \n",
      "12                 86916  1446  46529  379564  6390  11215  105133  4073   \n",
      "13                 89110  1489  47372  383855  6671  11365  107310  3977   \n",
      "14                 91105  1498  48086  385976  7232  11218  108963  4000   \n",
      "15                 91997  1504  48443  382449  7030  11414  107539  3937   \n",
      "16                 88839  1319  45642  361171  6785  10840  102842  3958   \n",
      "17                 78311  1233  37620  293169  5732   8705   86423  3544   \n",
      "18                 63110   966  28785  226243  3949   6481   67506  3002   \n",
      "19                 48724   771  22101  175420  2846   4853   51793  2293   \n",
      "20                 35720   549  16634  141886  1570   3787   36955  1528   \n",
      "21                 26846   416  13323  122717   894   3179   27210   870   \n",
      "22                 21063   288  10585   99804   659   2731   21391   674   \n",
      "23                 13558   195   6606   62095   412   1721   14473   499   \n",
      "\n",
      "department_id       9.0   10.0  ...   12.0   13.0   14.0   15.0    16.0  \\\n",
      "order_time_of_day               ...                                       \n",
      "0                   2800   104  ...   2252   6569   2083   3490   16784   \n",
      "1                   1426    45  ...   1134   3437   1092   1866    8534   \n",
      "2                    830    27  ...    696   2009    669   1126    5122   \n",
      "3                    586    26  ...    529   1565    518    812    3877   \n",
      "4                    688    20  ...    572   1556    494    909    3979   \n",
      "5                   1072    37  ...    951   2427    975   1418    7136   \n",
      "6                   3815   156  ...   3117   7787   3301   4395   25299   \n",
      "7                  11522   457  ...   9712  23831  10674  13063   79066   \n",
      "8                  21438   938  ...  18241  46591  20265  26410  152240   \n",
      "9                  29266  1365  ...  24781  66639  28773  36999  213468   \n",
      "10                 33803  1509  ...  28028  78025  30636  44177  232274   \n",
      "11                 35749  1435  ...  29698  79538  29169  45980  224720   \n",
      "12                 34916  1309  ...  28926  76179  26414  44741  210472   \n",
      "13                 36084  1355  ...  29043  77743  26970  45274  213560   \n",
      "14                 36300  1330  ...  29466  77436  27750  44917  217235   \n",
      "15                 35659  1374  ...  29724  76026  27170  43865  215862   \n",
      "16                 33885  1248  ...  27605  70114  26187  41109  204800   \n",
      "17                 28095  1045  ...  22588  58684  21371  33101  167562   \n",
      "18                 21344   797  ...  17692  45274  16804  24927  131564   \n",
      "19                 16321   670  ...  12780  35233  13342  19597  101459   \n",
      "20                 12567   561  ...  10015  27472  10487  15006   79953   \n",
      "21                 10571   483  ...   8347  22929   8661  12963   66527   \n",
      "22                  8686   350  ...   6521  18619   6555  10746   52838   \n",
      "23                  5202   234  ...   4157  11849   4288   6301   32387   \n",
      "\n",
      "department_id       17.0   18.0    19.0   20.0  21.0  \n",
      "order_time_of_day                                     \n",
      "0                   2357   1094    8445   3420   273  \n",
      "1                   1403    614    4389   1836   144  \n",
      "2                    894    319    2685   1058    88  \n",
      "3                    751    249    2068    778    69  \n",
      "4                    764    261    1956    774    83  \n",
      "5                   1166    504    3239   1337   100  \n",
      "6                   3459   2577   11520   4296   301  \n",
      "7                  10170   8457   36178  13442   947  \n",
      "8                  19246  14603   75107  26353  1741  \n",
      "9                  27706  16944  114929  38347  2469  \n",
      "10                 31088  16957  129429  43558  2966  \n",
      "11                 31551  16299  126357  44085  2992  \n",
      "12                 29670  15424  115193  42216  2755  \n",
      "13                 29458  16554  116184  41979  2830  \n",
      "14                 29420  17117  118624  42991  2878  \n",
      "15                 27862  15724  116262  42975  2904  \n",
      "16                 26776  14926  111089  41273  2644  \n",
      "17                 23128  11787   91106  34730  2237  \n",
      "18                 18719   9255   69147  27152  1855  \n",
      "19                 14871   7712   53016  20055  1372  \n",
      "20                 11124   7915   40303  14879  1019  \n",
      "21                  8339   7212   31887  12211   846  \n",
      "22                  6368   5352   25289   9912   718  \n",
      "23                  4186   2759   15987   6324   452  \n",
      "\n",
      "[24 rows x 21 columns]\n"
     ]
    }
   ],
   "source": [
    "# Exploring correlation between department and time of order\n",
    "crosstab_dep_time = pd.crosstab(df_high['order_time_of_day'], df_high['department_id'], dropna = False)\n",
    "print(crosstab_dep_time)\n",
    "crosstab_dep_time.to_clipboard()"
   ]
  },
  {
   "cell_type": "code",
   "execution_count": 58,
   "id": "2cd08bbd",
   "metadata": {},
   "outputs": [
    {
     "name": "stdout",
     "output_type": "stream",
     "text": [
      "Generation  Boomers_I  Boomers_II    Gen_X   Gen_Z  Millennials  Post_War\n",
      "region                                                                   \n",
      "Midwest        501359      572971   903333  342209       989275    380200\n",
      "Northeast      421638      455000   727693  253859       680227    273628\n",
      "South          676658      767575  1231984  493325      1298934    461530\n",
      "West           618732      667422  1105569  432842      1040868    403809\n"
     ]
    }
   ],
   "source": [
    "# Exploring correlation between region and generation\n",
    "crosstab_reg_gen = pd.crosstab(df_high['region'], df_high['Generation'], dropna = False)\n",
    "print(crosstab_reg_gen)\n",
    "crosstab_reg_gen.to_clipboard()"
   ]
  },
  {
   "cell_type": "code",
   "execution_count": 59,
   "id": "736c8623",
   "metadata": {},
   "outputs": [
    {
     "name": "stderr",
     "output_type": "stream",
     "text": [
      "C:\\Users\\Thor\\anaconda3\\lib\\site-packages\\pandas\\core\\indexing.py:1599: SettingWithCopyWarning: \n",
      "A value is trying to be set on a copy of a slice from a DataFrame.\n",
      "Try using .loc[row_indexer,col_indexer] = value instead\n",
      "\n",
      "See the caveats in the documentation: https://pandas.pydata.org/pandas-docs/stable/user_guide/indexing.html#returning-a-view-versus-a-copy\n",
      "  self.obj[key] = infer_fill_value(value)\n",
      "C:\\Users\\Thor\\anaconda3\\lib\\site-packages\\pandas\\core\\indexing.py:1720: SettingWithCopyWarning: \n",
      "A value is trying to be set on a copy of a slice from a DataFrame.\n",
      "Try using .loc[row_indexer,col_indexer] = value instead\n",
      "\n",
      "See the caveats in the documentation: https://pandas.pydata.org/pandas-docs/stable/user_guide/indexing.html#returning-a-view-versus-a-copy\n",
      "  self._setitem_single_column(loc, value, pi)\n",
      "C:\\Users\\Thor\\anaconda3\\lib\\site-packages\\pandas\\core\\indexing.py:1720: SettingWithCopyWarning: \n",
      "A value is trying to be set on a copy of a slice from a DataFrame.\n",
      "Try using .loc[row_indexer,col_indexer] = value instead\n",
      "\n",
      "See the caveats in the documentation: https://pandas.pydata.org/pandas-docs/stable/user_guide/indexing.html#returning-a-view-versus-a-copy\n",
      "  self._setitem_single_column(loc, value, pi)\n"
     ]
    }
   ],
   "source": [
    "# Creating filter for parental status\n",
    "\n",
    "df_high.loc[df_high['n_dependants'] > 0, 'parental_status'] = 'Parent'\n",
    "df_high.loc[df_high['n_dependants'] <= 0, 'parental_status'] = 'Not Parent'"
   ]
  },
  {
   "cell_type": "code",
   "execution_count": 60,
   "id": "b13c4816",
   "metadata": {},
   "outputs": [
    {
     "data": {
      "text/plain": [
       "Parent        12001552\n",
       "Not Parent     3940727\n",
       "Name: parental_status, dtype: int64"
      ]
     },
     "execution_count": 60,
     "metadata": {},
     "output_type": "execute_result"
    }
   ],
   "source": [
    "# Checking values of parental status flag\n",
    "df_high['parental_status'].value_counts()"
   ]
  },
  {
   "cell_type": "code",
   "execution_count": 61,
   "id": "93698f48",
   "metadata": {},
   "outputs": [
    {
     "name": "stdout",
     "output_type": "stream",
     "text": [
      "parental_status  Not Parent   Parent\n",
      "region                              \n",
      "Midwest              940767  2800446\n",
      "Northeast            718450  2141546\n",
      "South               1212205  3801717\n",
      "West                1069305  3257843\n"
     ]
    }
   ],
   "source": [
    "# Exploring correlation between region and parental status\n",
    "crosstab_reg_par = pd.crosstab(df_high['region'], df_high['parental_status'], dropna = False)\n",
    "print(crosstab_reg_par)\n",
    "crosstab_reg_par.to_clipboard()"
   ]
  },
  {
   "cell_type": "code",
   "execution_count": 62,
   "id": "bbff2a2b",
   "metadata": {},
   "outputs": [
    {
     "name": "stdout",
     "output_type": "stream",
     "text": [
      "Generation       Boomers_I  Boomers_II    Gen_X    Gen_Z  Millennials  \\\n",
      "parental_status                                                         \n",
      "Not Parent          538463      608533   967720   364873      1007764   \n",
      "Parent             1679924     1854435  3000859  1157362      3001540   \n",
      "\n",
      "Generation       Post_War  \n",
      "parental_status            \n",
      "Not Parent         395470  \n",
      "Parent            1123697  \n"
     ]
    }
   ],
   "source": [
    "# Exploring correlation between parental status and generation\n",
    "crosstab_gen_par = pd.crosstab(df_high['parental_status'], df_high['Generation'], dropna = False)\n",
    "print(crosstab_gen_par)\n",
    "crosstab_gen_par.to_clipboard()"
   ]
  },
  {
   "cell_type": "code",
   "execution_count": 63,
   "id": "ec5b3d72",
   "metadata": {},
   "outputs": [
    {
     "name": "stdout",
     "output_type": "stream",
     "text": [
      "frequency_flag  Frequent customer  Non-frequent customer  Regular customer\n",
      "income_range                                                              \n",
      "0 - 100k                  6677806                 366646           2041258\n",
      "100-200k                  4968426                 254449           1544987\n",
      "200-300k                    39409                   2366             14131\n",
      "300-400k                    11766                    178              2758\n",
      "400-500k                     8910                    302              2854\n",
      "Over 500k                    3584                    157              2292\n"
     ]
    }
   ],
   "source": [
    "# Exploring correlation between income range and frequency buying\n",
    "crosstab_income_freq = pd.crosstab(df_high['income_range'], df_high['frequency_flag'], dropna = False)\n",
    "print(crosstab_income_freq)\n",
    "crosstab_income_freq.to_clipboard()"
   ]
  },
  {
   "cell_type": "code",
   "execution_count": 64,
   "id": "7942ba51",
   "metadata": {},
   "outputs": [
    {
     "name": "stdout",
     "output_type": "stream",
     "text": [
      "income_range  0 - 100k  100-200k  200-300k  300-400k  400-500k  Over 500k\n",
      "region                                                                   \n",
      "Midwest        2150304   1575781      7434      3191      3085       1418\n",
      "Northeast      1592213   1253112     10673       647      1381       1970\n",
      "South          2888982   2092150     23055      3528      3562       2645\n",
      "West           2454211   1846819     14744      7336      4038          0\n"
     ]
    }
   ],
   "source": [
    "# Exploring correlation between income range and frequency buying\n",
    "crosstab_income_reg = pd.crosstab(df_high['region'], df_high['income_range'], dropna = False)\n",
    "print(crosstab_income_reg)\n",
    "crosstab_income_reg.to_clipboard()"
   ]
  },
  {
   "cell_type": "code",
   "execution_count": 65,
   "id": "58d23e59",
   "metadata": {},
   "outputs": [
    {
     "name": "stdout",
     "output_type": "stream",
     "text": [
      "region         Midwest  Northeast    South     West\n",
      "department_id                                      \n",
      "1.0             253627     194131   342097   297028\n",
      "2.0               4128       3180     5553     4916\n",
      "3.0             135754     102609   182702   156184\n",
      "4.0            1094622     842958  1466867  1271182\n",
      "5.0              17006      10634    23428    21550\n",
      "6.0              31170      23438    41236    35999\n",
      "7.0             311990     238271   416208   353270\n",
      "8.0              12060       8656    14367    13043\n",
      "9.0              99356      76396   131544   115329\n",
      "10.0              4012       2947     5122     4794\n",
      "11.0             51903      39117    68219    58533\n",
      "12.0             79676      63224   108281    95394\n",
      "13.0            213744     163576   291501   248711\n",
      "14.0             82950      61107   108341    92250\n",
      "15.0            123619      93991   163238   142344\n",
      "16.0            623305     476918   839858   726637\n",
      "17.0             86853      64639   113560    95424\n",
      "18.0             50252      40371    65667    54325\n",
      "19.0            333846     253034   447268   386241\n",
      "20.0            119927      91906   163259   140889\n",
      "21.0              8225       6219    10949     9290\n"
     ]
    }
   ],
   "source": [
    "# Exploring correlation between gender and frequency buying\n",
    "crosstab_dept_reg = pd.crosstab(df_high['department_id'], df_high['region'], dropna = False)\n",
    "print(crosstab_dept_reg)\n",
    "crosstab_dept_reg.to_clipboard()"
   ]
  },
  {
   "cell_type": "code",
   "execution_count": 66,
   "id": "3ce99c1e",
   "metadata": {},
   "outputs": [
    {
     "name": "stdout",
     "output_type": "stream",
     "text": [
      "price_range_loc    High-range product  Low-range product  Mid-range product\n",
      "order_time_of_day                                                          \n",
      "0                                1308              32619              71025\n",
      "1                                 680              17289              37336\n",
      "2                                 428              10197              21947\n",
      "3                                 317               7571              16981\n",
      "4                                 356               7919              17394\n",
      "5                                 569              13142              29152\n",
      "6                                1897              44277              96860\n",
      "7                                5876             136770             298934\n",
      "8                               10764             266293             576527\n",
      "9                               14612             383027             815041\n",
      "10                              16426             429272             914416\n",
      "11                              17399             425776             912487\n",
      "12                              16956             402124             867848\n",
      "13                              17170             406949             881513\n",
      "14                              17242             411554             892414\n",
      "15                              17344             406623             883098\n",
      "16                              16280             386408             837011\n",
      "17                              13038             319087             692709\n",
      "18                              10392             247401             539107\n",
      "19                               7564             191724             415789\n",
      "20                               5965             148401             322574\n",
      "21                               5023             121206             265151\n",
      "22                               3865              96644             212676\n",
      "23                               2411              60998             132802\n"
     ]
    }
   ],
   "source": [
    "# Exploring correlation between income range and frequency buying\n",
    "\n",
    "crosstab_tod_prange = pd.crosstab(df_high['order_time_of_day'], df_high['price_range_loc'], dropna = False)\n",
    "print(crosstab_tod_prange)\n",
    "crosstab_tod_prange.to_clipboard()"
   ]
  },
  {
   "cell_type": "code",
   "execution_count": 67,
   "id": "a8fd2e25",
   "metadata": {},
   "outputs": [],
   "source": [
    "df_high_prod =  df_high[df_high['price_range_loc']=='High-range product']"
   ]
  },
  {
   "cell_type": "code",
   "execution_count": 68,
   "id": "d370a964",
   "metadata": {},
   "outputs": [
    {
     "name": "stdout",
     "output_type": "stream",
     "text": [
      "price_range_loc    High-range product\n",
      "order_time_of_day                    \n",
      "0                                1308\n",
      "1                                 680\n",
      "2                                 428\n",
      "3                                 317\n",
      "4                                 356\n",
      "5                                 569\n",
      "6                                1897\n",
      "7                                5876\n",
      "8                               10764\n",
      "9                               14612\n",
      "10                              16426\n",
      "11                              17399\n",
      "12                              16956\n",
      "13                              17170\n",
      "14                              17242\n",
      "15                              17344\n",
      "16                              16280\n",
      "17                              13038\n",
      "18                              10392\n",
      "19                               7564\n",
      "20                               5965\n",
      "21                               5023\n",
      "22                               3865\n",
      "23                               2411\n"
     ]
    }
   ],
   "source": [
    "# Exploring correlation between order time of day and price range\n",
    "\n",
    "crosstab_tod_prange_high = pd.crosstab(df_high['order_time_of_day'], df_high_prod['price_range_loc'], dropna = False)\n",
    "print(crosstab_tod_prange_high)\n",
    "crosstab_tod_prange_high.to_clipboard()"
   ]
  },
  {
   "cell_type": "code",
   "execution_count": 69,
   "id": "76ef54f6",
   "metadata": {},
   "outputs": [
    {
     "name": "stdout",
     "output_type": "stream",
     "text": [
      "price_range_loc     High-range product\n",
      "orders_day_of_week                    \n",
      "0                                42581\n",
      "1                                34185\n",
      "2                                25293\n",
      "3                                22542\n",
      "4                                22582\n",
      "5                                25551\n",
      "6                                31148\n"
     ]
    }
   ],
   "source": [
    "# Exploring correlation between order day of week and price range\n",
    "\n",
    "crosstab_dow_prange_high = pd.crosstab(df_high['orders_day_of_week'], df_high_prod['price_range_loc'], dropna = False)\n",
    "print(crosstab_dow_prange_high)\n",
    "crosstab_dow_prange_high.to_clipboard()"
   ]
  },
  {
   "cell_type": "code",
   "execution_count": 70,
   "id": "055a2acb",
   "metadata": {},
   "outputs": [
    {
     "name": "stdout",
     "output_type": "stream",
     "text": [
      "price_range_loc  High-range product  Low-range product  Mid-range product\n",
      "region                                                                   \n",
      "Midwest                       46535            1170204            2521286\n",
      "Northeast                     37203             891501            1928618\n",
      "South                         63919            1565791            3379555\n",
      "West                          56225            1345775            2921333\n"
     ]
    }
   ],
   "source": [
    "# Exploring correlation between region and price range\n",
    "crosstab_reg_pran = pd.crosstab(df_high['region'], df_high['price_range_loc'], dropna = False)\n",
    "print(crosstab_reg_pran)\n",
    "crosstab_reg_pran.to_clipboard()"
   ]
  },
  {
   "cell_type": "code",
   "execution_count": 96,
   "id": "32069cfa",
   "metadata": {},
   "outputs": [
    {
     "name": "stdout",
     "output_type": "stream",
     "text": [
      "loyalty_flag  Loyal customer  New customer  Regular customer\n",
      "Generation                                                  \n",
      "Boomers_I            1026124         94060           1098203\n",
      "Boomers_II           1092123        106287           1264558\n",
      "Gen_X                1807150        164040           1997389\n",
      "Gen_Z                 712550         64854            744831\n",
      "Millennials          1843671        162637           2002996\n",
      "Post_War              695350         67182            756635\n"
     ]
    }
   ],
   "source": [
    "# Exploring correlation between Generation and loyalty\n",
    "crosstab_gen_loyal = pd.crosstab(df_high['Generation'], df_high['loyalty_flag'], dropna = False)\n",
    "print(crosstab_gen_loyal)\n",
    "crosstab_gen_loyal.to_clipboard()"
   ]
  },
  {
   "cell_type": "code",
   "execution_count": 105,
   "id": "d3003910",
   "metadata": {},
   "outputs": [
    {
     "name": "stdout",
     "output_type": "stream",
     "text": [
      "parental_status     Not Parent   Parent\n",
      "price_range_loc                        \n",
      "High-range product       49554   154328\n",
      "Low-range product      1233488  3739783\n",
      "Mid-range product      2653887  8096905\n"
     ]
    }
   ],
   "source": [
    "# Exploring correlation between Parental status and Spending\n",
    "crosstab_parent_price = pd.crosstab(df_high['price_range_loc'], df_high['parental_status'], dropna = False)\n",
    "print(crosstab_parent_price)\n",
    "crosstab_parent_price.to_clipboard()"
   ]
  },
  {
   "cell_type": "code",
   "execution_count": 113,
   "id": "c4e0095c",
   "metadata": {},
   "outputs": [
    {
     "name": "stdout",
     "output_type": "stream",
     "text": [
      "loyalty_flag  Loyal customer  New customer  Regular customer\n",
      "region                                                      \n",
      "Midwest              1711544        153464           1876205\n",
      "Northeast            1328057        122866           1409073\n",
      "South                2297750        203983           2512189\n",
      "West                 1951954        191243           2183951\n"
     ]
    }
   ],
   "source": [
    "# Exploring correlation between region and loyalty\n",
    "crosstab_reg_loyal = pd.crosstab(df_high['region'], df_high['loyalty_flag'], dropna = False)\n",
    "print(crosstab_reg_loyal)\n",
    "crosstab_reg_loyal.to_clipboard()"
   ]
  },
  {
   "cell_type": "markdown",
   "id": "efa01b23",
   "metadata": {},
   "source": [
    "# Question 6: Create an appropriate visualization to show the distribution of profiles."
   ]
  },
  {
   "cell_type": "code",
   "execution_count": 71,
   "id": "6d0a3243",
   "metadata": {
    "scrolled": false
   },
   "outputs": [
    {
     "data": {
      "text/plain": [
       "order_id                     int64\n",
       "user_id                      int64\n",
       "order_number                 int64\n",
       "orders_day_of_week           int64\n",
       "order_time_of_day            int64\n",
       "days_since_prior_order     float64\n",
       "product_id                   int64\n",
       "add_to_cart_order            int64\n",
       "reordered                    int64\n",
       "product_name                object\n",
       "aisle_id                   float64\n",
       "department_id              float64\n",
       "prices                     float64\n",
       "price_range_loc             object\n",
       "busiest_days                object\n",
       "busiest_period_of_day       object\n",
       "max_order                    int64\n",
       "loyalty_flag                object\n",
       "spending                   float64\n",
       "spending_flag               object\n",
       "frequency                  float64\n",
       "frequency_flag              object\n",
       "surname                     object\n",
       "gender                      object\n",
       "state                       object\n",
       "age                          int64\n",
       "date_joined                 object\n",
       "n_dependants                 int64\n",
       "fam_status                  object\n",
       "income                       int64\n",
       "region                    category\n",
       "Generation                  object\n",
       "income_range                object\n",
       "parental_status             object\n",
       "dtype: object"
      ]
     },
     "execution_count": 71,
     "metadata": {},
     "output_type": "execute_result"
    }
   ],
   "source": [
    "df_high.dtypes"
   ]
  },
  {
   "cell_type": "code",
   "execution_count": 72,
   "id": "b5dd344b",
   "metadata": {},
   "outputs": [],
   "source": [
    "# Crosstab for price_range and order TOD\n",
    "\n",
    "crosstab_reg_par = pd.crosstab(df_high['order_time_of_day'], df_high['price_range_loc'], dropna = False)"
   ]
  },
  {
   "cell_type": "code",
   "execution_count": 73,
   "id": "6ee09e8c",
   "metadata": {},
   "outputs": [
    {
     "data": {
      "text/html": [
       "<div>\n",
       "<style scoped>\n",
       "    .dataframe tbody tr th:only-of-type {\n",
       "        vertical-align: middle;\n",
       "    }\n",
       "\n",
       "    .dataframe tbody tr th {\n",
       "        vertical-align: top;\n",
       "    }\n",
       "\n",
       "    .dataframe thead th {\n",
       "        text-align: right;\n",
       "    }\n",
       "</style>\n",
       "<table border=\"1\" class=\"dataframe\">\n",
       "  <thead>\n",
       "    <tr style=\"text-align: right;\">\n",
       "      <th>spending_flag</th>\n",
       "      <th>High Spender</th>\n",
       "      <th>Low Spender</th>\n",
       "    </tr>\n",
       "    <tr>\n",
       "      <th>Generation</th>\n",
       "      <th></th>\n",
       "      <th></th>\n",
       "    </tr>\n",
       "  </thead>\n",
       "  <tbody>\n",
       "    <tr>\n",
       "      <th>Boomers_I</th>\n",
       "      <td>86712</td>\n",
       "      <td>2131675</td>\n",
       "    </tr>\n",
       "    <tr>\n",
       "      <th>Boomers_II</th>\n",
       "      <td>93543</td>\n",
       "      <td>2369425</td>\n",
       "    </tr>\n",
       "    <tr>\n",
       "      <th>Gen_X</th>\n",
       "      <td>155662</td>\n",
       "      <td>3812917</td>\n",
       "    </tr>\n",
       "    <tr>\n",
       "      <th>Gen_Z</th>\n",
       "      <td>46480</td>\n",
       "      <td>1475755</td>\n",
       "    </tr>\n",
       "    <tr>\n",
       "      <th>Millennials</th>\n",
       "      <td>146068</td>\n",
       "      <td>3863236</td>\n",
       "    </tr>\n",
       "    <tr>\n",
       "      <th>Post_War</th>\n",
       "      <td>57150</td>\n",
       "      <td>1462017</td>\n",
       "    </tr>\n",
       "  </tbody>\n",
       "</table>\n",
       "</div>"
      ],
      "text/plain": [
       "spending_flag  High Spender  Low Spender\n",
       "Generation                              \n",
       "Boomers_I             86712      2131675\n",
       "Boomers_II            93543      2369425\n",
       "Gen_X                155662      3812917\n",
       "Gen_Z                 46480      1475755\n",
       "Millennials          146068      3863236\n",
       "Post_War              57150      1462017"
      ]
     },
     "execution_count": 73,
     "metadata": {},
     "output_type": "execute_result"
    }
   ],
   "source": [
    "crosstab_generation_spending"
   ]
  },
  {
   "cell_type": "code",
   "execution_count": 74,
   "id": "b25d2636",
   "metadata": {},
   "outputs": [
    {
     "data": {
      "image/png": "[encoded data removed]",
      "text/plain": [
       "<Figure size 432x288 with 1 Axes>"
      ]
     },
     "metadata": {
      "needs_background": "light"
     },
     "output_type": "display_data"
    }
   ],
   "source": [
    "# Creating a bar chart of results sorted highest to lowest\n",
    "crosstab_generation_spending_graph = crosstab_generation_spending.plot(kind='bar', stacked=True)"
   ]
  },
  {
   "cell_type": "code",
   "execution_count": 75,
   "id": "441366b9",
   "metadata": {},
   "outputs": [
    {
     "data": {
      "image/png": "[encoded data removed]",
      "text/plain": [
       "<Figure size 432x288 with 1 Axes>"
      ]
     },
     "metadata": {
      "needs_background": "light"
     },
     "output_type": "display_data"
    }
   ],
   "source": [
    "fam_generation_graph=crosstab_fam_generation.plot(kind='bar', stacked=True)"
   ]
  },
  {
   "cell_type": "code",
   "execution_count": 76,
   "id": "190c4b89",
   "metadata": {},
   "outputs": [
    {
     "data": {
      "image/png": "[encoded data removed]",
      "text/plain": [
       "<Figure size 432x288 with 1 Axes>"
      ]
     },
     "metadata": {
      "needs_background": "light"
     },
     "output_type": "display_data"
    }
   ],
   "source": [
    "crosstab_gen_par_graph = crosstab_gen_par.plot(kind='bar', stacked=True)"
   ]
  },
  {
   "cell_type": "code",
   "execution_count": 77,
   "id": "141784e8",
   "metadata": {},
   "outputs": [
    {
     "data": {
      "image/png": "[encoded data removed]",
      "text/plain": [
       "<Figure size 432x288 with 1 Axes>"
      ]
     },
     "metadata": {
      "needs_background": "light"
     },
     "output_type": "display_data"
    }
   ],
   "source": [
    "crosstab_gen_income_graph = crosstab_gen_income.plot(kind='bar', stacked=True)"
   ]
  },
  {
   "cell_type": "code",
   "execution_count": 78,
   "id": "20e167fa",
   "metadata": {},
   "outputs": [
    {
     "data": {
      "image/png": "[encoded data removed]",
      "text/plain": [
       "<Figure size 432x288 with 1 Axes>"
      ]
     },
     "metadata": {
      "needs_background": "light"
     },
     "output_type": "display_data"
    }
   ],
   "source": [
    "crosstab_income_freq_graph = crosstab_income_freq.plot(kind='bar', stacked=True)"
   ]
  },
  {
   "cell_type": "code",
   "execution_count": 79,
   "id": "1da2f80f",
   "metadata": {},
   "outputs": [
    {
     "data": {
      "image/png": "[encoded data removed]",
      "text/plain": [
       "<Figure size 432x288 with 1 Axes>"
      ]
     },
     "metadata": {
      "needs_background": "light"
     },
     "output_type": "display_data"
    }
   ],
   "source": [
    "crosstab_income_reg_graph= crosstab_income_reg.plot(kind='bar', stacked=True)"
   ]
  },
  {
   "cell_type": "code",
   "execution_count": 80,
   "id": "f60dfbac",
   "metadata": {},
   "outputs": [
    {
     "data": {
      "image/png": "[encoded data removed]",
      "text/plain": [
       "<Figure size 432x288 with 1 Axes>"
      ]
     },
     "metadata": {
      "needs_background": "light"
     },
     "output_type": "display_data"
    }
   ],
   "source": [
    "crosstab_tod_prange.plot = crosstab_tod_prange.plot.bar(stacked = True, color = ['orange', 'blue', 'red'])\n"
   ]
  },
  {
   "cell_type": "code",
   "execution_count": 81,
   "id": "c48d0765",
   "metadata": {},
   "outputs": [],
   "source": [
    "# Exporting chart time of day/prices\n",
    "crosstab_tod_prange.plot.figure.savefig(os.path.join(path, '04 Analysis', 'Visualizations', 'stacked time of day price range.png'))"
   ]
  },
  {
   "cell_type": "code",
   "execution_count": 82,
   "id": "a486eb71",
   "metadata": {},
   "outputs": [
    {
     "data": {
      "image/png": "[encoded data removed]",
      "text/plain": [
       "<Figure size 432x288 with 1 Axes>"
      ]
     },
     "metadata": {
      "needs_background": "light"
     },
     "output_type": "display_data"
    }
   ],
   "source": [
    "crosstab_tod_prange_high_line = sns.lineplot(data=crosstab_tod_prange_high, x = 'order_time_of_day', y='High-range product')"
   ]
  },
  {
   "cell_type": "code",
   "execution_count": 83,
   "id": "aa865522",
   "metadata": {},
   "outputs": [],
   "source": [
    "crosstab_tod_prange_high_line.figure.savefig(os.path.join(path, '04 Analysis', 'Visualizations', 'line high product sales.png'))"
   ]
  },
  {
   "cell_type": "code",
   "execution_count": 84,
   "id": "77219ef6",
   "metadata": {},
   "outputs": [
    {
     "data": {
      "image/png": "[encoded data removed]",
      "text/plain": [
       "<Figure size 432x288 with 1 Axes>"
      ]
     },
     "metadata": {
      "needs_background": "light"
     },
     "output_type": "display_data"
    }
   ],
   "source": [
    "crosstab_dow_prange_high_line= sns.lineplot(data=crosstab_dow_prange_high, x = 'orders_day_of_week', y='High-range product')"
   ]
  },
  {
   "cell_type": "code",
   "execution_count": 85,
   "id": "34fa0d5d",
   "metadata": {},
   "outputs": [],
   "source": [
    "crosstab_dow_prange_high_line.figure.savefig(os.path.join(path, '04 Analysis', 'Visualizations', 'line dow high item sale.png'))"
   ]
  },
  {
   "cell_type": "code",
   "execution_count": 86,
   "id": "d54ee5df",
   "metadata": {},
   "outputs": [
    {
     "data": {
      "text/plain": [
       "Mid-range product     10750792\n",
       "Low-range product      4973271\n",
       "High-range product      203882\n",
       "Name: price_range_loc, dtype: int64"
      ]
     },
     "execution_count": 86,
     "metadata": {},
     "output_type": "execute_result"
    }
   ],
   "source": [
    "# Creating a pie chart showing distrubution of price range products sold\n",
    "df_high['price_range_loc'].value_counts()"
   ]
  },
  {
   "cell_type": "code",
   "execution_count": 87,
   "id": "c94fecfa",
   "metadata": {},
   "outputs": [
    {
     "data": {
      "image/png": "[encoded data removed]",
      "text/plain": [
       "<Figure size 432x288 with 1 Axes>"
      ]
     },
     "metadata": {},
     "output_type": "display_data"
    }
   ],
   "source": [
    "# Pie chart showing the distribution of products sold by price range\n",
    "y = np.array([4973271, 10750792, 203882])\n",
    "mylabels = [\"Low-range product (>$5)\", \"Mid-range product (between $5 and $15)\", \"High-range product(>$15)\"]\n",
    "colors = ['yellowgreen', 'gold', 'lightskyblue']\n",
    "\n",
    "plt.pie(y, labels = mylabels, colors=colors, autopct='%.2f')\n",
    "\n",
    "plt.show() "
   ]
  },
  {
   "cell_type": "code",
   "execution_count": 88,
   "id": "10fd9e41",
   "metadata": {},
   "outputs": [
    {
     "data": {
      "text/plain": [
       "<AxesSubplot:xlabel='region'>"
      ]
     },
     "execution_count": 88,
     "metadata": {},
     "output_type": "execute_result"
    },
    {
     "data": {
      "image/png": "[encoded data removed]",
      "text/plain": [
       "<Figure size 432x288 with 1 Axes>"
      ]
     },
     "metadata": {
      "needs_background": "light"
     },
     "output_type": "display_data"
    }
   ],
   "source": [
    "# Price purchases by region\n",
    "crosstab_reg_pran.plot.bar(stacked = True, color = ['orange', 'blue', 'red'])"
   ]
  },
  {
   "cell_type": "code",
   "execution_count": 89,
   "id": "fc5d4b9b",
   "metadata": {},
   "outputs": [
    {
     "data": {
      "text/plain": [
       "<AxesSubplot:>"
      ]
     },
     "execution_count": 89,
     "metadata": {},
     "output_type": "execute_result"
    },
    {
     "data": {
      "image/png": "[encoded data removed]",
      "text/plain": [
       "<Figure size 432x288 with 1 Axes>"
      ]
     },
     "metadata": {
      "needs_background": "light"
     },
     "output_type": "display_data"
    }
   ],
   "source": [
    "# Sales by department\n",
    "df_high['department_id'].value_counts().plot.bar()"
   ]
  },
  {
   "cell_type": "code",
   "execution_count": 95,
   "id": "7dead113",
   "metadata": {},
   "outputs": [
    {
     "data": {
      "text/plain": [
       "<AxesSubplot:>"
      ]
     },
     "execution_count": 95,
     "metadata": {},
     "output_type": "execute_result"
    },
    {
     "data": {
      "image/png": "[encoded data removed]",
      "text/plain": [
       "<Figure size 432x288 with 1 Axes>"
      ]
     },
     "metadata": {
      "needs_background": "light"
     },
     "output_type": "display_data"
    }
   ],
   "source": [
    "# A breakdown of our customers by generation\n",
    "df_high['Generation'].value_counts().plot.bar()"
   ]
  },
  {
   "cell_type": "code",
   "execution_count": 99,
   "id": "5eb51c59",
   "metadata": {},
   "outputs": [
    {
     "data": {
      "text/plain": [
       "<AxesSubplot:xlabel='Generation'>"
      ]
     },
     "execution_count": 99,
     "metadata": {},
     "output_type": "execute_result"
    },
    {
     "data": {
      "image/png": "[encoded data removed]",
      "text/plain": [
       "<Figure size 432x288 with 1 Axes>"
      ]
     },
     "metadata": {
      "needs_background": "light"
     },
     "output_type": "display_data"
    }
   ],
   "source": [
    "# Graph showing corralation between generation and loyalty\n",
    "crosstab_gen_loyal.plot.bar(stacked=True)"
   ]
  },
  {
   "cell_type": "code",
   "execution_count": 107,
   "id": "836c5310",
   "metadata": {},
   "outputs": [
    {
     "data": {
      "text/plain": [
       "<AxesSubplot:xlabel='price_range_loc'>"
      ]
     },
     "execution_count": 107,
     "metadata": {},
     "output_type": "execute_result"
    },
    {
     "data": {
      "image/png": "[encoded data removed]",
      "text/plain": [
       "<Figure size 432x288 with 1 Axes>"
      ]
     },
     "metadata": {
      "needs_background": "light"
     },
     "output_type": "display_data"
    }
   ],
   "source": [
    "crosstab_parent_price.plot.bar()"
   ]
  },
  {
   "cell_type": "code",
   "execution_count": 108,
   "id": "2528e3cc",
   "metadata": {},
   "outputs": [
    {
     "data": {
      "text/plain": [
       "<AxesSubplot:>"
      ]
     },
     "execution_count": 108,
     "metadata": {},
     "output_type": "execute_result"
    },
    {
     "data": {
      "image/png": "[encoded data removed]",
      "text/plain": [
       "<Figure size 432x288 with 1 Axes>"
      ]
     },
     "metadata": {
      "needs_background": "light"
     },
     "output_type": "display_data"
    }
   ],
   "source": [
    "df_high['parental_status'].value_counts().plot.bar()"
   ]
  },
  {
   "cell_type": "code",
   "execution_count": 112,
   "id": "95fecc6e",
   "metadata": {},
   "outputs": [
    {
     "data": {
      "text/plain": [
       "<AxesSubplot:>"
      ]
     },
     "execution_count": 112,
     "metadata": {},
     "output_type": "execute_result"
    },
    {
     "data": {
      "image/png": "[encoded data removed]",
      "text/plain": [
       "<Figure size 432x288 with 1 Axes>"
      ]
     },
     "metadata": {
      "needs_background": "light"
     },
     "output_type": "display_data"
    }
   ],
   "source": [
    "df_high['region'].value_counts().plot.bar(color = ['blue', 'orange', 'red', 'green'])"
   ]
  },
  {
   "cell_type": "code",
   "execution_count": 116,
   "id": "9f8d0b4b",
   "metadata": {},
   "outputs": [
    {
     "data": {
      "text/plain": [
       "<AxesSubplot:xlabel='region'>"
      ]
     },
     "execution_count": 116,
     "metadata": {},
     "output_type": "execute_result"
    },
    {
     "data": {
      "image/png": "[encoded data removed]",
      "text/plain": [
       "<Figure size 432x288 with 1 Axes>"
      ]
     },
     "metadata": {
      "needs_background": "light"
     },
     "output_type": "display_data"
    }
   ],
   "source": [
    "crosstab_reg_loyal.plot.bar()"
   ]
  },
  {
   "cell_type": "markdown",
   "id": "71220920",
   "metadata": {},
   "source": [
    "# Question 7: Aggregate the max, mean, and min variables on a customer-profile level for usage frequency and expenditure."
   ]
  },
  {
   "cell_type": "code",
   "execution_count": 90,
   "id": "0e9c1f8c",
   "metadata": {},
   "outputs": [
    {
     "data": {
      "text/html": [
       "<div>\n",
       "<style scoped>\n",
       "    .dataframe tbody tr th:only-of-type {\n",
       "        vertical-align: middle;\n",
       "    }\n",
       "\n",
       "    .dataframe tbody tr th {\n",
       "        vertical-align: top;\n",
       "    }\n",
       "\n",
       "    .dataframe thead tr th {\n",
       "        text-align: left;\n",
       "    }\n",
       "\n",
       "    .dataframe thead tr:last-of-type th {\n",
       "        text-align: right;\n",
       "    }\n",
       "</style>\n",
       "<table border=\"1\" class=\"dataframe\">\n",
       "  <thead>\n",
       "    <tr>\n",
       "      <th></th>\n",
       "      <th colspan=\"3\" halign=\"left\">prices</th>\n",
       "    </tr>\n",
       "    <tr>\n",
       "      <th></th>\n",
       "      <th>mean</th>\n",
       "      <th>min</th>\n",
       "      <th>max</th>\n",
       "    </tr>\n",
       "    <tr>\n",
       "      <th>Generation</th>\n",
       "      <th></th>\n",
       "      <th></th>\n",
       "      <th></th>\n",
       "    </tr>\n",
       "  </thead>\n",
       "  <tbody>\n",
       "    <tr>\n",
       "      <th>Boomers_I</th>\n",
       "      <td>7.799040</td>\n",
       "      <td>1.0</td>\n",
       "      <td>25.0</td>\n",
       "    </tr>\n",
       "    <tr>\n",
       "      <th>Boomers_II</th>\n",
       "      <td>7.796563</td>\n",
       "      <td>1.0</td>\n",
       "      <td>25.0</td>\n",
       "    </tr>\n",
       "    <tr>\n",
       "      <th>Gen_X</th>\n",
       "      <td>7.793963</td>\n",
       "      <td>1.0</td>\n",
       "      <td>25.0</td>\n",
       "    </tr>\n",
       "    <tr>\n",
       "      <th>Gen_Z</th>\n",
       "      <td>7.803630</td>\n",
       "      <td>1.0</td>\n",
       "      <td>25.0</td>\n",
       "    </tr>\n",
       "    <tr>\n",
       "      <th>Millennials</th>\n",
       "      <td>7.791783</td>\n",
       "      <td>1.0</td>\n",
       "      <td>25.0</td>\n",
       "    </tr>\n",
       "    <tr>\n",
       "      <th>Post_War</th>\n",
       "      <td>7.777124</td>\n",
       "      <td>1.0</td>\n",
       "      <td>25.0</td>\n",
       "    </tr>\n",
       "  </tbody>\n",
       "</table>\n",
       "</div>"
      ],
      "text/plain": [
       "               prices           \n",
       "                 mean  min   max\n",
       "Generation                      \n",
       "Boomers_I    7.799040  1.0  25.0\n",
       "Boomers_II   7.796563  1.0  25.0\n",
       "Gen_X        7.793963  1.0  25.0\n",
       "Gen_Z        7.803630  1.0  25.0\n",
       "Millennials  7.791783  1.0  25.0\n",
       "Post_War     7.777124  1.0  25.0"
      ]
     },
     "execution_count": 90,
     "metadata": {},
     "output_type": "execute_result"
    }
   ],
   "source": [
    "df_high.groupby('Generation').agg({'prices': ['mean', 'min', 'max']})"
   ]
  },
  {
   "cell_type": "code",
   "execution_count": 91,
   "id": "7c38d658",
   "metadata": {},
   "outputs": [
    {
     "data": {
      "text/html": [
       "<div>\n",
       "<style scoped>\n",
       "    .dataframe tbody tr th:only-of-type {\n",
       "        vertical-align: middle;\n",
       "    }\n",
       "\n",
       "    .dataframe tbody tr th {\n",
       "        vertical-align: top;\n",
       "    }\n",
       "\n",
       "    .dataframe thead tr th {\n",
       "        text-align: left;\n",
       "    }\n",
       "\n",
       "    .dataframe thead tr:last-of-type th {\n",
       "        text-align: right;\n",
       "    }\n",
       "</style>\n",
       "<table border=\"1\" class=\"dataframe\">\n",
       "  <thead>\n",
       "    <tr>\n",
       "      <th></th>\n",
       "      <th colspan=\"3\" halign=\"left\">prices</th>\n",
       "    </tr>\n",
       "    <tr>\n",
       "      <th></th>\n",
       "      <th>mean</th>\n",
       "      <th>min</th>\n",
       "      <th>max</th>\n",
       "    </tr>\n",
       "    <tr>\n",
       "      <th>income_range</th>\n",
       "      <th></th>\n",
       "      <th></th>\n",
       "      <th></th>\n",
       "    </tr>\n",
       "  </thead>\n",
       "  <tbody>\n",
       "    <tr>\n",
       "      <th>0 - 100k</th>\n",
       "      <td>7.754052</td>\n",
       "      <td>1.0</td>\n",
       "      <td>25.0</td>\n",
       "    </tr>\n",
       "    <tr>\n",
       "      <th>100-200k</th>\n",
       "      <td>7.846839</td>\n",
       "      <td>1.0</td>\n",
       "      <td>25.0</td>\n",
       "    </tr>\n",
       "    <tr>\n",
       "      <th>200-300k</th>\n",
       "      <td>7.736479</td>\n",
       "      <td>1.0</td>\n",
       "      <td>25.0</td>\n",
       "    </tr>\n",
       "    <tr>\n",
       "      <th>300-400k</th>\n",
       "      <td>7.775227</td>\n",
       "      <td>1.0</td>\n",
       "      <td>25.0</td>\n",
       "    </tr>\n",
       "    <tr>\n",
       "      <th>400-500k</th>\n",
       "      <td>7.852087</td>\n",
       "      <td>1.0</td>\n",
       "      <td>25.0</td>\n",
       "    </tr>\n",
       "    <tr>\n",
       "      <th>Over 500k</th>\n",
       "      <td>7.919310</td>\n",
       "      <td>1.0</td>\n",
       "      <td>25.0</td>\n",
       "    </tr>\n",
       "  </tbody>\n",
       "</table>\n",
       "</div>"
      ],
      "text/plain": [
       "                prices           \n",
       "                  mean  min   max\n",
       "income_range                     \n",
       "0 - 100k      7.754052  1.0  25.0\n",
       "100-200k      7.846839  1.0  25.0\n",
       "200-300k      7.736479  1.0  25.0\n",
       "300-400k      7.775227  1.0  25.0\n",
       "400-500k      7.852087  1.0  25.0\n",
       "Over 500k     7.919310  1.0  25.0"
      ]
     },
     "execution_count": 91,
     "metadata": {},
     "output_type": "execute_result"
    }
   ],
   "source": [
    "df_high.groupby('income_range').agg({'prices': ['mean', 'min', 'max']})"
   ]
  },
  {
   "cell_type": "code",
   "execution_count": 92,
   "id": "fb17aea7",
   "metadata": {},
   "outputs": [
    {
     "data": {
      "text/html": [
       "<div>\n",
       "<style scoped>\n",
       "    .dataframe tbody tr th:only-of-type {\n",
       "        vertical-align: middle;\n",
       "    }\n",
       "\n",
       "    .dataframe tbody tr th {\n",
       "        vertical-align: top;\n",
       "    }\n",
       "\n",
       "    .dataframe thead tr th {\n",
       "        text-align: left;\n",
       "    }\n",
       "\n",
       "    .dataframe thead tr:last-of-type th {\n",
       "        text-align: right;\n",
       "    }\n",
       "</style>\n",
       "<table border=\"1\" class=\"dataframe\">\n",
       "  <thead>\n",
       "    <tr>\n",
       "      <th></th>\n",
       "      <th colspan=\"3\" halign=\"left\">prices</th>\n",
       "    </tr>\n",
       "    <tr>\n",
       "      <th></th>\n",
       "      <th>mean</th>\n",
       "      <th>min</th>\n",
       "      <th>max</th>\n",
       "    </tr>\n",
       "    <tr>\n",
       "      <th>parental_status</th>\n",
       "      <th></th>\n",
       "      <th></th>\n",
       "      <th></th>\n",
       "    </tr>\n",
       "  </thead>\n",
       "  <tbody>\n",
       "    <tr>\n",
       "      <th>Not Parent</th>\n",
       "      <td>7.782661</td>\n",
       "      <td>1.0</td>\n",
       "      <td>25.0</td>\n",
       "    </tr>\n",
       "    <tr>\n",
       "      <th>Parent</th>\n",
       "      <td>7.797108</td>\n",
       "      <td>1.0</td>\n",
       "      <td>25.0</td>\n",
       "    </tr>\n",
       "  </tbody>\n",
       "</table>\n",
       "</div>"
      ],
      "text/plain": [
       "                   prices           \n",
       "                     mean  min   max\n",
       "parental_status                     \n",
       "Not Parent       7.782661  1.0  25.0\n",
       "Parent           7.797108  1.0  25.0"
      ]
     },
     "execution_count": 92,
     "metadata": {},
     "output_type": "execute_result"
    }
   ],
   "source": [
    "df_high.groupby('parental_status').agg({'prices': ['mean', 'min', 'max']})"
   ]
  },
  {
   "cell_type": "code",
   "execution_count": 93,
   "id": "f7a18a1e",
   "metadata": {},
   "outputs": [
    {
     "data": {
      "text/html": [
       "<div>\n",
       "<style scoped>\n",
       "    .dataframe tbody tr th:only-of-type {\n",
       "        vertical-align: middle;\n",
       "    }\n",
       "\n",
       "    .dataframe tbody tr th {\n",
       "        vertical-align: top;\n",
       "    }\n",
       "\n",
       "    .dataframe thead tr th {\n",
       "        text-align: left;\n",
       "    }\n",
       "\n",
       "    .dataframe thead tr:last-of-type th {\n",
       "        text-align: right;\n",
       "    }\n",
       "</style>\n",
       "<table border=\"1\" class=\"dataframe\">\n",
       "  <thead>\n",
       "    <tr>\n",
       "      <th></th>\n",
       "      <th colspan=\"3\" halign=\"left\">prices</th>\n",
       "    </tr>\n",
       "    <tr>\n",
       "      <th></th>\n",
       "      <th>mean</th>\n",
       "      <th>min</th>\n",
       "      <th>max</th>\n",
       "    </tr>\n",
       "    <tr>\n",
       "      <th>region</th>\n",
       "      <th></th>\n",
       "      <th></th>\n",
       "      <th></th>\n",
       "    </tr>\n",
       "  </thead>\n",
       "  <tbody>\n",
       "    <tr>\n",
       "      <th>Midwest</th>\n",
       "      <td>7.786521</td>\n",
       "      <td>1.0</td>\n",
       "      <td>25.0</td>\n",
       "    </tr>\n",
       "    <tr>\n",
       "      <th>Northeast</th>\n",
       "      <td>7.794797</td>\n",
       "      <td>1.0</td>\n",
       "      <td>25.0</td>\n",
       "    </tr>\n",
       "    <tr>\n",
       "      <th>South</th>\n",
       "      <td>7.789857</td>\n",
       "      <td>1.0</td>\n",
       "      <td>25.0</td>\n",
       "    </tr>\n",
       "    <tr>\n",
       "      <th>West</th>\n",
       "      <td>7.803036</td>\n",
       "      <td>1.0</td>\n",
       "      <td>25.0</td>\n",
       "    </tr>\n",
       "  </tbody>\n",
       "</table>\n",
       "</div>"
      ],
      "text/plain": [
       "             prices           \n",
       "               mean  min   max\n",
       "region                        \n",
       "Midwest    7.786521  1.0  25.0\n",
       "Northeast  7.794797  1.0  25.0\n",
       "South      7.789857  1.0  25.0\n",
       "West       7.803036  1.0  25.0"
      ]
     },
     "execution_count": 93,
     "metadata": {},
     "output_type": "execute_result"
    }
   ],
   "source": [
    "df_high.groupby('region').agg({'prices': ['mean', 'min', 'max']})"
   ]
  },
  {
   "cell_type": "markdown",
   "id": "4f19bbdc",
   "metadata": {},
   "source": [
    "# Question 8: Compare your customer profiles with regions and departments. Can you identify a link between them? Customers may demonstrate different behaviors across regions, which could make this information important."
   ]
  },
  {
   "cell_type": "markdown",
   "id": "5335cfff",
   "metadata": {},
   "source": [
    "### Graphs and comparisons shown in attached Excel spreadsheet"
   ]
  },
  {
   "cell_type": "markdown",
   "id": "ef0bb197",
   "metadata": {},
   "source": [
    "# Question 9: Produce suitable charts to illustrate your results and export them in your project folder."
   ]
  },
  {
   "cell_type": "markdown",
   "id": "419b31ef",
   "metadata": {},
   "source": [
    "### Graphs and comparisons shown in attached Excel spreadsheet"
   ]
  },
  {
   "cell_type": "markdown",
   "id": "2dc743ad",
   "metadata": {},
   "source": [
    "# Question 10: Tidy up your script, export your final data set, and save your notebook."
   ]
  },
  {
   "cell_type": "code",
   "execution_count": null,
   "id": "6de4b256",
   "metadata": {},
   "outputs": [],
   "source": []
  }
 ],
 "metadata": {
  "kernelspec": {
   "display_name": "Python 3",
   "language": "python",
   "name": "python3"
  },
  "language_info": {
   "codemirror_mode": {
    "name": "ipython",
    "version": 3
   },
   "file_extension": ".py",
   "mimetype": "text/x-python",
   "name": "python",
   "nbconvert_exporter": "python",
   "pygments_lexer": "ipython3",
   "version": "3.8.8"
  }
 },
 "nbformat": 4,
 "nbformat_minor": 5
}

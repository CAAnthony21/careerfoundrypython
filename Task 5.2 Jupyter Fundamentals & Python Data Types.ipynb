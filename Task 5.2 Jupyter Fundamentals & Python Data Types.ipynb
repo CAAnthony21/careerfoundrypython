{
 "cells": [
  {
   "cell_type": "markdown",
   "id": "75f21af8",
   "metadata": {},
   "source": [
    "# 5.2 Jupyter Fundamentals & Python Data Types"
   ]
  },
  {
   "cell_type": "markdown",
   "id": "5379b433",
   "metadata": {},
   "source": [
    "### This script contains the following points:\n",
    "\n",
    "#### 1. Python Data Types"
   ]
  },
  {
   "cell_type": "code",
   "execution_count": 1,
   "id": "06ee4af7",
   "metadata": {},
   "outputs": [],
   "source": [
    "#Import Libraries\n",
    "import pandas as pd\n",
    "import numpy as np\n",
    "import os"
   ]
  },
  {
   "cell_type": "markdown",
   "id": "f088b414",
   "metadata": {},
   "source": [
    "## Python Data Types"
   ]
  },
  {
   "cell_type": "markdown",
   "id": "b9fdcc18",
   "metadata": {},
   "source": [
    "### Question 7: Code 3 different ways of reaching a result of 100 by adding or subtracting numeric variables.\n"
   ]
  },
  {
   "cell_type": "code",
   "execution_count": 42,
   "id": "af5ecacc",
   "metadata": {},
   "outputs": [],
   "source": [
    "#a)\n",
    "x=101\n",
    "y=1"
   ]
  },
  {
   "cell_type": "code",
   "execution_count": 43,
   "id": "09c1ab6d",
   "metadata": {},
   "outputs": [
    {
     "data": {
      "text/plain": [
       "100"
      ]
     },
     "execution_count": 43,
     "metadata": {},
     "output_type": "execute_result"
    }
   ],
   "source": [
    "x-y"
   ]
  },
  {
   "cell_type": "code",
   "execution_count": 44,
   "id": "ca83f369",
   "metadata": {},
   "outputs": [],
   "source": [
    "#b) \n",
    "x=20\n",
    "y=5"
   ]
  },
  {
   "cell_type": "code",
   "execution_count": 45,
   "id": "9ec5f0e1",
   "metadata": {},
   "outputs": [
    {
     "data": {
      "text/plain": [
       "100"
      ]
     },
     "execution_count": 45,
     "metadata": {},
     "output_type": "execute_result"
    }
   ],
   "source": [
    "x*y"
   ]
  },
  {
   "cell_type": "code",
   "execution_count": 46,
   "id": "bd3ed98f",
   "metadata": {},
   "outputs": [],
   "source": [
    "#c)\n",
    "x=300\n",
    "y=3"
   ]
  },
  {
   "cell_type": "code",
   "execution_count": 47,
   "id": "e6a5b3a9",
   "metadata": {},
   "outputs": [
    {
     "data": {
      "text/plain": [
       "100.0"
      ]
     },
     "execution_count": 47,
     "metadata": {},
     "output_type": "execute_result"
    }
   ],
   "source": [
    "x/y"
   ]
  },
  {
   "cell_type": "markdown",
   "id": "d1e7d219",
   "metadata": {},
   "source": [
    "### Question 8: Code 2 floating-point variables and divide them by each other."
   ]
  },
  {
   "cell_type": "code",
   "execution_count": 48,
   "id": "2a458a42",
   "metadata": {},
   "outputs": [],
   "source": [
    "x = 45.558\n",
    "y = 12.773"
   ]
  },
  {
   "cell_type": "code",
   "execution_count": 49,
   "id": "25b9c193",
   "metadata": {},
   "outputs": [
    {
     "data": {
      "text/plain": [
       "3.5667423471384954"
      ]
     },
     "execution_count": 49,
     "metadata": {},
     "output_type": "execute_result"
    }
   ],
   "source": [
    "x/y"
   ]
  },
  {
   "cell_type": "markdown",
   "id": "e86a4f0c",
   "metadata": {},
   "source": [
    "### Question 9: Construct a short word made of separate strings (you’ll need to concatenate some strings!)."
   ]
  },
  {
   "cell_type": "code",
   "execution_count": 50,
   "id": "88d995d4",
   "metadata": {},
   "outputs": [],
   "source": [
    "x='che'\n",
    "y='ese'"
   ]
  },
  {
   "cell_type": "code",
   "execution_count": 51,
   "id": "ec14f4b2",
   "metadata": {},
   "outputs": [
    {
     "data": {
      "text/plain": [
       "'cheese'"
      ]
     },
     "execution_count": 51,
     "metadata": {},
     "output_type": "execute_result"
    }
   ],
   "source": [
    "x+y"
   ]
  },
  {
   "cell_type": "markdown",
   "id": "aaa2a0ed",
   "metadata": {},
   "source": [
    "### Question 10: Construct 2 short sentences made of separate strings."
   ]
  },
  {
   "cell_type": "code",
   "execution_count": 52,
   "id": "21fd3bd8",
   "metadata": {},
   "outputs": [],
   "source": [
    "x='Hello, my name '\n",
    "y='is Chris!'"
   ]
  },
  {
   "cell_type": "code",
   "execution_count": 53,
   "id": "b45f1a3a",
   "metadata": {},
   "outputs": [
    {
     "data": {
      "text/plain": [
       "'Hello, my name is Chris!'"
      ]
     },
     "execution_count": 53,
     "metadata": {},
     "output_type": "execute_result"
    }
   ],
   "source": [
    "x+y"
   ]
  },
  {
   "cell_type": "markdown",
   "id": "20237f68",
   "metadata": {},
   "source": [
    "### Bonus Task: At the bottom of your file, include a command that makes a string appear 100 times."
   ]
  },
  {
   "cell_type": "code",
   "execution_count": 54,
   "id": "ce263282",
   "metadata": {},
   "outputs": [
    {
     "data": {
      "text/plain": [
       "'Hello, my name is Chris!Hello, my name is Chris!Hello, my name is Chris!Hello, my name is Chris!Hello, my name is Chris!Hello, my name is Chris!Hello, my name is Chris!Hello, my name is Chris!Hello, my name is Chris!Hello, my name is Chris!Hello, my name is Chris!Hello, my name is Chris!Hello, my name is Chris!Hello, my name is Chris!Hello, my name is Chris!Hello, my name is Chris!Hello, my name is Chris!Hello, my name is Chris!Hello, my name is Chris!Hello, my name is Chris!Hello, my name is Chris!Hello, my name is Chris!Hello, my name is Chris!Hello, my name is Chris!Hello, my name is Chris!Hello, my name is Chris!Hello, my name is Chris!Hello, my name is Chris!Hello, my name is Chris!Hello, my name is Chris!Hello, my name is Chris!Hello, my name is Chris!Hello, my name is Chris!Hello, my name is Chris!Hello, my name is Chris!Hello, my name is Chris!Hello, my name is Chris!Hello, my name is Chris!Hello, my name is Chris!Hello, my name is Chris!Hello, my name is Chris!Hello, my name is Chris!Hello, my name is Chris!Hello, my name is Chris!Hello, my name is Chris!Hello, my name is Chris!Hello, my name is Chris!Hello, my name is Chris!Hello, my name is Chris!Hello, my name is Chris!Hello, my name is Chris!Hello, my name is Chris!Hello, my name is Chris!Hello, my name is Chris!Hello, my name is Chris!Hello, my name is Chris!Hello, my name is Chris!Hello, my name is Chris!Hello, my name is Chris!Hello, my name is Chris!Hello, my name is Chris!Hello, my name is Chris!Hello, my name is Chris!Hello, my name is Chris!Hello, my name is Chris!Hello, my name is Chris!Hello, my name is Chris!Hello, my name is Chris!Hello, my name is Chris!Hello, my name is Chris!Hello, my name is Chris!Hello, my name is Chris!Hello, my name is Chris!Hello, my name is Chris!Hello, my name is Chris!Hello, my name is Chris!Hello, my name is Chris!Hello, my name is Chris!Hello, my name is Chris!Hello, my name is Chris!Hello, my name is Chris!Hello, my name is Chris!Hello, my name is Chris!Hello, my name is Chris!Hello, my name is Chris!Hello, my name is Chris!Hello, my name is Chris!Hello, my name is Chris!Hello, my name is Chris!Hello, my name is Chris!Hello, my name is Chris!Hello, my name is Chris!Hello, my name is Chris!Hello, my name is Chris!Hello, my name is Chris!Hello, my name is Chris!Hello, my name is Chris!Hello, my name is Chris!Hello, my name is Chris!Hello, my name is Chris!'"
      ]
     },
     "execution_count": 54,
     "metadata": {},
     "output_type": "execute_result"
    }
   ],
   "source": [
    "(x+y)*100"
   ]
  },
  {
   "cell_type": "code",
   "execution_count": null,
   "id": "f3736479",
   "metadata": {},
   "outputs": [],
   "source": []
  }
 ],
 "metadata": {
  "kernelspec": {
   "display_name": "Python 3",
   "language": "python",
   "name": "python3"
  },
  "language_info": {
   "codemirror_mode": {
    "name": "ipython",
    "version": 3
   },
   "file_extension": ".py",
   "mimetype": "text/x-python",
   "name": "python",
   "nbconvert_exporter": "python",
   "pygments_lexer": "ipython3",
   "version": "3.8.8"
  }
 },
 "nbformat": 4,
 "nbformat_minor": 5
}

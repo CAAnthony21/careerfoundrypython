{
 "cells": [
  {
   "cell_type": "markdown",
   "id": "84093619",
   "metadata": {},
   "source": [
    "# 5.7 Deriving New Variables"
   ]
  },
  {
   "cell_type": "markdown",
   "id": "3b5d0c0c",
   "metadata": {},
   "source": [
    "### This script contains the following points:\n",
    "\n",
    "### 1. If-Statements with User-Defined Functions\n",
    "### 2. If-Statements with the loc() Function\n",
    "### 3. If-Statements with For-Loops"
   ]
  },
  {
   "cell_type": "code",
   "execution_count": 1,
   "id": "08036d30",
   "metadata": {},
   "outputs": [],
   "source": [
    "#Import Libraries\n",
    "import pandas as pd\n",
    "import numpy as np\n",
    "import os"
   ]
  },
  {
   "cell_type": "code",
   "execution_count": 2,
   "id": "ea2add5f",
   "metadata": {},
   "outputs": [],
   "source": [
    "# Create folder path\n",
    "path = r'C:\\Users\\Thor\\OneDrive\\Desktop\\Career Foundry Tools\\Projects\\Project 5\\09-01-2021 Instacart Basket Analysis'"
   ]
  },
  {
   "cell_type": "code",
   "execution_count": 3,
   "id": "3d0f12c0",
   "metadata": {},
   "outputs": [],
   "source": [
    "# Loading orders_products_merged.pkl\n",
    "df_op_merged = pd.read_pickle(os.path.join(path, '02 Data', 'Prepared Data', 'orders_products_merged.pkl'))"
   ]
  },
  {
   "cell_type": "code",
   "execution_count": 4,
   "id": "8832273a",
   "metadata": {},
   "outputs": [],
   "source": [
    "# Load a smaller subset of the data to make it easier to work with\n",
    "df = df_op_merged[:1000000]"
   ]
  },
  {
   "cell_type": "code",
   "execution_count": 5,
   "id": "5b1a651b",
   "metadata": {},
   "outputs": [
    {
     "data": {
      "text/html": [
       "<div>\n",
       "<style scoped>\n",
       "    .dataframe tbody tr th:only-of-type {\n",
       "        vertical-align: middle;\n",
       "    }\n",
       "\n",
       "    .dataframe tbody tr th {\n",
       "        vertical-align: top;\n",
       "    }\n",
       "\n",
       "    .dataframe thead th {\n",
       "        text-align: right;\n",
       "    }\n",
       "</style>\n",
       "<table border=\"1\" class=\"dataframe\">\n",
       "  <thead>\n",
       "    <tr style=\"text-align: right;\">\n",
       "      <th></th>\n",
       "      <th>order_id</th>\n",
       "      <th>user_id</th>\n",
       "      <th>order_number</th>\n",
       "      <th>orders_day_of_week</th>\n",
       "      <th>order_time_of_day</th>\n",
       "      <th>days_since_prior_order</th>\n",
       "      <th>product_id</th>\n",
       "      <th>add_to_cart_order</th>\n",
       "      <th>reordered</th>\n",
       "      <th>_merge</th>\n",
       "      <th>product_name</th>\n",
       "      <th>aisle_id</th>\n",
       "      <th>department_id</th>\n",
       "      <th>prices</th>\n",
       "    </tr>\n",
       "  </thead>\n",
       "  <tbody>\n",
       "    <tr>\n",
       "      <th>0</th>\n",
       "      <td>2398795</td>\n",
       "      <td>1</td>\n",
       "      <td>2</td>\n",
       "      <td>3</td>\n",
       "      <td>7</td>\n",
       "      <td>15.0</td>\n",
       "      <td>196</td>\n",
       "      <td>1</td>\n",
       "      <td>1</td>\n",
       "      <td>both</td>\n",
       "      <td>Soda</td>\n",
       "      <td>77.0</td>\n",
       "      <td>7.0</td>\n",
       "      <td>9.0</td>\n",
       "    </tr>\n",
       "    <tr>\n",
       "      <th>1</th>\n",
       "      <td>2398795</td>\n",
       "      <td>1</td>\n",
       "      <td>2</td>\n",
       "      <td>3</td>\n",
       "      <td>7</td>\n",
       "      <td>15.0</td>\n",
       "      <td>10258</td>\n",
       "      <td>2</td>\n",
       "      <td>0</td>\n",
       "      <td>both</td>\n",
       "      <td>Pistachios</td>\n",
       "      <td>117.0</td>\n",
       "      <td>19.0</td>\n",
       "      <td>3.0</td>\n",
       "    </tr>\n",
       "    <tr>\n",
       "      <th>2</th>\n",
       "      <td>2398795</td>\n",
       "      <td>1</td>\n",
       "      <td>2</td>\n",
       "      <td>3</td>\n",
       "      <td>7</td>\n",
       "      <td>15.0</td>\n",
       "      <td>12427</td>\n",
       "      <td>3</td>\n",
       "      <td>1</td>\n",
       "      <td>both</td>\n",
       "      <td>Original Beef Jerky</td>\n",
       "      <td>23.0</td>\n",
       "      <td>19.0</td>\n",
       "      <td>4.4</td>\n",
       "    </tr>\n",
       "    <tr>\n",
       "      <th>3</th>\n",
       "      <td>2398795</td>\n",
       "      <td>1</td>\n",
       "      <td>2</td>\n",
       "      <td>3</td>\n",
       "      <td>7</td>\n",
       "      <td>15.0</td>\n",
       "      <td>13176</td>\n",
       "      <td>4</td>\n",
       "      <td>0</td>\n",
       "      <td>both</td>\n",
       "      <td>Bag of Organic Bananas</td>\n",
       "      <td>24.0</td>\n",
       "      <td>4.0</td>\n",
       "      <td>10.3</td>\n",
       "    </tr>\n",
       "    <tr>\n",
       "      <th>4</th>\n",
       "      <td>2398795</td>\n",
       "      <td>1</td>\n",
       "      <td>2</td>\n",
       "      <td>3</td>\n",
       "      <td>7</td>\n",
       "      <td>15.0</td>\n",
       "      <td>26088</td>\n",
       "      <td>5</td>\n",
       "      <td>1</td>\n",
       "      <td>both</td>\n",
       "      <td>Aged White Cheddar Popcorn</td>\n",
       "      <td>23.0</td>\n",
       "      <td>19.0</td>\n",
       "      <td>4.7</td>\n",
       "    </tr>\n",
       "    <tr>\n",
       "      <th>...</th>\n",
       "      <td>...</td>\n",
       "      <td>...</td>\n",
       "      <td>...</td>\n",
       "      <td>...</td>\n",
       "      <td>...</td>\n",
       "      <td>...</td>\n",
       "      <td>...</td>\n",
       "      <td>...</td>\n",
       "      <td>...</td>\n",
       "      <td>...</td>\n",
       "      <td>...</td>\n",
       "      <td>...</td>\n",
       "      <td>...</td>\n",
       "      <td>...</td>\n",
       "    </tr>\n",
       "    <tr>\n",
       "      <th>999995</th>\n",
       "      <td>1320072</td>\n",
       "      <td>6907</td>\n",
       "      <td>3</td>\n",
       "      <td>2</td>\n",
       "      <td>10</td>\n",
       "      <td>5.0</td>\n",
       "      <td>35599</td>\n",
       "      <td>4</td>\n",
       "      <td>0</td>\n",
       "      <td>both</td>\n",
       "      <td>NyQuil Cold &amp; Flu Nighttime Relief Cherry Flav...</td>\n",
       "      <td>11.0</td>\n",
       "      <td>11.0</td>\n",
       "      <td>4.7</td>\n",
       "    </tr>\n",
       "    <tr>\n",
       "      <th>999996</th>\n",
       "      <td>1320072</td>\n",
       "      <td>6907</td>\n",
       "      <td>3</td>\n",
       "      <td>2</td>\n",
       "      <td>10</td>\n",
       "      <td>5.0</td>\n",
       "      <td>9124</td>\n",
       "      <td>5</td>\n",
       "      <td>1</td>\n",
       "      <td>both</td>\n",
       "      <td>Broccoli &amp; Cheddar Bake Meal Bowl</td>\n",
       "      <td>38.0</td>\n",
       "      <td>1.0</td>\n",
       "      <td>9.0</td>\n",
       "    </tr>\n",
       "    <tr>\n",
       "      <th>999997</th>\n",
       "      <td>1320072</td>\n",
       "      <td>6907</td>\n",
       "      <td>3</td>\n",
       "      <td>2</td>\n",
       "      <td>10</td>\n",
       "      <td>5.0</td>\n",
       "      <td>38890</td>\n",
       "      <td>6</td>\n",
       "      <td>0</td>\n",
       "      <td>both</td>\n",
       "      <td>No Pulp Calcium &amp; Vitamin D Pure Premium 100% ...</td>\n",
       "      <td>98.0</td>\n",
       "      <td>7.0</td>\n",
       "      <td>1.3</td>\n",
       "    </tr>\n",
       "    <tr>\n",
       "      <th>999998</th>\n",
       "      <td>1320072</td>\n",
       "      <td>6907</td>\n",
       "      <td>3</td>\n",
       "      <td>2</td>\n",
       "      <td>10</td>\n",
       "      <td>5.0</td>\n",
       "      <td>3308</td>\n",
       "      <td>7</td>\n",
       "      <td>1</td>\n",
       "      <td>both</td>\n",
       "      <td>Original English Muffins</td>\n",
       "      <td>93.0</td>\n",
       "      <td>3.0</td>\n",
       "      <td>10.5</td>\n",
       "    </tr>\n",
       "    <tr>\n",
       "      <th>999999</th>\n",
       "      <td>1320072</td>\n",
       "      <td>6907</td>\n",
       "      <td>3</td>\n",
       "      <td>2</td>\n",
       "      <td>10</td>\n",
       "      <td>5.0</td>\n",
       "      <td>44042</td>\n",
       "      <td>8</td>\n",
       "      <td>1</td>\n",
       "      <td>both</td>\n",
       "      <td>Premium Italian Bread</td>\n",
       "      <td>112.0</td>\n",
       "      <td>3.0</td>\n",
       "      <td>8.0</td>\n",
       "    </tr>\n",
       "  </tbody>\n",
       "</table>\n",
       "<p>1000000 rows × 14 columns</p>\n",
       "</div>"
      ],
      "text/plain": [
       "        order_id  user_id  order_number  orders_day_of_week  \\\n",
       "0        2398795        1             2                   3   \n",
       "1        2398795        1             2                   3   \n",
       "2        2398795        1             2                   3   \n",
       "3        2398795        1             2                   3   \n",
       "4        2398795        1             2                   3   \n",
       "...          ...      ...           ...                 ...   \n",
       "999995   1320072     6907             3                   2   \n",
       "999996   1320072     6907             3                   2   \n",
       "999997   1320072     6907             3                   2   \n",
       "999998   1320072     6907             3                   2   \n",
       "999999   1320072     6907             3                   2   \n",
       "\n",
       "        order_time_of_day  days_since_prior_order  product_id  \\\n",
       "0                       7                    15.0         196   \n",
       "1                       7                    15.0       10258   \n",
       "2                       7                    15.0       12427   \n",
       "3                       7                    15.0       13176   \n",
       "4                       7                    15.0       26088   \n",
       "...                   ...                     ...         ...   \n",
       "999995                 10                     5.0       35599   \n",
       "999996                 10                     5.0        9124   \n",
       "999997                 10                     5.0       38890   \n",
       "999998                 10                     5.0        3308   \n",
       "999999                 10                     5.0       44042   \n",
       "\n",
       "        add_to_cart_order  reordered _merge  \\\n",
       "0                       1          1   both   \n",
       "1                       2          0   both   \n",
       "2                       3          1   both   \n",
       "3                       4          0   both   \n",
       "4                       5          1   both   \n",
       "...                   ...        ...    ...   \n",
       "999995                  4          0   both   \n",
       "999996                  5          1   both   \n",
       "999997                  6          0   both   \n",
       "999998                  7          1   both   \n",
       "999999                  8          1   both   \n",
       "\n",
       "                                             product_name  aisle_id  \\\n",
       "0                                                    Soda      77.0   \n",
       "1                                              Pistachios     117.0   \n",
       "2                                     Original Beef Jerky      23.0   \n",
       "3                                  Bag of Organic Bananas      24.0   \n",
       "4                              Aged White Cheddar Popcorn      23.0   \n",
       "...                                                   ...       ...   \n",
       "999995  NyQuil Cold & Flu Nighttime Relief Cherry Flav...      11.0   \n",
       "999996                  Broccoli & Cheddar Bake Meal Bowl      38.0   \n",
       "999997  No Pulp Calcium & Vitamin D Pure Premium 100% ...      98.0   \n",
       "999998                           Original English Muffins      93.0   \n",
       "999999                              Premium Italian Bread     112.0   \n",
       "\n",
       "        department_id  prices  \n",
       "0                 7.0     9.0  \n",
       "1                19.0     3.0  \n",
       "2                19.0     4.4  \n",
       "3                 4.0    10.3  \n",
       "4                19.0     4.7  \n",
       "...               ...     ...  \n",
       "999995           11.0     4.7  \n",
       "999996            1.0     9.0  \n",
       "999997            7.0     1.3  \n",
       "999998            3.0    10.5  \n",
       "999999            3.0     8.0  \n",
       "\n",
       "[1000000 rows x 14 columns]"
      ]
     },
     "execution_count": 5,
     "metadata": {},
     "output_type": "execute_result"
    }
   ],
   "source": [
    "df"
   ]
  },
  {
   "cell_type": "markdown",
   "id": "445f5c26",
   "metadata": {},
   "source": [
    "# If-Statements with User-Defined Functions"
   ]
  },
  {
   "cell_type": "code",
   "execution_count": 13,
   "id": "7ce502b5",
   "metadata": {},
   "outputs": [],
   "source": [
    "# define function\n",
    "def add_num(x,y):\n",
    "    sum = x+y\n",
    "    return sum"
   ]
  },
  {
   "cell_type": "code",
   "execution_count": 14,
   "id": "3722ea33",
   "metadata": {},
   "outputs": [
    {
     "data": {
      "text/plain": [
       "20"
      ]
     },
     "execution_count": 14,
     "metadata": {},
     "output_type": "execute_result"
    }
   ],
   "source": [
    "# Run function\n",
    "add_num(9,11)"
   ]
  },
  {
   "cell_type": "code",
   "execution_count": 16,
   "id": "647005a6",
   "metadata": {},
   "outputs": [
    {
     "data": {
      "text/plain": [
       "(1000000, 14)"
      ]
     },
     "execution_count": 16,
     "metadata": {},
     "output_type": "execute_result"
    }
   ],
   "source": [
    "# Making sure df has only a million rows of data\n",
    "df.shape"
   ]
  },
  {
   "cell_type": "code",
   "execution_count": 17,
   "id": "631ed405",
   "metadata": {},
   "outputs": [],
   "source": [
    "# Creating a new price label column that will apply elseif to all rows in new column\n",
    "def price_label(row):\n",
    "\n",
    "  if row['prices'] <= 5:\n",
    "    return 'Low-range product'\n",
    "  elif (row['prices'] > 5) and (row['prices'] <= 15):\n",
    "    return 'Mid-range product'\n",
    "  elif row['prices'] > 15:\n",
    "    return 'High range'\n",
    "  else: return 'Not enough data'"
   ]
  },
  {
   "cell_type": "code",
   "execution_count": 18,
   "id": "e3877b7a",
   "metadata": {},
   "outputs": [
    {
     "name": "stderr",
     "output_type": "stream",
     "text": [
      "<ipython-input-18-7d4605934d5e>:2: SettingWithCopyWarning: \n",
      "A value is trying to be set on a copy of a slice from a DataFrame.\n",
      "Try using .loc[row_indexer,col_indexer] = value instead\n",
      "\n",
      "See the caveats in the documentation: https://pandas.pydata.org/pandas-docs/stable/user_guide/indexing.html#returning-a-view-versus-a-copy\n",
      "  df['price_range'] = df.apply(price_label, axis=1)\n"
     ]
    }
   ],
   "source": [
    "# Running new function\n",
    "df['price_range'] = df.apply(price_label, axis=1)"
   ]
  },
  {
   "cell_type": "code",
   "execution_count": 20,
   "id": "31764080",
   "metadata": {},
   "outputs": [
    {
     "data": {
      "text/plain": [
       "Mid-range product    672143\n",
       "Low-range product    314646\n",
       "High range            12292\n",
       "Not enough data         919\n",
       "Name: price_range, dtype: int64"
      ]
     },
     "execution_count": 20,
     "metadata": {},
     "output_type": "execute_result"
    }
   ],
   "source": [
    "# Checking value counts of new column after running function\n",
    "df['price_range'].value_counts()"
   ]
  },
  {
   "cell_type": "code",
   "execution_count": 23,
   "id": "dfd05bf6",
   "metadata": {},
   "outputs": [
    {
     "data": {
      "text/plain": [
       "99999.0"
      ]
     },
     "execution_count": 23,
     "metadata": {},
     "output_type": "execute_result"
    }
   ],
   "source": [
    "# Checking max price to look for errors\n",
    "df['prices'].max()"
   ]
  },
  {
   "cell_type": "code",
   "execution_count": 26,
   "id": "ca8dd4a5",
   "metadata": {},
   "outputs": [
    {
     "data": {
      "text/plain": [
       "count    999081.000000\n",
       "mean         11.218849\n",
       "std         412.943054\n",
       "min           1.000000\n",
       "25%           4.200000\n",
       "50%           7.300000\n",
       "75%          11.300000\n",
       "max       99999.000000\n",
       "Name: prices, dtype: float64"
      ]
     },
     "execution_count": 26,
     "metadata": {},
     "output_type": "execute_result"
    }
   ],
   "source": [
    "df['prices'].describe()"
   ]
  },
  {
   "cell_type": "markdown",
   "id": "4c07ceb1",
   "metadata": {},
   "source": [
    "# If-Statements with the loc() Function"
   ]
  },
  {
   "cell_type": "code",
   "execution_count": 5,
   "id": "70ae5409",
   "metadata": {},
   "outputs": [],
   "source": [
    "# loc() funtion to create a new column showing all prices over 15 being labeled as 'high range product'\n",
    "df_op_merged.loc[df_op_merged['prices'] > 15, 'price_range_loc'] = 'High-range product'"
   ]
  },
  {
   "cell_type": "code",
   "execution_count": 6,
   "id": "c82403c1",
   "metadata": {},
   "outputs": [],
   "source": [
    "# loc() funtion to create a new column showing all prices over 5 but less than 15 being labeled as 'mid range product'\n",
    "df_op_merged.loc[(df_op_merged['prices'] <= 15) & (df_op_merged['prices'] > 5), 'price_range_loc'] = 'Mid-range product' "
   ]
  },
  {
   "cell_type": "code",
   "execution_count": 7,
   "id": "983dc982",
   "metadata": {},
   "outputs": [],
   "source": [
    "# loc() funtion to create a new column showing all prices less than 5 being labeled as 'low range product'\n",
    "df_op_merged.loc[df_op_merged['prices'] <= 5, 'price_range_loc'] = 'Low-range product'"
   ]
  },
  {
   "cell_type": "code",
   "execution_count": 8,
   "id": "b7ddccae",
   "metadata": {},
   "outputs": [
    {
     "data": {
      "text/plain": [
       "Mid-range product     20462144\n",
       "Low-range product      9476774\n",
       "High-range product      389845\n",
       "NaN                      28194\n",
       "Name: price_range_loc, dtype: int64"
      ]
     },
     "execution_count": 8,
     "metadata": {},
     "output_type": "execute_result"
    }
   ],
   "source": [
    "df_op_merged['price_range_loc'].value_counts(dropna=False)"
   ]
  },
  {
   "cell_type": "code",
   "execution_count": 10,
   "id": "80c7374a",
   "metadata": {
    "scrolled": true
   },
   "outputs": [
    {
     "data": {
      "text/html": [
       "<div>\n",
       "<style scoped>\n",
       "    .dataframe tbody tr th:only-of-type {\n",
       "        vertical-align: middle;\n",
       "    }\n",
       "\n",
       "    .dataframe tbody tr th {\n",
       "        vertical-align: top;\n",
       "    }\n",
       "\n",
       "    .dataframe thead th {\n",
       "        text-align: right;\n",
       "    }\n",
       "</style>\n",
       "<table border=\"1\" class=\"dataframe\">\n",
       "  <thead>\n",
       "    <tr style=\"text-align: right;\">\n",
       "      <th></th>\n",
       "      <th>order_id</th>\n",
       "      <th>user_id</th>\n",
       "      <th>order_number</th>\n",
       "      <th>orders_day_of_week</th>\n",
       "      <th>order_time_of_day</th>\n",
       "      <th>days_since_prior_order</th>\n",
       "      <th>product_id</th>\n",
       "      <th>add_to_cart_order</th>\n",
       "      <th>reordered</th>\n",
       "      <th>_merge</th>\n",
       "      <th>product_name</th>\n",
       "      <th>aisle_id</th>\n",
       "      <th>department_id</th>\n",
       "      <th>prices</th>\n",
       "      <th>price_range_loc</th>\n",
       "    </tr>\n",
       "  </thead>\n",
       "  <tbody>\n",
       "    <tr>\n",
       "      <th>0</th>\n",
       "      <td>2398795</td>\n",
       "      <td>1</td>\n",
       "      <td>2</td>\n",
       "      <td>3</td>\n",
       "      <td>7</td>\n",
       "      <td>15.0</td>\n",
       "      <td>196</td>\n",
       "      <td>1</td>\n",
       "      <td>1</td>\n",
       "      <td>both</td>\n",
       "      <td>Soda</td>\n",
       "      <td>77.0</td>\n",
       "      <td>7.0</td>\n",
       "      <td>9.0</td>\n",
       "      <td>Mid-range product</td>\n",
       "    </tr>\n",
       "    <tr>\n",
       "      <th>1</th>\n",
       "      <td>2398795</td>\n",
       "      <td>1</td>\n",
       "      <td>2</td>\n",
       "      <td>3</td>\n",
       "      <td>7</td>\n",
       "      <td>15.0</td>\n",
       "      <td>10258</td>\n",
       "      <td>2</td>\n",
       "      <td>0</td>\n",
       "      <td>both</td>\n",
       "      <td>Pistachios</td>\n",
       "      <td>117.0</td>\n",
       "      <td>19.0</td>\n",
       "      <td>3.0</td>\n",
       "      <td>Low-range product</td>\n",
       "    </tr>\n",
       "    <tr>\n",
       "      <th>2</th>\n",
       "      <td>2398795</td>\n",
       "      <td>1</td>\n",
       "      <td>2</td>\n",
       "      <td>3</td>\n",
       "      <td>7</td>\n",
       "      <td>15.0</td>\n",
       "      <td>12427</td>\n",
       "      <td>3</td>\n",
       "      <td>1</td>\n",
       "      <td>both</td>\n",
       "      <td>Original Beef Jerky</td>\n",
       "      <td>23.0</td>\n",
       "      <td>19.0</td>\n",
       "      <td>4.4</td>\n",
       "      <td>Low-range product</td>\n",
       "    </tr>\n",
       "    <tr>\n",
       "      <th>3</th>\n",
       "      <td>2398795</td>\n",
       "      <td>1</td>\n",
       "      <td>2</td>\n",
       "      <td>3</td>\n",
       "      <td>7</td>\n",
       "      <td>15.0</td>\n",
       "      <td>13176</td>\n",
       "      <td>4</td>\n",
       "      <td>0</td>\n",
       "      <td>both</td>\n",
       "      <td>Bag of Organic Bananas</td>\n",
       "      <td>24.0</td>\n",
       "      <td>4.0</td>\n",
       "      <td>10.3</td>\n",
       "      <td>Mid-range product</td>\n",
       "    </tr>\n",
       "    <tr>\n",
       "      <th>4</th>\n",
       "      <td>2398795</td>\n",
       "      <td>1</td>\n",
       "      <td>2</td>\n",
       "      <td>3</td>\n",
       "      <td>7</td>\n",
       "      <td>15.0</td>\n",
       "      <td>26088</td>\n",
       "      <td>5</td>\n",
       "      <td>1</td>\n",
       "      <td>both</td>\n",
       "      <td>Aged White Cheddar Popcorn</td>\n",
       "      <td>23.0</td>\n",
       "      <td>19.0</td>\n",
       "      <td>4.7</td>\n",
       "      <td>Low-range product</td>\n",
       "    </tr>\n",
       "  </tbody>\n",
       "</table>\n",
       "</div>"
      ],
      "text/plain": [
       "   order_id  user_id  order_number  orders_day_of_week  order_time_of_day  \\\n",
       "0   2398795        1             2                   3                  7   \n",
       "1   2398795        1             2                   3                  7   \n",
       "2   2398795        1             2                   3                  7   \n",
       "3   2398795        1             2                   3                  7   \n",
       "4   2398795        1             2                   3                  7   \n",
       "\n",
       "   days_since_prior_order  product_id  add_to_cart_order  reordered _merge  \\\n",
       "0                    15.0         196                  1          1   both   \n",
       "1                    15.0       10258                  2          0   both   \n",
       "2                    15.0       12427                  3          1   both   \n",
       "3                    15.0       13176                  4          0   both   \n",
       "4                    15.0       26088                  5          1   both   \n",
       "\n",
       "                 product_name  aisle_id  department_id  prices  \\\n",
       "0                        Soda      77.0            7.0     9.0   \n",
       "1                  Pistachios     117.0           19.0     3.0   \n",
       "2         Original Beef Jerky      23.0           19.0     4.4   \n",
       "3      Bag of Organic Bananas      24.0            4.0    10.3   \n",
       "4  Aged White Cheddar Popcorn      23.0           19.0     4.7   \n",
       "\n",
       "     price_range_loc  \n",
       "0  Mid-range product  \n",
       "1  Low-range product  \n",
       "2  Low-range product  \n",
       "3  Mid-range product  \n",
       "4  Low-range product  "
      ]
     },
     "execution_count": 10,
     "metadata": {},
     "output_type": "execute_result"
    }
   ],
   "source": [
    "df_op_merged.head()"
   ]
  },
  {
   "cell_type": "markdown",
   "id": "cff74b1f",
   "metadata": {},
   "source": [
    "# If-Statements with For-Loops"
   ]
  },
  {
   "cell_type": "code",
   "execution_count": 43,
   "id": "5d652b7b",
   "metadata": {},
   "outputs": [
    {
     "name": "stdout",
     "output_type": "stream",
     "text": [
      "My age is 30\n",
      "My age is 31\n",
      "My age is 32\n",
      "My age is 33\n",
      "My age is 34\n",
      "My age is 35\n",
      "My age is 36\n",
      "My age is 37\n",
      "My age is 38\n",
      "My age is 39\n",
      "My age is 40\n",
      "My age is 41\n",
      "My age is 42\n",
      "My age is 43\n",
      "My age is 44\n"
     ]
    }
   ],
   "source": [
    "# For loop example\n",
    "for x in range (30,45):\n",
    "    print('My age is %d'%(x))"
   ]
  },
  {
   "cell_type": "code",
   "execution_count": 44,
   "id": "058528d6",
   "metadata": {},
   "outputs": [
    {
     "data": {
      "text/plain": [
       "0    5784308\n",
       "1    5309089\n",
       "6    4194576\n",
       "5    3955888\n",
       "2    3951349\n",
       "3    3603962\n",
       "4    3557785\n",
       "Name: orders_day_of_week, dtype: int64"
      ]
     },
     "execution_count": 44,
     "metadata": {},
     "output_type": "execute_result"
    }
   ],
   "source": [
    "# Value count function to find busiest days of the week in the df\n",
    "df_op_merged['orders_day_of_week'].value_counts(dropna=False)"
   ]
  },
  {
   "cell_type": "code",
   "execution_count": 46,
   "id": "4859730d",
   "metadata": {},
   "outputs": [],
   "source": [
    "# Loop function to create a column to label day 0 as busiest day and day 4 as least busy. All other days labeled regularly busy\n",
    "result = []\n",
    "\n",
    "for value in df_op_merged[\"orders_day_of_week\"]:\n",
    "  if value == 0:\n",
    "    result.append(\"Busiest day\")\n",
    "  elif value == 4:\n",
    "    result.append(\"Least busy\")\n",
    "  else:\n",
    "    result.append(\"Regularly busy\")"
   ]
  },
  {
   "cell_type": "code",
   "execution_count": 51,
   "id": "ff23bb42",
   "metadata": {},
   "outputs": [],
   "source": [
    "df_op_merged['busiest_day'] = result"
   ]
  },
  {
   "cell_type": "code",
   "execution_count": 52,
   "id": "4c2e4a3b",
   "metadata": {},
   "outputs": [
    {
     "data": {
      "text/plain": [
       "Regularly busy    21014864\n",
       "Busiest day        5784308\n",
       "Least busy         3557785\n",
       "Name: busiest_day, dtype: int64"
      ]
     },
     "execution_count": 52,
     "metadata": {},
     "output_type": "execute_result"
    }
   ],
   "source": [
    "df_op_merged['busiest_day'].value_counts(dropna=False)"
   ]
  },
  {
   "cell_type": "code",
   "execution_count": 53,
   "id": "2eb66599",
   "metadata": {},
   "outputs": [
    {
     "data": {
      "text/html": [
       "<div>\n",
       "<style scoped>\n",
       "    .dataframe tbody tr th:only-of-type {\n",
       "        vertical-align: middle;\n",
       "    }\n",
       "\n",
       "    .dataframe tbody tr th {\n",
       "        vertical-align: top;\n",
       "    }\n",
       "\n",
       "    .dataframe thead th {\n",
       "        text-align: right;\n",
       "    }\n",
       "</style>\n",
       "<table border=\"1\" class=\"dataframe\">\n",
       "  <thead>\n",
       "    <tr style=\"text-align: right;\">\n",
       "      <th></th>\n",
       "      <th>order_id</th>\n",
       "      <th>user_id</th>\n",
       "      <th>order_number</th>\n",
       "      <th>orders_day_of_week</th>\n",
       "      <th>order_time_of_day</th>\n",
       "      <th>days_since_prior_order</th>\n",
       "      <th>product_id</th>\n",
       "      <th>add_to_cart_order</th>\n",
       "      <th>reordered</th>\n",
       "      <th>_merge</th>\n",
       "      <th>product_name</th>\n",
       "      <th>aisle_id</th>\n",
       "      <th>department_id</th>\n",
       "      <th>prices</th>\n",
       "      <th>price_range_loc</th>\n",
       "      <th>busiest_day</th>\n",
       "    </tr>\n",
       "  </thead>\n",
       "  <tbody>\n",
       "    <tr>\n",
       "      <th>0</th>\n",
       "      <td>2398795</td>\n",
       "      <td>1</td>\n",
       "      <td>2</td>\n",
       "      <td>3</td>\n",
       "      <td>7</td>\n",
       "      <td>15.0</td>\n",
       "      <td>196</td>\n",
       "      <td>1</td>\n",
       "      <td>1</td>\n",
       "      <td>both</td>\n",
       "      <td>Soda</td>\n",
       "      <td>77.0</td>\n",
       "      <td>7.0</td>\n",
       "      <td>9.0</td>\n",
       "      <td>Mid-range product</td>\n",
       "      <td>Regularly busy</td>\n",
       "    </tr>\n",
       "    <tr>\n",
       "      <th>1</th>\n",
       "      <td>2398795</td>\n",
       "      <td>1</td>\n",
       "      <td>2</td>\n",
       "      <td>3</td>\n",
       "      <td>7</td>\n",
       "      <td>15.0</td>\n",
       "      <td>10258</td>\n",
       "      <td>2</td>\n",
       "      <td>0</td>\n",
       "      <td>both</td>\n",
       "      <td>Pistachios</td>\n",
       "      <td>117.0</td>\n",
       "      <td>19.0</td>\n",
       "      <td>3.0</td>\n",
       "      <td>Low-range product</td>\n",
       "      <td>Regularly busy</td>\n",
       "    </tr>\n",
       "    <tr>\n",
       "      <th>2</th>\n",
       "      <td>2398795</td>\n",
       "      <td>1</td>\n",
       "      <td>2</td>\n",
       "      <td>3</td>\n",
       "      <td>7</td>\n",
       "      <td>15.0</td>\n",
       "      <td>12427</td>\n",
       "      <td>3</td>\n",
       "      <td>1</td>\n",
       "      <td>both</td>\n",
       "      <td>Original Beef Jerky</td>\n",
       "      <td>23.0</td>\n",
       "      <td>19.0</td>\n",
       "      <td>4.4</td>\n",
       "      <td>Low-range product</td>\n",
       "      <td>Regularly busy</td>\n",
       "    </tr>\n",
       "    <tr>\n",
       "      <th>3</th>\n",
       "      <td>2398795</td>\n",
       "      <td>1</td>\n",
       "      <td>2</td>\n",
       "      <td>3</td>\n",
       "      <td>7</td>\n",
       "      <td>15.0</td>\n",
       "      <td>13176</td>\n",
       "      <td>4</td>\n",
       "      <td>0</td>\n",
       "      <td>both</td>\n",
       "      <td>Bag of Organic Bananas</td>\n",
       "      <td>24.0</td>\n",
       "      <td>4.0</td>\n",
       "      <td>10.3</td>\n",
       "      <td>Mid-range product</td>\n",
       "      <td>Regularly busy</td>\n",
       "    </tr>\n",
       "    <tr>\n",
       "      <th>4</th>\n",
       "      <td>2398795</td>\n",
       "      <td>1</td>\n",
       "      <td>2</td>\n",
       "      <td>3</td>\n",
       "      <td>7</td>\n",
       "      <td>15.0</td>\n",
       "      <td>26088</td>\n",
       "      <td>5</td>\n",
       "      <td>1</td>\n",
       "      <td>both</td>\n",
       "      <td>Aged White Cheddar Popcorn</td>\n",
       "      <td>23.0</td>\n",
       "      <td>19.0</td>\n",
       "      <td>4.7</td>\n",
       "      <td>Low-range product</td>\n",
       "      <td>Regularly busy</td>\n",
       "    </tr>\n",
       "  </tbody>\n",
       "</table>\n",
       "</div>"
      ],
      "text/plain": [
       "   order_id  user_id  order_number  orders_day_of_week  order_time_of_day  \\\n",
       "0   2398795        1             2                   3                  7   \n",
       "1   2398795        1             2                   3                  7   \n",
       "2   2398795        1             2                   3                  7   \n",
       "3   2398795        1             2                   3                  7   \n",
       "4   2398795        1             2                   3                  7   \n",
       "\n",
       "   days_since_prior_order  product_id  add_to_cart_order  reordered _merge  \\\n",
       "0                    15.0         196                  1          1   both   \n",
       "1                    15.0       10258                  2          0   both   \n",
       "2                    15.0       12427                  3          1   both   \n",
       "3                    15.0       13176                  4          0   both   \n",
       "4                    15.0       26088                  5          1   both   \n",
       "\n",
       "                 product_name  aisle_id  department_id  prices  \\\n",
       "0                        Soda      77.0            7.0     9.0   \n",
       "1                  Pistachios     117.0           19.0     3.0   \n",
       "2         Original Beef Jerky      23.0           19.0     4.4   \n",
       "3      Bag of Organic Bananas      24.0            4.0    10.3   \n",
       "4  Aged White Cheddar Popcorn      23.0           19.0     4.7   \n",
       "\n",
       "     price_range_loc     busiest_day  \n",
       "0  Mid-range product  Regularly busy  \n",
       "1  Low-range product  Regularly busy  \n",
       "2  Low-range product  Regularly busy  \n",
       "3  Mid-range product  Regularly busy  \n",
       "4  Low-range product  Regularly busy  "
      ]
     },
     "execution_count": 53,
     "metadata": {},
     "output_type": "execute_result"
    }
   ],
   "source": [
    "df_op_merged.head()"
   ]
  },
  {
   "cell_type": "markdown",
   "id": "81ad3cdc",
   "metadata": {},
   "source": [
    "# Task 5.7"
   ]
  },
  {
   "cell_type": "markdown",
   "id": "ee98c07f",
   "metadata": {},
   "source": [
    "## Question 2: Suppose your clients have changed their minds about the labels you created in your “busiest_day” column. Now, they want “Busiest day” to become “Busiest days” (plural). This label should correspond with the two busiest days of the week as opposed to the single busiest day. At the same time, they’d also like to know the two slowest days. Create a new column for this using a suitable method."
   ]
  },
  {
   "cell_type": "code",
   "execution_count": 11,
   "id": "306a3d1f",
   "metadata": {},
   "outputs": [],
   "source": [
    "result = []\n",
    "\n",
    "for value in df_op_merged[\"orders_day_of_week\"]:\n",
    "  if value == 0:\n",
    "    result.append(\"Busiest Days\")\n",
    "  elif value == 1:\n",
    "    result.append(\"Busiest Days\")\n",
    "  elif value == 3:\n",
    "    result.append(\"Slowest Days\")\n",
    "  elif value == 4:\n",
    "    result.append(\"Slowest Days\")\n",
    "  else:\n",
    "    result.append(\"Regularly busy\")"
   ]
  },
  {
   "cell_type": "code",
   "execution_count": 12,
   "id": "5c47e729",
   "metadata": {},
   "outputs": [],
   "source": [
    "df_op_merged['busiest_days'] = result"
   ]
  },
  {
   "cell_type": "code",
   "execution_count": 13,
   "id": "c354dafc",
   "metadata": {},
   "outputs": [
    {
     "data": {
      "text/plain": [
       "Regularly busy    12101813\n",
       "Busiest Days      11093397\n",
       "Slowest Days       7161747\n",
       "Name: busiest_days, dtype: int64"
      ]
     },
     "execution_count": 13,
     "metadata": {},
     "output_type": "execute_result"
    }
   ],
   "source": [
    "df_op_merged['busiest_days'].value_counts()"
   ]
  },
  {
   "cell_type": "code",
   "execution_count": 58,
   "id": "64d7ebc6",
   "metadata": {},
   "outputs": [],
   "source": [
    "# Dropping original busiest day column to save data space and to avoid redundancy\n",
    "df_op_merged = df_op_merged.drop(columns = ['busiest_day'])"
   ]
  },
  {
   "cell_type": "code",
   "execution_count": 59,
   "id": "d5bc1b92",
   "metadata": {},
   "outputs": [
    {
     "data": {
      "text/html": [
       "<div>\n",
       "<style scoped>\n",
       "    .dataframe tbody tr th:only-of-type {\n",
       "        vertical-align: middle;\n",
       "    }\n",
       "\n",
       "    .dataframe tbody tr th {\n",
       "        vertical-align: top;\n",
       "    }\n",
       "\n",
       "    .dataframe thead th {\n",
       "        text-align: right;\n",
       "    }\n",
       "</style>\n",
       "<table border=\"1\" class=\"dataframe\">\n",
       "  <thead>\n",
       "    <tr style=\"text-align: right;\">\n",
       "      <th></th>\n",
       "      <th>order_id</th>\n",
       "      <th>user_id</th>\n",
       "      <th>order_number</th>\n",
       "      <th>orders_day_of_week</th>\n",
       "      <th>order_time_of_day</th>\n",
       "      <th>days_since_prior_order</th>\n",
       "      <th>product_id</th>\n",
       "      <th>add_to_cart_order</th>\n",
       "      <th>reordered</th>\n",
       "      <th>_merge</th>\n",
       "      <th>product_name</th>\n",
       "      <th>aisle_id</th>\n",
       "      <th>department_id</th>\n",
       "      <th>prices</th>\n",
       "      <th>price_range_loc</th>\n",
       "      <th>busiest_days</th>\n",
       "    </tr>\n",
       "  </thead>\n",
       "  <tbody>\n",
       "    <tr>\n",
       "      <th>0</th>\n",
       "      <td>2398795</td>\n",
       "      <td>1</td>\n",
       "      <td>2</td>\n",
       "      <td>3</td>\n",
       "      <td>7</td>\n",
       "      <td>15.0</td>\n",
       "      <td>196</td>\n",
       "      <td>1</td>\n",
       "      <td>1</td>\n",
       "      <td>both</td>\n",
       "      <td>Soda</td>\n",
       "      <td>77.0</td>\n",
       "      <td>7.0</td>\n",
       "      <td>9.0</td>\n",
       "      <td>Mid-range product</td>\n",
       "      <td>Slowest Days</td>\n",
       "    </tr>\n",
       "    <tr>\n",
       "      <th>1</th>\n",
       "      <td>2398795</td>\n",
       "      <td>1</td>\n",
       "      <td>2</td>\n",
       "      <td>3</td>\n",
       "      <td>7</td>\n",
       "      <td>15.0</td>\n",
       "      <td>10258</td>\n",
       "      <td>2</td>\n",
       "      <td>0</td>\n",
       "      <td>both</td>\n",
       "      <td>Pistachios</td>\n",
       "      <td>117.0</td>\n",
       "      <td>19.0</td>\n",
       "      <td>3.0</td>\n",
       "      <td>Low-range product</td>\n",
       "      <td>Slowest Days</td>\n",
       "    </tr>\n",
       "    <tr>\n",
       "      <th>2</th>\n",
       "      <td>2398795</td>\n",
       "      <td>1</td>\n",
       "      <td>2</td>\n",
       "      <td>3</td>\n",
       "      <td>7</td>\n",
       "      <td>15.0</td>\n",
       "      <td>12427</td>\n",
       "      <td>3</td>\n",
       "      <td>1</td>\n",
       "      <td>both</td>\n",
       "      <td>Original Beef Jerky</td>\n",
       "      <td>23.0</td>\n",
       "      <td>19.0</td>\n",
       "      <td>4.4</td>\n",
       "      <td>Low-range product</td>\n",
       "      <td>Slowest Days</td>\n",
       "    </tr>\n",
       "    <tr>\n",
       "      <th>3</th>\n",
       "      <td>2398795</td>\n",
       "      <td>1</td>\n",
       "      <td>2</td>\n",
       "      <td>3</td>\n",
       "      <td>7</td>\n",
       "      <td>15.0</td>\n",
       "      <td>13176</td>\n",
       "      <td>4</td>\n",
       "      <td>0</td>\n",
       "      <td>both</td>\n",
       "      <td>Bag of Organic Bananas</td>\n",
       "      <td>24.0</td>\n",
       "      <td>4.0</td>\n",
       "      <td>10.3</td>\n",
       "      <td>Mid-range product</td>\n",
       "      <td>Slowest Days</td>\n",
       "    </tr>\n",
       "    <tr>\n",
       "      <th>4</th>\n",
       "      <td>2398795</td>\n",
       "      <td>1</td>\n",
       "      <td>2</td>\n",
       "      <td>3</td>\n",
       "      <td>7</td>\n",
       "      <td>15.0</td>\n",
       "      <td>26088</td>\n",
       "      <td>5</td>\n",
       "      <td>1</td>\n",
       "      <td>both</td>\n",
       "      <td>Aged White Cheddar Popcorn</td>\n",
       "      <td>23.0</td>\n",
       "      <td>19.0</td>\n",
       "      <td>4.7</td>\n",
       "      <td>Low-range product</td>\n",
       "      <td>Slowest Days</td>\n",
       "    </tr>\n",
       "  </tbody>\n",
       "</table>\n",
       "</div>"
      ],
      "text/plain": [
       "   order_id  user_id  order_number  orders_day_of_week  order_time_of_day  \\\n",
       "0   2398795        1             2                   3                  7   \n",
       "1   2398795        1             2                   3                  7   \n",
       "2   2398795        1             2                   3                  7   \n",
       "3   2398795        1             2                   3                  7   \n",
       "4   2398795        1             2                   3                  7   \n",
       "\n",
       "   days_since_prior_order  product_id  add_to_cart_order  reordered _merge  \\\n",
       "0                    15.0         196                  1          1   both   \n",
       "1                    15.0       10258                  2          0   both   \n",
       "2                    15.0       12427                  3          1   both   \n",
       "3                    15.0       13176                  4          0   both   \n",
       "4                    15.0       26088                  5          1   both   \n",
       "\n",
       "                 product_name  aisle_id  department_id  prices  \\\n",
       "0                        Soda      77.0            7.0     9.0   \n",
       "1                  Pistachios     117.0           19.0     3.0   \n",
       "2         Original Beef Jerky      23.0           19.0     4.4   \n",
       "3      Bag of Organic Bananas      24.0            4.0    10.3   \n",
       "4  Aged White Cheddar Popcorn      23.0           19.0     4.7   \n",
       "\n",
       "     price_range_loc  busiest_days  \n",
       "0  Mid-range product  Slowest Days  \n",
       "1  Low-range product  Slowest Days  \n",
       "2  Low-range product  Slowest Days  \n",
       "3  Mid-range product  Slowest Days  \n",
       "4  Low-range product  Slowest Days  "
      ]
     },
     "execution_count": 59,
     "metadata": {},
     "output_type": "execute_result"
    }
   ],
   "source": [
    "df_op_merged.head()"
   ]
  },
  {
   "cell_type": "markdown",
   "id": "5fa6f621",
   "metadata": {},
   "source": [
    "## Question 4: When too many users make Instacart orders at the same time, the app freezes. The senior technical officer at Instacart wants you to identify the busiest hours of the day. Rather than by hour, they want periods of time labeled “Most orders,” “Average orders,” and “Fewest orders.” Create a new column containing these labels called “busiest_period_of_day.”"
   ]
  },
  {
   "cell_type": "code",
   "execution_count": 31,
   "id": "0d519ec7",
   "metadata": {},
   "outputs": [
    {
     "data": {
      "text/plain": [
       "10    2596274\n",
       "11    2566940\n",
       "14    2519533\n",
       "15    2489838\n",
       "13    2489731\n",
       "12    2448050\n",
       "16    2367121\n",
       "9     2313739\n",
       "17    1945590\n",
       "8     1624168\n",
       "18    1522301\n",
       "19    1170216\n",
       "20     910845\n",
       "7      845501\n",
       "21     746953\n",
       "22     592918\n",
       "23     376174\n",
       "6      275087\n",
       "0      203627\n",
       "1      108193\n",
       "5       82805\n",
       "2       64017\n",
       "4       49442\n",
       "3       47894\n",
       "Name: order_time_of_day, dtype: int64"
      ]
     },
     "execution_count": 31,
     "metadata": {},
     "output_type": "execute_result"
    }
   ],
   "source": [
    "df_op_merged['order_time_of_day'].value_counts()"
   ]
  },
  {
   "cell_type": "code",
   "execution_count": 36,
   "id": "246c1b31",
   "metadata": {},
   "outputs": [
    {
     "data": {
      "text/html": [
       "<div>\n",
       "<style scoped>\n",
       "    .dataframe tbody tr th:only-of-type {\n",
       "        vertical-align: middle;\n",
       "    }\n",
       "\n",
       "    .dataframe tbody tr th {\n",
       "        vertical-align: top;\n",
       "    }\n",
       "\n",
       "    .dataframe thead th {\n",
       "        text-align: right;\n",
       "    }\n",
       "</style>\n",
       "<table border=\"1\" class=\"dataframe\">\n",
       "  <thead>\n",
       "    <tr style=\"text-align: right;\">\n",
       "      <th></th>\n",
       "      <th>order_id</th>\n",
       "      <th>user_id</th>\n",
       "      <th>order_number</th>\n",
       "      <th>orders_day_of_week</th>\n",
       "      <th>order_time_of_day</th>\n",
       "      <th>days_since_prior_order</th>\n",
       "      <th>product_id</th>\n",
       "      <th>add_to_cart_order</th>\n",
       "      <th>reordered</th>\n",
       "      <th>_merge</th>\n",
       "      <th>product_name</th>\n",
       "      <th>aisle_id</th>\n",
       "      <th>department_id</th>\n",
       "      <th>prices</th>\n",
       "      <th>price_range_loc</th>\n",
       "      <th>busiest_days</th>\n",
       "      <th>busiest_period_of_day</th>\n",
       "    </tr>\n",
       "  </thead>\n",
       "  <tbody>\n",
       "    <tr>\n",
       "      <th>0</th>\n",
       "      <td>2398795</td>\n",
       "      <td>1</td>\n",
       "      <td>2</td>\n",
       "      <td>3</td>\n",
       "      <td>7</td>\n",
       "      <td>15.0</td>\n",
       "      <td>196</td>\n",
       "      <td>1</td>\n",
       "      <td>1</td>\n",
       "      <td>both</td>\n",
       "      <td>Soda</td>\n",
       "      <td>77.0</td>\n",
       "      <td>7.0</td>\n",
       "      <td>9.0</td>\n",
       "      <td>Mid-range product</td>\n",
       "      <td>Slowest Days</td>\n",
       "      <td>Average Orders</td>\n",
       "    </tr>\n",
       "    <tr>\n",
       "      <th>1</th>\n",
       "      <td>2398795</td>\n",
       "      <td>1</td>\n",
       "      <td>2</td>\n",
       "      <td>3</td>\n",
       "      <td>7</td>\n",
       "      <td>15.0</td>\n",
       "      <td>10258</td>\n",
       "      <td>2</td>\n",
       "      <td>0</td>\n",
       "      <td>both</td>\n",
       "      <td>Pistachios</td>\n",
       "      <td>117.0</td>\n",
       "      <td>19.0</td>\n",
       "      <td>3.0</td>\n",
       "      <td>Low-range product</td>\n",
       "      <td>Slowest Days</td>\n",
       "      <td>Average Orders</td>\n",
       "    </tr>\n",
       "    <tr>\n",
       "      <th>2</th>\n",
       "      <td>2398795</td>\n",
       "      <td>1</td>\n",
       "      <td>2</td>\n",
       "      <td>3</td>\n",
       "      <td>7</td>\n",
       "      <td>15.0</td>\n",
       "      <td>12427</td>\n",
       "      <td>3</td>\n",
       "      <td>1</td>\n",
       "      <td>both</td>\n",
       "      <td>Original Beef Jerky</td>\n",
       "      <td>23.0</td>\n",
       "      <td>19.0</td>\n",
       "      <td>4.4</td>\n",
       "      <td>Low-range product</td>\n",
       "      <td>Slowest Days</td>\n",
       "      <td>Average Orders</td>\n",
       "    </tr>\n",
       "    <tr>\n",
       "      <th>3</th>\n",
       "      <td>2398795</td>\n",
       "      <td>1</td>\n",
       "      <td>2</td>\n",
       "      <td>3</td>\n",
       "      <td>7</td>\n",
       "      <td>15.0</td>\n",
       "      <td>13176</td>\n",
       "      <td>4</td>\n",
       "      <td>0</td>\n",
       "      <td>both</td>\n",
       "      <td>Bag of Organic Bananas</td>\n",
       "      <td>24.0</td>\n",
       "      <td>4.0</td>\n",
       "      <td>10.3</td>\n",
       "      <td>Mid-range product</td>\n",
       "      <td>Slowest Days</td>\n",
       "      <td>Average Orders</td>\n",
       "    </tr>\n",
       "    <tr>\n",
       "      <th>4</th>\n",
       "      <td>2398795</td>\n",
       "      <td>1</td>\n",
       "      <td>2</td>\n",
       "      <td>3</td>\n",
       "      <td>7</td>\n",
       "      <td>15.0</td>\n",
       "      <td>26088</td>\n",
       "      <td>5</td>\n",
       "      <td>1</td>\n",
       "      <td>both</td>\n",
       "      <td>Aged White Cheddar Popcorn</td>\n",
       "      <td>23.0</td>\n",
       "      <td>19.0</td>\n",
       "      <td>4.7</td>\n",
       "      <td>Low-range product</td>\n",
       "      <td>Slowest Days</td>\n",
       "      <td>Average Orders</td>\n",
       "    </tr>\n",
       "  </tbody>\n",
       "</table>\n",
       "</div>"
      ],
      "text/plain": [
       "   order_id  user_id  order_number  orders_day_of_week  order_time_of_day  \\\n",
       "0   2398795        1             2                   3                  7   \n",
       "1   2398795        1             2                   3                  7   \n",
       "2   2398795        1             2                   3                  7   \n",
       "3   2398795        1             2                   3                  7   \n",
       "4   2398795        1             2                   3                  7   \n",
       "\n",
       "   days_since_prior_order  product_id  add_to_cart_order  reordered _merge  \\\n",
       "0                    15.0         196                  1          1   both   \n",
       "1                    15.0       10258                  2          0   both   \n",
       "2                    15.0       12427                  3          1   both   \n",
       "3                    15.0       13176                  4          0   both   \n",
       "4                    15.0       26088                  5          1   both   \n",
       "\n",
       "                 product_name  aisle_id  department_id  prices  \\\n",
       "0                        Soda      77.0            7.0     9.0   \n",
       "1                  Pistachios     117.0           19.0     3.0   \n",
       "2         Original Beef Jerky      23.0           19.0     4.4   \n",
       "3      Bag of Organic Bananas      24.0            4.0    10.3   \n",
       "4  Aged White Cheddar Popcorn      23.0           19.0     4.7   \n",
       "\n",
       "     price_range_loc  busiest_days busiest_period_of_day  \n",
       "0  Mid-range product  Slowest Days        Average Orders  \n",
       "1  Low-range product  Slowest Days        Average Orders  \n",
       "2  Low-range product  Slowest Days        Average Orders  \n",
       "3  Mid-range product  Slowest Days        Average Orders  \n",
       "4  Low-range product  Slowest Days        Average Orders  "
      ]
     },
     "execution_count": 36,
     "metadata": {},
     "output_type": "execute_result"
    }
   ],
   "source": [
    "df_op_merged.head()"
   ]
  },
  {
   "cell_type": "code",
   "execution_count": 41,
   "id": "25f04d9d",
   "metadata": {},
   "outputs": [],
   "source": [
    "df_op_merged.loc[df_op_merged['order_time_of_day'] == 10, 'busiest_period_of_day'] = 'Most Orders'"
   ]
  },
  {
   "cell_type": "code",
   "execution_count": 42,
   "id": "af25af5c",
   "metadata": {},
   "outputs": [],
   "source": [
    "df_op_merged.loc[df_op_merged['order_time_of_day'] == 11, 'busiest_period_of_day'] = 'Most Orders'"
   ]
  },
  {
   "cell_type": "code",
   "execution_count": 43,
   "id": "251db036",
   "metadata": {},
   "outputs": [],
   "source": [
    "df_op_merged.loc[df_op_merged['order_time_of_day'] == 4, 'busiest_period_of_day'] = 'Fewest Orders'"
   ]
  },
  {
   "cell_type": "code",
   "execution_count": 44,
   "id": "b8710eb9",
   "metadata": {},
   "outputs": [],
   "source": [
    "df_op_merged.loc[df_op_merged['order_time_of_day'] == 3, 'busiest_period_of_day'] = 'Fewest Orders'"
   ]
  },
  {
   "cell_type": "code",
   "execution_count": 45,
   "id": "a70346f7",
   "metadata": {},
   "outputs": [
    {
     "data": {
      "text/plain": [
       "Most Orders      5163214\n",
       "Fewest Orders      97336\n",
       "Name: busiest_period_of_day, dtype: int64"
      ]
     },
     "execution_count": 45,
     "metadata": {},
     "output_type": "execute_result"
    }
   ],
   "source": [
    "df_op_merged['busiest_period_of_day'].value_counts()"
   ]
  },
  {
   "cell_type": "code",
   "execution_count": 46,
   "id": "eab65166",
   "metadata": {},
   "outputs": [],
   "source": [
    "df_op_merged.loc[df_op_merged['order_time_of_day'] == 14, 'busiest_period_of_day'] = 'Average Orders'"
   ]
  },
  {
   "cell_type": "code",
   "execution_count": 47,
   "id": "01d7d7b3",
   "metadata": {},
   "outputs": [],
   "source": [
    "df_op_merged.loc[df_op_merged['order_time_of_day'] == 15, 'busiest_period_of_day'] = 'Average Orders'"
   ]
  },
  {
   "cell_type": "code",
   "execution_count": 48,
   "id": "6bcf2f91",
   "metadata": {},
   "outputs": [],
   "source": [
    "df_op_merged.loc[df_op_merged['order_time_of_day'] == 13, 'busiest_period_of_day'] = 'Average Orders'"
   ]
  },
  {
   "cell_type": "code",
   "execution_count": 49,
   "id": "211b4ef8",
   "metadata": {},
   "outputs": [],
   "source": [
    "df_op_merged.loc[df_op_merged['order_time_of_day'] == 12, 'busiest_period_of_day'] = 'Average Orders'"
   ]
  },
  {
   "cell_type": "code",
   "execution_count": 50,
   "id": "fbef63cf",
   "metadata": {},
   "outputs": [],
   "source": [
    "df_op_merged.loc[df_op_merged['order_time_of_day'] == 16, 'busiest_period_of_day'] = 'Average Orders'"
   ]
  },
  {
   "cell_type": "code",
   "execution_count": 51,
   "id": "440001aa",
   "metadata": {},
   "outputs": [],
   "source": [
    "df_op_merged.loc[df_op_merged['order_time_of_day'] == 9, 'busiest_period_of_day'] = 'Average Orders'"
   ]
  },
  {
   "cell_type": "code",
   "execution_count": 52,
   "id": "2e53bc5c",
   "metadata": {},
   "outputs": [],
   "source": [
    "df_op_merged.loc[df_op_merged['order_time_of_day'] == 17, 'busiest_period_of_day'] = 'Average Orders'"
   ]
  },
  {
   "cell_type": "code",
   "execution_count": 53,
   "id": "1ef9bbf5",
   "metadata": {},
   "outputs": [],
   "source": [
    "df_op_merged.loc[df_op_merged['order_time_of_day'] == 8, 'busiest_period_of_day'] = 'Average Orders'"
   ]
  },
  {
   "cell_type": "code",
   "execution_count": 54,
   "id": "976a8b97",
   "metadata": {},
   "outputs": [],
   "source": [
    "df_op_merged.loc[df_op_merged['order_time_of_day'] == 18, 'busiest_period_of_day'] = 'Average Orders'"
   ]
  },
  {
   "cell_type": "code",
   "execution_count": 55,
   "id": "61dded71",
   "metadata": {},
   "outputs": [],
   "source": [
    "df_op_merged.loc[df_op_merged['order_time_of_day'] == 19, 'busiest_period_of_day'] = 'Average Orders'"
   ]
  },
  {
   "cell_type": "code",
   "execution_count": 56,
   "id": "2a3edf77",
   "metadata": {},
   "outputs": [],
   "source": [
    "df_op_merged.loc[df_op_merged['order_time_of_day'] == 20, 'busiest_period_of_day'] = 'Average Orders'"
   ]
  },
  {
   "cell_type": "code",
   "execution_count": 57,
   "id": "203f11a0",
   "metadata": {},
   "outputs": [],
   "source": [
    "df_op_merged.loc[df_op_merged['order_time_of_day'] == 7, 'busiest_period_of_day'] = 'Average Orders'"
   ]
  },
  {
   "cell_type": "code",
   "execution_count": 58,
   "id": "032006e9",
   "metadata": {},
   "outputs": [],
   "source": [
    "df_op_merged.loc[df_op_merged['order_time_of_day'] == 21, 'busiest_period_of_day'] = 'Average Orders'"
   ]
  },
  {
   "cell_type": "code",
   "execution_count": 59,
   "id": "f77519c5",
   "metadata": {},
   "outputs": [],
   "source": [
    "df_op_merged.loc[df_op_merged['order_time_of_day'] == 22, 'busiest_period_of_day'] = 'Average Orders'"
   ]
  },
  {
   "cell_type": "code",
   "execution_count": 60,
   "id": "98d99789",
   "metadata": {},
   "outputs": [],
   "source": [
    "df_op_merged.loc[df_op_merged['order_time_of_day'] == 23, 'busiest_period_of_day'] = 'Average Orders'"
   ]
  },
  {
   "cell_type": "code",
   "execution_count": 61,
   "id": "c879398d",
   "metadata": {},
   "outputs": [],
   "source": [
    "df_op_merged.loc[df_op_merged['order_time_of_day'] == 6, 'busiest_period_of_day'] = 'Average Orders'"
   ]
  },
  {
   "cell_type": "code",
   "execution_count": 62,
   "id": "cc766644",
   "metadata": {},
   "outputs": [],
   "source": [
    "df_op_merged.loc[df_op_merged['order_time_of_day'] == 0, 'busiest_period_of_day'] = 'Average Orders'"
   ]
  },
  {
   "cell_type": "code",
   "execution_count": 63,
   "id": "0251fd9f",
   "metadata": {},
   "outputs": [],
   "source": [
    "df_op_merged.loc[df_op_merged['order_time_of_day'] == 1, 'busiest_period_of_day'] = 'Average Orders'"
   ]
  },
  {
   "cell_type": "code",
   "execution_count": 64,
   "id": "ce4b70f4",
   "metadata": {},
   "outputs": [],
   "source": [
    "df_op_merged.loc[df_op_merged['order_time_of_day'] == 5, 'busiest_period_of_day'] = 'Average Orders'"
   ]
  },
  {
   "cell_type": "code",
   "execution_count": 65,
   "id": "38533e71",
   "metadata": {},
   "outputs": [],
   "source": [
    "df_op_merged.loc[df_op_merged['order_time_of_day'] == 2, 'busiest_period_of_day'] = 'Average Orders'"
   ]
  },
  {
   "cell_type": "code",
   "execution_count": 67,
   "id": "043ee421",
   "metadata": {},
   "outputs": [
    {
     "data": {
      "text/plain": [
       "Average Orders    25096407\n",
       "Most Orders        5163214\n",
       "Fewest Orders        97336\n",
       "Name: busiest_period_of_day, dtype: int64"
      ]
     },
     "execution_count": 67,
     "metadata": {},
     "output_type": "execute_result"
    }
   ],
   "source": [
    "df_op_merged['busiest_period_of_day'].value_counts()"
   ]
  },
  {
   "cell_type": "code",
   "execution_count": 68,
   "id": "43191d0d",
   "metadata": {},
   "outputs": [],
   "source": [
    "# Export data to pickle format\n",
    "df_op_merged.to_pickle(os.path.join(path, '02 Data','Prepared Data', 'orders_products_merged.pkl'))"
   ]
  },
  {
   "cell_type": "code",
   "execution_count": null,
   "id": "676d0c38",
   "metadata": {},
   "outputs": [],
   "source": []
  }
 ],
 "metadata": {
  "kernelspec": {
   "display_name": "Python 3",
   "language": "python",
   "name": "python3"
  },
  "language_info": {
   "codemirror_mode": {
    "name": "ipython",
    "version": 3
   },
   "file_extension": ".py",
   "mimetype": "text/x-python",
   "name": "python",
   "nbconvert_exporter": "python",
   "pygments_lexer": "ipython3",
   "version": "3.8.8"
  }
 },
 "nbformat": 4,
 "nbformat_minor": 5
}

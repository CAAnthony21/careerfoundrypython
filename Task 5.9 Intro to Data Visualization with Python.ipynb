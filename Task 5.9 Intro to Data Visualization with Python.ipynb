{
 "cells": [
  {
   "cell_type": "markdown",
   "id": "ae7006cc",
   "metadata": {},
   "source": [
    "# 5.9 Intro to Data Visualization with Python"
   ]
  },
  {
   "cell_type": "markdown",
   "id": "b198c9c6",
   "metadata": {},
   "source": [
    "### This script contains the following points:\n",
    "\n",
    "### 1. Creating Bar Charts\n",
    "### 2. Exporting Charts\n",
    "### 3. Creating Histograms and Scatterplots\n",
    "### 4. Sampling Data and Creating a Line Chart"
   ]
  },
  {
   "cell_type": "code",
   "execution_count": 1,
   "id": "25c9099b",
   "metadata": {},
   "outputs": [],
   "source": [
    "# Import Libraries\n",
    "import pandas as pd\n",
    "import numpy as np\n",
    "import os\n",
    "import matplotlib.pyplot as plt\n",
    "import seaborn as sns\n",
    "import scipy"
   ]
  },
  {
   "cell_type": "code",
   "execution_count": 2,
   "id": "0326a9f0",
   "metadata": {},
   "outputs": [],
   "source": [
    "# Create folder path\n",
    "path = r'C:\\Users\\Thor\\OneDrive\\Desktop\\Career Foundry Tools\\Projects\\Project 5\\09-01-2021 Instacart Basket Analysis'"
   ]
  },
  {
   "cell_type": "code",
   "execution_count": 4,
   "id": "fc1d2723",
   "metadata": {},
   "outputs": [],
   "source": [
    "# Loading orders_products_merged.pkl\n",
    "df_op_merged = pd.read_pickle(os.path.join(path, '02 Data', 'Prepared Data', 'All_merge.pkl'))"
   ]
  },
  {
   "cell_type": "code",
   "execution_count": 5,
   "id": "240f39ed",
   "metadata": {},
   "outputs": [
    {
     "data": {
      "text/html": [
       "<div>\n",
       "<style scoped>\n",
       "    .dataframe tbody tr th:only-of-type {\n",
       "        vertical-align: middle;\n",
       "    }\n",
       "\n",
       "    .dataframe tbody tr th {\n",
       "        vertical-align: top;\n",
       "    }\n",
       "\n",
       "    .dataframe thead th {\n",
       "        text-align: right;\n",
       "    }\n",
       "</style>\n",
       "<table border=\"1\" class=\"dataframe\">\n",
       "  <thead>\n",
       "    <tr style=\"text-align: right;\">\n",
       "      <th></th>\n",
       "      <th>order_id</th>\n",
       "      <th>user_id</th>\n",
       "      <th>order_number</th>\n",
       "      <th>orders_day_of_week</th>\n",
       "      <th>order_time_of_day</th>\n",
       "      <th>days_since_prior_order</th>\n",
       "      <th>product_id</th>\n",
       "      <th>add_to_cart_order</th>\n",
       "      <th>reordered</th>\n",
       "      <th>product_name</th>\n",
       "      <th>...</th>\n",
       "      <th>frequency</th>\n",
       "      <th>frequency_flag</th>\n",
       "      <th>surname</th>\n",
       "      <th>gender</th>\n",
       "      <th>state</th>\n",
       "      <th>age</th>\n",
       "      <th>date_joined</th>\n",
       "      <th>n_dependants</th>\n",
       "      <th>fam_status</th>\n",
       "      <th>income</th>\n",
       "    </tr>\n",
       "  </thead>\n",
       "  <tbody>\n",
       "    <tr>\n",
       "      <th>0</th>\n",
       "      <td>2398795</td>\n",
       "      <td>1</td>\n",
       "      <td>2</td>\n",
       "      <td>3</td>\n",
       "      <td>7</td>\n",
       "      <td>15.0</td>\n",
       "      <td>196</td>\n",
       "      <td>1</td>\n",
       "      <td>1</td>\n",
       "      <td>Soda</td>\n",
       "      <td>...</td>\n",
       "      <td>16.0</td>\n",
       "      <td>Regular customer</td>\n",
       "      <td>Nguyen</td>\n",
       "      <td>Female</td>\n",
       "      <td>Alabama</td>\n",
       "      <td>31</td>\n",
       "      <td>2/17/2019</td>\n",
       "      <td>3</td>\n",
       "      <td>married</td>\n",
       "      <td>40423</td>\n",
       "    </tr>\n",
       "    <tr>\n",
       "      <th>1</th>\n",
       "      <td>2398795</td>\n",
       "      <td>1</td>\n",
       "      <td>2</td>\n",
       "      <td>3</td>\n",
       "      <td>7</td>\n",
       "      <td>15.0</td>\n",
       "      <td>10258</td>\n",
       "      <td>2</td>\n",
       "      <td>0</td>\n",
       "      <td>Pistachios</td>\n",
       "      <td>...</td>\n",
       "      <td>16.0</td>\n",
       "      <td>Regular customer</td>\n",
       "      <td>Nguyen</td>\n",
       "      <td>Female</td>\n",
       "      <td>Alabama</td>\n",
       "      <td>31</td>\n",
       "      <td>2/17/2019</td>\n",
       "      <td>3</td>\n",
       "      <td>married</td>\n",
       "      <td>40423</td>\n",
       "    </tr>\n",
       "    <tr>\n",
       "      <th>2</th>\n",
       "      <td>2398795</td>\n",
       "      <td>1</td>\n",
       "      <td>2</td>\n",
       "      <td>3</td>\n",
       "      <td>7</td>\n",
       "      <td>15.0</td>\n",
       "      <td>12427</td>\n",
       "      <td>3</td>\n",
       "      <td>1</td>\n",
       "      <td>Original Beef Jerky</td>\n",
       "      <td>...</td>\n",
       "      <td>16.0</td>\n",
       "      <td>Regular customer</td>\n",
       "      <td>Nguyen</td>\n",
       "      <td>Female</td>\n",
       "      <td>Alabama</td>\n",
       "      <td>31</td>\n",
       "      <td>2/17/2019</td>\n",
       "      <td>3</td>\n",
       "      <td>married</td>\n",
       "      <td>40423</td>\n",
       "    </tr>\n",
       "    <tr>\n",
       "      <th>3</th>\n",
       "      <td>2398795</td>\n",
       "      <td>1</td>\n",
       "      <td>2</td>\n",
       "      <td>3</td>\n",
       "      <td>7</td>\n",
       "      <td>15.0</td>\n",
       "      <td>13176</td>\n",
       "      <td>4</td>\n",
       "      <td>0</td>\n",
       "      <td>Bag of Organic Bananas</td>\n",
       "      <td>...</td>\n",
       "      <td>16.0</td>\n",
       "      <td>Regular customer</td>\n",
       "      <td>Nguyen</td>\n",
       "      <td>Female</td>\n",
       "      <td>Alabama</td>\n",
       "      <td>31</td>\n",
       "      <td>2/17/2019</td>\n",
       "      <td>3</td>\n",
       "      <td>married</td>\n",
       "      <td>40423</td>\n",
       "    </tr>\n",
       "    <tr>\n",
       "      <th>4</th>\n",
       "      <td>2398795</td>\n",
       "      <td>1</td>\n",
       "      <td>2</td>\n",
       "      <td>3</td>\n",
       "      <td>7</td>\n",
       "      <td>15.0</td>\n",
       "      <td>26088</td>\n",
       "      <td>5</td>\n",
       "      <td>1</td>\n",
       "      <td>Aged White Cheddar Popcorn</td>\n",
       "      <td>...</td>\n",
       "      <td>16.0</td>\n",
       "      <td>Regular customer</td>\n",
       "      <td>Nguyen</td>\n",
       "      <td>Female</td>\n",
       "      <td>Alabama</td>\n",
       "      <td>31</td>\n",
       "      <td>2/17/2019</td>\n",
       "      <td>3</td>\n",
       "      <td>married</td>\n",
       "      <td>40423</td>\n",
       "    </tr>\n",
       "  </tbody>\n",
       "</table>\n",
       "<p>5 rows × 30 columns</p>\n",
       "</div>"
      ],
      "text/plain": [
       "   order_id  user_id  order_number  orders_day_of_week  order_time_of_day  \\\n",
       "0   2398795        1             2                   3                  7   \n",
       "1   2398795        1             2                   3                  7   \n",
       "2   2398795        1             2                   3                  7   \n",
       "3   2398795        1             2                   3                  7   \n",
       "4   2398795        1             2                   3                  7   \n",
       "\n",
       "   days_since_prior_order  product_id  add_to_cart_order  reordered  \\\n",
       "0                    15.0         196                  1          1   \n",
       "1                    15.0       10258                  2          0   \n",
       "2                    15.0       12427                  3          1   \n",
       "3                    15.0       13176                  4          0   \n",
       "4                    15.0       26088                  5          1   \n",
       "\n",
       "                 product_name  ...  frequency    frequency_flag  surname  \\\n",
       "0                        Soda  ...       16.0  Regular customer   Nguyen   \n",
       "1                  Pistachios  ...       16.0  Regular customer   Nguyen   \n",
       "2         Original Beef Jerky  ...       16.0  Regular customer   Nguyen   \n",
       "3      Bag of Organic Bananas  ...       16.0  Regular customer   Nguyen   \n",
       "4  Aged White Cheddar Popcorn  ...       16.0  Regular customer   Nguyen   \n",
       "\n",
       "   gender    state age  date_joined n_dependants  fam_status income  \n",
       "0  Female  Alabama  31    2/17/2019            3     married  40423  \n",
       "1  Female  Alabama  31    2/17/2019            3     married  40423  \n",
       "2  Female  Alabama  31    2/17/2019            3     married  40423  \n",
       "3  Female  Alabama  31    2/17/2019            3     married  40423  \n",
       "4  Female  Alabama  31    2/17/2019            3     married  40423  \n",
       "\n",
       "[5 rows x 30 columns]"
      ]
     },
     "execution_count": 5,
     "metadata": {},
     "output_type": "execute_result"
    }
   ],
   "source": [
    "df_op_merged.head()"
   ]
  },
  {
   "cell_type": "markdown",
   "id": "714376c7",
   "metadata": {},
   "source": [
    "# Creating Bar Charts"
   ]
  },
  {
   "cell_type": "code",
   "execution_count": 6,
   "id": "8634c95a",
   "metadata": {},
   "outputs": [
    {
     "data": {
      "image/png": "[encoded data removed]",
      "text/plain": [
       "<Figure size 432x288 with 1 Axes>"
      ]
     },
     "metadata": {
      "needs_background": "light"
     },
     "output_type": "display_data"
    }
   ],
   "source": [
    "# Creating a bar chart of results sorted highest to lowest\n",
    "DOW_orders=df_op_merged['orders_day_of_week'].value_counts().plot.bar()"
   ]
  },
  {
   "cell_type": "code",
   "execution_count": 8,
   "id": "22fececb",
   "metadata": {
    "scrolled": true
   },
   "outputs": [],
   "source": [
    "#exporting orders_day_of_week bar\n",
    "DOW_orders.figure.savefig(os.path.join(path, '04 Analysis', 'Visualizations', 'orders_day_of_week_bar_2.png'))"
   ]
  },
  {
   "cell_type": "code",
   "execution_count": 6,
   "id": "d91622ae",
   "metadata": {},
   "outputs": [
    {
     "data": {
      "text/plain": [
       "<AxesSubplot:>"
      ]
     },
     "execution_count": 6,
     "metadata": {},
     "output_type": "execute_result"
    },
    {
     "data": {
      "image/png": "[encoded data removed]",
      "text/plain": [
       "<Figure size 432x288 with 1 Axes>"
      ]
     },
     "metadata": {
      "needs_background": "light"
     },
     "output_type": "display_data"
    }
   ],
   "source": [
    "# Using the sort_index() functoin, you can create a bar chart sorted in numerical order\n",
    "df_op_merged['orders_day_of_week'].value_counts().sort_index().plot.bar()"
   ]
  },
  {
   "cell_type": "code",
   "execution_count": 7,
   "id": "b8fcfa3b",
   "metadata": {},
   "outputs": [
    {
     "data": {
      "text/plain": [
       "0    5784308\n",
       "1    5309089\n",
       "6    4194576\n",
       "5    3955888\n",
       "2    3951349\n",
       "3    3603962\n",
       "4    3557785\n",
       "Name: orders_day_of_week, dtype: int64"
      ]
     },
     "execution_count": 7,
     "metadata": {},
     "output_type": "execute_result"
    }
   ],
   "source": [
    "# Creating a list view of the results\n",
    "df_op_merged['orders_day_of_week'].value_counts(dropna=False)"
   ]
  },
  {
   "cell_type": "code",
   "execution_count": 8,
   "id": "df0cc944",
   "metadata": {},
   "outputs": [
    {
     "data": {
      "text/plain": [
       "0    5784308\n",
       "1    5309089\n",
       "2    3951349\n",
       "3    3603962\n",
       "4    3557785\n",
       "5    3955888\n",
       "6    4194576\n",
       "Name: orders_day_of_week, dtype: int64"
      ]
     },
     "execution_count": 8,
     "metadata": {},
     "output_type": "execute_result"
    }
   ],
   "source": [
    "# Using sort_index() to list values in numerical order \n",
    "df_op_merged['orders_day_of_week'].value_counts(dropna=False).sort_index()"
   ]
  },
  {
   "cell_type": "code",
   "execution_count": 9,
   "id": "e42c80a1",
   "metadata": {},
   "outputs": [
    {
     "data": {
      "text/plain": [
       "<AxesSubplot:>"
      ]
     },
     "execution_count": 9,
     "metadata": {},
     "output_type": "execute_result"
    },
    {
     "data": {
      "image/png": "[encoded data removed]",
      "text/plain": [
       "<Figure size 432x288 with 1 Axes>"
      ]
     },
     "metadata": {
      "needs_background": "light"
     },
     "output_type": "display_data"
    }
   ],
   "source": [
    "df_op_merged['orders_day_of_week'].value_counts().plot.bar(color=['purple', 'red', 'pink', 'orange', 'yellow', 'green', 'blue'])"
   ]
  },
  {
   "cell_type": "markdown",
   "id": "666555c5",
   "metadata": {},
   "source": [
    "# Exporting Charts"
   ]
  },
  {
   "cell_type": "code",
   "execution_count": 10,
   "id": "a3d02353",
   "metadata": {},
   "outputs": [
    {
     "data": {
      "image/png": "[encoded data removed]",
      "text/plain": [
       "<Figure size 432x288 with 1 Axes>"
      ]
     },
     "metadata": {
      "needs_background": "light"
     },
     "output_type": "display_data"
    }
   ],
   "source": [
    "# Defining bar chart so that it can be exported\n",
    "bar = df_op_merged['order_time_of_day'].value_counts().plot.bar(color =['purple', 'red', 'pink', 'orange', 'yellow', 'green', 'blue'])"
   ]
  },
  {
   "cell_type": "code",
   "execution_count": 11,
   "id": "19f14c54",
   "metadata": {},
   "outputs": [],
   "source": [
    "# Saving bar chart to computer using savefig () function\n",
    "bar.figure.savefig(os.path.join(path, '04 Analysis', 'Visualizations', 'bar_orders_TOD.png'))"
   ]
  },
  {
   "cell_type": "code",
   "execution_count": 9,
   "id": "3722ffa8",
   "metadata": {},
   "outputs": [
    {
     "data": {
      "image/png": "[encoded data removed]",
      "text/plain": [
       "<Figure size 432x288 with 1 Axes>"
      ]
     },
     "metadata": {
      "needs_background": "light"
     },
     "output_type": "display_data"
    }
   ],
   "source": [
    "bar_2 = df_op_merged['orders_day_of_week'].value_counts().plot.bar(color =['purple', 'red', 'pink', 'orange', 'yellow', 'green', 'blue'])"
   ]
  },
  {
   "cell_type": "markdown",
   "id": "5a880bfd",
   "metadata": {},
   "source": [
    "# Creating Histograms and Scatterplots"
   ]
  },
  {
   "cell_type": "code",
   "execution_count": 12,
   "id": "6fff7976",
   "metadata": {},
   "outputs": [
    {
     "data": {
      "text/plain": [
       "<AxesSubplot:ylabel='Frequency'>"
      ]
     },
     "execution_count": 12,
     "metadata": {},
     "output_type": "execute_result"
    },
    {
     "data": {
      "image/png": "[encoded data removed]",
      "text/plain": [
       "<Figure size 432x288 with 1 Axes>"
      ]
     },
     "metadata": {
      "needs_background": "light"
     },
     "output_type": "display_data"
    }
   ],
   "source": [
    "# Creatinga histogram with the hist() function\n",
    "df_op_merged['prices'].plot.hist(bins=25)"
   ]
  },
  {
   "cell_type": "code",
   "execution_count": 13,
   "id": "d22af904",
   "metadata": {},
   "outputs": [
    {
     "data": {
      "text/plain": [
       "count    3.032876e+07\n",
       "mean     1.197725e+01\n",
       "std      4.963730e+02\n",
       "min      1.000000e+00\n",
       "25%      4.200000e+00\n",
       "50%      7.400000e+00\n",
       "75%      1.130000e+01\n",
       "max      9.999900e+04\n",
       "Name: prices, dtype: float64"
      ]
     },
     "execution_count": 13,
     "metadata": {},
     "output_type": "execute_result"
    }
   ],
   "source": [
    "df_op_merged['prices'].describe()"
   ]
  },
  {
   "cell_type": "code",
   "execution_count": 14,
   "id": "e01e85e8",
   "metadata": {},
   "outputs": [
    {
     "data": {
      "text/plain": [
       "<AxesSubplot:xlabel='prices', ylabel='prices'>"
      ]
     },
     "execution_count": 14,
     "metadata": {},
     "output_type": "execute_result"
    },
    {
     "data": {
      "image/png": "[encoded data removed]",
      "text/plain": [
       "<Figure size 432x288 with 1 Axes>"
      ]
     },
     "metadata": {
      "needs_background": "light"
     },
     "output_type": "display_data"
    }
   ],
   "source": [
    "sns.scatterplot(x = 'prices', y = 'prices',data = df_op_merged)"
   ]
  },
  {
   "cell_type": "code",
   "execution_count": 15,
   "id": "a2875bc1",
   "metadata": {},
   "outputs": [
    {
     "data": {
      "text/html": [
       "<div>\n",
       "<style scoped>\n",
       "    .dataframe tbody tr th:only-of-type {\n",
       "        vertical-align: middle;\n",
       "    }\n",
       "\n",
       "    .dataframe tbody tr th {\n",
       "        vertical-align: top;\n",
       "    }\n",
       "\n",
       "    .dataframe thead th {\n",
       "        text-align: right;\n",
       "    }\n",
       "</style>\n",
       "<table border=\"1\" class=\"dataframe\">\n",
       "  <thead>\n",
       "    <tr style=\"text-align: right;\">\n",
       "      <th></th>\n",
       "      <th>order_id</th>\n",
       "      <th>user_id</th>\n",
       "      <th>order_number</th>\n",
       "      <th>orders_day_of_week</th>\n",
       "      <th>order_time_of_day</th>\n",
       "      <th>days_since_prior_order</th>\n",
       "      <th>product_id</th>\n",
       "      <th>add_to_cart_order</th>\n",
       "      <th>reordered</th>\n",
       "      <th>product_name</th>\n",
       "      <th>...</th>\n",
       "      <th>prices</th>\n",
       "      <th>price_range_loc</th>\n",
       "      <th>busiest_days</th>\n",
       "      <th>busiest_period_of_day</th>\n",
       "      <th>max_order</th>\n",
       "      <th>loyalty_flag</th>\n",
       "      <th>spending</th>\n",
       "      <th>spending_flag</th>\n",
       "      <th>frequency</th>\n",
       "      <th>frequency_flag</th>\n",
       "    </tr>\n",
       "  </thead>\n",
       "  <tbody>\n",
       "    <tr>\n",
       "      <th>1413</th>\n",
       "      <td>912404</td>\n",
       "      <td>17</td>\n",
       "      <td>12</td>\n",
       "      <td>2</td>\n",
       "      <td>14</td>\n",
       "      <td>5.0</td>\n",
       "      <td>21553</td>\n",
       "      <td>5</td>\n",
       "      <td>0</td>\n",
       "      <td>Lowfat 2% Milkfat Cottage Cheese</td>\n",
       "      <td>...</td>\n",
       "      <td>14900.0</td>\n",
       "      <td>High-range product</td>\n",
       "      <td>Regularly busy</td>\n",
       "      <td>Average Orders</td>\n",
       "      <td>56</td>\n",
       "      <td>Loyal customer</td>\n",
       "      <td>34.100355</td>\n",
       "      <td>High Spender</td>\n",
       "      <td>6.0</td>\n",
       "      <td>Frequent customer</td>\n",
       "    </tr>\n",
       "    <tr>\n",
       "      <th>1475</th>\n",
       "      <td>603376</td>\n",
       "      <td>17</td>\n",
       "      <td>22</td>\n",
       "      <td>6</td>\n",
       "      <td>16</td>\n",
       "      <td>4.0</td>\n",
       "      <td>21553</td>\n",
       "      <td>3</td>\n",
       "      <td>1</td>\n",
       "      <td>Lowfat 2% Milkfat Cottage Cheese</td>\n",
       "      <td>...</td>\n",
       "      <td>14900.0</td>\n",
       "      <td>High-range product</td>\n",
       "      <td>Regularly busy</td>\n",
       "      <td>Average Orders</td>\n",
       "      <td>56</td>\n",
       "      <td>Loyal customer</td>\n",
       "      <td>34.100355</td>\n",
       "      <td>High Spender</td>\n",
       "      <td>6.0</td>\n",
       "      <td>Frequent customer</td>\n",
       "    </tr>\n",
       "    <tr>\n",
       "      <th>15314</th>\n",
       "      <td>3264360</td>\n",
       "      <td>135</td>\n",
       "      <td>2</td>\n",
       "      <td>2</td>\n",
       "      <td>21</td>\n",
       "      <td>13.0</td>\n",
       "      <td>21553</td>\n",
       "      <td>6</td>\n",
       "      <td>0</td>\n",
       "      <td>Lowfat 2% Milkfat Cottage Cheese</td>\n",
       "      <td>...</td>\n",
       "      <td>14900.0</td>\n",
       "      <td>High-range product</td>\n",
       "      <td>Regularly busy</td>\n",
       "      <td>Average Orders</td>\n",
       "      <td>59</td>\n",
       "      <td>Loyal customer</td>\n",
       "      <td>47.350727</td>\n",
       "      <td>High Spender</td>\n",
       "      <td>6.0</td>\n",
       "      <td>Frequent customer</td>\n",
       "    </tr>\n",
       "    <tr>\n",
       "      <th>15320</th>\n",
       "      <td>892534</td>\n",
       "      <td>135</td>\n",
       "      <td>3</td>\n",
       "      <td>0</td>\n",
       "      <td>8</td>\n",
       "      <td>12.0</td>\n",
       "      <td>21553</td>\n",
       "      <td>3</td>\n",
       "      <td>1</td>\n",
       "      <td>Lowfat 2% Milkfat Cottage Cheese</td>\n",
       "      <td>...</td>\n",
       "      <td>14900.0</td>\n",
       "      <td>High-range product</td>\n",
       "      <td>Busiest Days</td>\n",
       "      <td>Average Orders</td>\n",
       "      <td>59</td>\n",
       "      <td>Loyal customer</td>\n",
       "      <td>47.350727</td>\n",
       "      <td>High Spender</td>\n",
       "      <td>6.0</td>\n",
       "      <td>Frequent customer</td>\n",
       "    </tr>\n",
       "    <tr>\n",
       "      <th>50307</th>\n",
       "      <td>229704</td>\n",
       "      <td>342</td>\n",
       "      <td>8</td>\n",
       "      <td>1</td>\n",
       "      <td>19</td>\n",
       "      <td>30.0</td>\n",
       "      <td>21553</td>\n",
       "      <td>9</td>\n",
       "      <td>0</td>\n",
       "      <td>Lowfat 2% Milkfat Cottage Cheese</td>\n",
       "      <td>...</td>\n",
       "      <td>14900.0</td>\n",
       "      <td>High-range product</td>\n",
       "      <td>Busiest Days</td>\n",
       "      <td>Average Orders</td>\n",
       "      <td>19</td>\n",
       "      <td>Regular customer</td>\n",
       "      <td>30.533284</td>\n",
       "      <td>High Spender</td>\n",
       "      <td>14.0</td>\n",
       "      <td>Regular customer</td>\n",
       "    </tr>\n",
       "    <tr>\n",
       "      <th>...</th>\n",
       "      <td>...</td>\n",
       "      <td>...</td>\n",
       "      <td>...</td>\n",
       "      <td>...</td>\n",
       "      <td>...</td>\n",
       "      <td>...</td>\n",
       "      <td>...</td>\n",
       "      <td>...</td>\n",
       "      <td>...</td>\n",
       "      <td>...</td>\n",
       "      <td>...</td>\n",
       "      <td>...</td>\n",
       "      <td>...</td>\n",
       "      <td>...</td>\n",
       "      <td>...</td>\n",
       "      <td>...</td>\n",
       "      <td>...</td>\n",
       "      <td>...</td>\n",
       "      <td>...</td>\n",
       "      <td>...</td>\n",
       "      <td>...</td>\n",
       "    </tr>\n",
       "    <tr>\n",
       "      <th>30277949</th>\n",
       "      <td>1039454</td>\n",
       "      <td>9042</td>\n",
       "      <td>15</td>\n",
       "      <td>1</td>\n",
       "      <td>10</td>\n",
       "      <td>7.0</td>\n",
       "      <td>21553</td>\n",
       "      <td>6</td>\n",
       "      <td>1</td>\n",
       "      <td>Lowfat 2% Milkfat Cottage Cheese</td>\n",
       "      <td>...</td>\n",
       "      <td>14900.0</td>\n",
       "      <td>High-range product</td>\n",
       "      <td>Busiest Days</td>\n",
       "      <td>Most Orders</td>\n",
       "      <td>53</td>\n",
       "      <td>Loyal customer</td>\n",
       "      <td>118.110306</td>\n",
       "      <td>High Spender</td>\n",
       "      <td>7.0</td>\n",
       "      <td>Frequent customer</td>\n",
       "    </tr>\n",
       "    <tr>\n",
       "      <th>30277995</th>\n",
       "      <td>3172853</td>\n",
       "      <td>9042</td>\n",
       "      <td>18</td>\n",
       "      <td>1</td>\n",
       "      <td>9</td>\n",
       "      <td>7.0</td>\n",
       "      <td>21553</td>\n",
       "      <td>17</td>\n",
       "      <td>1</td>\n",
       "      <td>Lowfat 2% Milkfat Cottage Cheese</td>\n",
       "      <td>...</td>\n",
       "      <td>14900.0</td>\n",
       "      <td>High-range product</td>\n",
       "      <td>Busiest Days</td>\n",
       "      <td>Average Orders</td>\n",
       "      <td>53</td>\n",
       "      <td>Loyal customer</td>\n",
       "      <td>118.110306</td>\n",
       "      <td>High Spender</td>\n",
       "      <td>7.0</td>\n",
       "      <td>Frequent customer</td>\n",
       "    </tr>\n",
       "    <tr>\n",
       "      <th>30303557</th>\n",
       "      <td>2504315</td>\n",
       "      <td>9210</td>\n",
       "      <td>3</td>\n",
       "      <td>5</td>\n",
       "      <td>15</td>\n",
       "      <td>3.0</td>\n",
       "      <td>21553</td>\n",
       "      <td>13</td>\n",
       "      <td>0</td>\n",
       "      <td>Lowfat 2% Milkfat Cottage Cheese</td>\n",
       "      <td>...</td>\n",
       "      <td>14900.0</td>\n",
       "      <td>High-range product</td>\n",
       "      <td>Regularly busy</td>\n",
       "      <td>Average Orders</td>\n",
       "      <td>25</td>\n",
       "      <td>Regular customer</td>\n",
       "      <td>54.980411</td>\n",
       "      <td>High Spender</td>\n",
       "      <td>12.0</td>\n",
       "      <td>Regular customer</td>\n",
       "    </tr>\n",
       "    <tr>\n",
       "      <th>30303567</th>\n",
       "      <td>1108388</td>\n",
       "      <td>9210</td>\n",
       "      <td>5</td>\n",
       "      <td>4</td>\n",
       "      <td>5</td>\n",
       "      <td>1.0</td>\n",
       "      <td>21553</td>\n",
       "      <td>5</td>\n",
       "      <td>1</td>\n",
       "      <td>Lowfat 2% Milkfat Cottage Cheese</td>\n",
       "      <td>...</td>\n",
       "      <td>14900.0</td>\n",
       "      <td>High-range product</td>\n",
       "      <td>Slowest Days</td>\n",
       "      <td>Average Orders</td>\n",
       "      <td>25</td>\n",
       "      <td>Regular customer</td>\n",
       "      <td>54.980411</td>\n",
       "      <td>High Spender</td>\n",
       "      <td>12.0</td>\n",
       "      <td>Regular customer</td>\n",
       "    </tr>\n",
       "    <tr>\n",
       "      <th>30334210</th>\n",
       "      <td>379732</td>\n",
       "      <td>9441</td>\n",
       "      <td>4</td>\n",
       "      <td>1</td>\n",
       "      <td>14</td>\n",
       "      <td>5.0</td>\n",
       "      <td>21553</td>\n",
       "      <td>4</td>\n",
       "      <td>1</td>\n",
       "      <td>Lowfat 2% Milkfat Cottage Cheese</td>\n",
       "      <td>...</td>\n",
       "      <td>14900.0</td>\n",
       "      <td>High-range product</td>\n",
       "      <td>Busiest Days</td>\n",
       "      <td>Average Orders</td>\n",
       "      <td>51</td>\n",
       "      <td>Loyal customer</td>\n",
       "      <td>45.545269</td>\n",
       "      <td>High Spender</td>\n",
       "      <td>6.0</td>\n",
       "      <td>Frequent customer</td>\n",
       "    </tr>\n",
       "  </tbody>\n",
       "</table>\n",
       "<p>4776 rows × 22 columns</p>\n",
       "</div>"
      ],
      "text/plain": [
       "          order_id  user_id  order_number  orders_day_of_week  \\\n",
       "1413        912404       17            12                   2   \n",
       "1475        603376       17            22                   6   \n",
       "15314      3264360      135             2                   2   \n",
       "15320       892534      135             3                   0   \n",
       "50307       229704      342             8                   1   \n",
       "...            ...      ...           ...                 ...   \n",
       "30277949   1039454     9042            15                   1   \n",
       "30277995   3172853     9042            18                   1   \n",
       "30303557   2504315     9210             3                   5   \n",
       "30303567   1108388     9210             5                   4   \n",
       "30334210    379732     9441             4                   1   \n",
       "\n",
       "          order_time_of_day  days_since_prior_order  product_id  \\\n",
       "1413                     14                     5.0       21553   \n",
       "1475                     16                     4.0       21553   \n",
       "15314                    21                    13.0       21553   \n",
       "15320                     8                    12.0       21553   \n",
       "50307                    19                    30.0       21553   \n",
       "...                     ...                     ...         ...   \n",
       "30277949                 10                     7.0       21553   \n",
       "30277995                  9                     7.0       21553   \n",
       "30303557                 15                     3.0       21553   \n",
       "30303567                  5                     1.0       21553   \n",
       "30334210                 14                     5.0       21553   \n",
       "\n",
       "          add_to_cart_order  reordered                      product_name  ...  \\\n",
       "1413                      5          0  Lowfat 2% Milkfat Cottage Cheese  ...   \n",
       "1475                      3          1  Lowfat 2% Milkfat Cottage Cheese  ...   \n",
       "15314                     6          0  Lowfat 2% Milkfat Cottage Cheese  ...   \n",
       "15320                     3          1  Lowfat 2% Milkfat Cottage Cheese  ...   \n",
       "50307                     9          0  Lowfat 2% Milkfat Cottage Cheese  ...   \n",
       "...                     ...        ...                               ...  ...   \n",
       "30277949                  6          1  Lowfat 2% Milkfat Cottage Cheese  ...   \n",
       "30277995                 17          1  Lowfat 2% Milkfat Cottage Cheese  ...   \n",
       "30303557                 13          0  Lowfat 2% Milkfat Cottage Cheese  ...   \n",
       "30303567                  5          1  Lowfat 2% Milkfat Cottage Cheese  ...   \n",
       "30334210                  4          1  Lowfat 2% Milkfat Cottage Cheese  ...   \n",
       "\n",
       "           prices     price_range_loc    busiest_days busiest_period_of_day  \\\n",
       "1413      14900.0  High-range product  Regularly busy        Average Orders   \n",
       "1475      14900.0  High-range product  Regularly busy        Average Orders   \n",
       "15314     14900.0  High-range product  Regularly busy        Average Orders   \n",
       "15320     14900.0  High-range product    Busiest Days        Average Orders   \n",
       "50307     14900.0  High-range product    Busiest Days        Average Orders   \n",
       "...           ...                 ...             ...                   ...   \n",
       "30277949  14900.0  High-range product    Busiest Days           Most Orders   \n",
       "30277995  14900.0  High-range product    Busiest Days        Average Orders   \n",
       "30303557  14900.0  High-range product  Regularly busy        Average Orders   \n",
       "30303567  14900.0  High-range product    Slowest Days        Average Orders   \n",
       "30334210  14900.0  High-range product    Busiest Days        Average Orders   \n",
       "\n",
       "         max_order      loyalty_flag    spending spending_flag  frequency  \\\n",
       "1413            56    Loyal customer   34.100355  High Spender        6.0   \n",
       "1475            56    Loyal customer   34.100355  High Spender        6.0   \n",
       "15314           59    Loyal customer   47.350727  High Spender        6.0   \n",
       "15320           59    Loyal customer   47.350727  High Spender        6.0   \n",
       "50307           19  Regular customer   30.533284  High Spender       14.0   \n",
       "...            ...               ...         ...           ...        ...   \n",
       "30277949        53    Loyal customer  118.110306  High Spender        7.0   \n",
       "30277995        53    Loyal customer  118.110306  High Spender        7.0   \n",
       "30303557        25  Regular customer   54.980411  High Spender       12.0   \n",
       "30303567        25  Regular customer   54.980411  High Spender       12.0   \n",
       "30334210        51    Loyal customer   45.545269  High Spender        6.0   \n",
       "\n",
       "             frequency_flag  \n",
       "1413      Frequent customer  \n",
       "1475      Frequent customer  \n",
       "15314     Frequent customer  \n",
       "15320     Frequent customer  \n",
       "50307      Regular customer  \n",
       "...                     ...  \n",
       "30277949  Frequent customer  \n",
       "30277995  Frequent customer  \n",
       "30303557   Regular customer  \n",
       "30303567   Regular customer  \n",
       "30334210  Frequent customer  \n",
       "\n",
       "[4776 rows x 22 columns]"
      ]
     },
     "execution_count": 15,
     "metadata": {},
     "output_type": "execute_result"
    }
   ],
   "source": [
    "# Looking for prices that are over $100 as they are skewing the price results\n",
    "df_op_merged.loc[df_op_merged['prices']>100]"
   ]
  },
  {
   "cell_type": "code",
   "execution_count": 16,
   "id": "f25bbe47",
   "metadata": {},
   "outputs": [],
   "source": [
    "# Turning outlier values into NaNs\n",
    "df_op_merged.loc[df_op_merged['prices']>100,'prices']= np.nan"
   ]
  },
  {
   "cell_type": "code",
   "execution_count": 17,
   "id": "7487a60a",
   "metadata": {},
   "outputs": [
    {
     "data": {
      "text/plain": [
       "25.0"
      ]
     },
     "execution_count": 17,
     "metadata": {},
     "output_type": "execute_result"
    }
   ],
   "source": [
    "df_op_merged['prices'].max()"
   ]
  },
  {
   "cell_type": "code",
   "execution_count": 18,
   "id": "b2129a7a",
   "metadata": {},
   "outputs": [
    {
     "data": {
      "image/png": "[encoded data removed]",
      "text/plain": [
       "<Figure size 432x288 with 1 Axes>"
      ]
     },
     "metadata": {
      "needs_background": "light"
     },
     "output_type": "display_data"
    }
   ],
   "source": [
    "hist = df_op_merged['prices'].plot.hist(bins=25)"
   ]
  },
  {
   "cell_type": "code",
   "execution_count": 19,
   "id": "c3340719",
   "metadata": {},
   "outputs": [
    {
     "data": {
      "image/png": "[encoded data removed]",
      "text/plain": [
       "<Figure size 432x288 with 1 Axes>"
      ]
     },
     "metadata": {
      "needs_background": "light"
     },
     "output_type": "display_data"
    }
   ],
   "source": [
    "# Defining histogram chart for export\n",
    "hist = df_op_merged['prices'].plot.hist(bins=75)"
   ]
  },
  {
   "cell_type": "code",
   "execution_count": 20,
   "id": "a6829dce",
   "metadata": {},
   "outputs": [],
   "source": [
    "# Saving histogram chart to computer using savefig () function\n",
    "hist.figure.savefig(os.path.join(path, '04 Analysis', 'Visualizations', 'hist_prices.png'))"
   ]
  },
  {
   "cell_type": "markdown",
   "id": "2d96c3c1",
   "metadata": {},
   "source": [
    "# Sampling Data and Creating a Line Chart"
   ]
  },
  {
   "cell_type": "code",
   "execution_count": 21,
   "id": "18398fcf",
   "metadata": {},
   "outputs": [],
   "source": [
    "# Due to size of chart, you want to create a sample. This one will be 70/30. \n",
    "np.random.seed(4)\n",
    "dev = np.random.rand(len(df_op_merged)) <= 0.7"
   ]
  },
  {
   "cell_type": "code",
   "execution_count": 22,
   "id": "e2b63c81",
   "metadata": {},
   "outputs": [
    {
     "data": {
      "text/plain": [
       "array([False,  True, False, ...,  True,  True,  True])"
      ]
     },
     "execution_count": 22,
     "metadata": {},
     "output_type": "execute_result"
    }
   ],
   "source": [
    "dev"
   ]
  },
  {
   "cell_type": "code",
   "execution_count": 23,
   "id": "1246da01",
   "metadata": {},
   "outputs": [
    {
     "data": {
      "text/plain": [
       "array([0.02964891, 0.1073607 , 0.62056776, 0.1311149 , 0.81564604,\n",
       "       0.25685189, 0.07632515, 0.3488952 , 0.73948134, 0.44204815])"
      ]
     },
     "execution_count": 23,
     "metadata": {},
     "output_type": "execute_result"
    }
   ],
   "source": [
    "np.random.rand(10)"
   ]
  },
  {
   "cell_type": "code",
   "execution_count": 24,
   "id": "65b4a8eb",
   "metadata": {},
   "outputs": [],
   "source": [
    "# Store 70% of the sample in the dataframe big, store 30% of the sample in the dataframae small\n",
    "big = df_op_merged[dev]\n",
    "small = df_op_merged[~dev]"
   ]
  },
  {
   "cell_type": "code",
   "execution_count": 25,
   "id": "610d26d1",
   "metadata": {},
   "outputs": [
    {
     "data": {
      "text/html": [
       "<div>\n",
       "<style scoped>\n",
       "    .dataframe tbody tr th:only-of-type {\n",
       "        vertical-align: middle;\n",
       "    }\n",
       "\n",
       "    .dataframe tbody tr th {\n",
       "        vertical-align: top;\n",
       "    }\n",
       "\n",
       "    .dataframe thead th {\n",
       "        text-align: right;\n",
       "    }\n",
       "</style>\n",
       "<table border=\"1\" class=\"dataframe\">\n",
       "  <thead>\n",
       "    <tr style=\"text-align: right;\">\n",
       "      <th></th>\n",
       "      <th>order_id</th>\n",
       "      <th>user_id</th>\n",
       "      <th>order_number</th>\n",
       "      <th>orders_day_of_week</th>\n",
       "      <th>order_time_of_day</th>\n",
       "      <th>days_since_prior_order</th>\n",
       "      <th>product_id</th>\n",
       "      <th>add_to_cart_order</th>\n",
       "      <th>reordered</th>\n",
       "      <th>product_name</th>\n",
       "      <th>...</th>\n",
       "      <th>prices</th>\n",
       "      <th>price_range_loc</th>\n",
       "      <th>busiest_days</th>\n",
       "      <th>busiest_period_of_day</th>\n",
       "      <th>max_order</th>\n",
       "      <th>loyalty_flag</th>\n",
       "      <th>spending</th>\n",
       "      <th>spending_flag</th>\n",
       "      <th>frequency</th>\n",
       "      <th>frequency_flag</th>\n",
       "    </tr>\n",
       "  </thead>\n",
       "  <tbody>\n",
       "    <tr>\n",
       "      <th>0</th>\n",
       "      <td>2398795</td>\n",
       "      <td>1</td>\n",
       "      <td>2</td>\n",
       "      <td>3</td>\n",
       "      <td>7</td>\n",
       "      <td>15.0</td>\n",
       "      <td>196</td>\n",
       "      <td>1</td>\n",
       "      <td>1</td>\n",
       "      <td>Soda</td>\n",
       "      <td>...</td>\n",
       "      <td>9.0</td>\n",
       "      <td>Mid-range product</td>\n",
       "      <td>Slowest Days</td>\n",
       "      <td>Average Orders</td>\n",
       "      <td>15</td>\n",
       "      <td>Regular customer</td>\n",
       "      <td>7.921801</td>\n",
       "      <td>Low Spender</td>\n",
       "      <td>16.0</td>\n",
       "      <td>Regular customer</td>\n",
       "    </tr>\n",
       "    <tr>\n",
       "      <th>2</th>\n",
       "      <td>2398795</td>\n",
       "      <td>1</td>\n",
       "      <td>2</td>\n",
       "      <td>3</td>\n",
       "      <td>7</td>\n",
       "      <td>15.0</td>\n",
       "      <td>12427</td>\n",
       "      <td>3</td>\n",
       "      <td>1</td>\n",
       "      <td>Original Beef Jerky</td>\n",
       "      <td>...</td>\n",
       "      <td>4.4</td>\n",
       "      <td>Low-range product</td>\n",
       "      <td>Slowest Days</td>\n",
       "      <td>Average Orders</td>\n",
       "      <td>15</td>\n",
       "      <td>Regular customer</td>\n",
       "      <td>7.921801</td>\n",
       "      <td>Low Spender</td>\n",
       "      <td>16.0</td>\n",
       "      <td>Regular customer</td>\n",
       "    </tr>\n",
       "    <tr>\n",
       "      <th>3</th>\n",
       "      <td>2398795</td>\n",
       "      <td>1</td>\n",
       "      <td>2</td>\n",
       "      <td>3</td>\n",
       "      <td>7</td>\n",
       "      <td>15.0</td>\n",
       "      <td>13176</td>\n",
       "      <td>4</td>\n",
       "      <td>0</td>\n",
       "      <td>Bag of Organic Bananas</td>\n",
       "      <td>...</td>\n",
       "      <td>10.3</td>\n",
       "      <td>Mid-range product</td>\n",
       "      <td>Slowest Days</td>\n",
       "      <td>Average Orders</td>\n",
       "      <td>15</td>\n",
       "      <td>Regular customer</td>\n",
       "      <td>7.921801</td>\n",
       "      <td>Low Spender</td>\n",
       "      <td>16.0</td>\n",
       "      <td>Regular customer</td>\n",
       "    </tr>\n",
       "    <tr>\n",
       "      <th>6</th>\n",
       "      <td>473747</td>\n",
       "      <td>1</td>\n",
       "      <td>3</td>\n",
       "      <td>3</td>\n",
       "      <td>12</td>\n",
       "      <td>21.0</td>\n",
       "      <td>196</td>\n",
       "      <td>1</td>\n",
       "      <td>1</td>\n",
       "      <td>Soda</td>\n",
       "      <td>...</td>\n",
       "      <td>9.0</td>\n",
       "      <td>Mid-range product</td>\n",
       "      <td>Slowest Days</td>\n",
       "      <td>Average Orders</td>\n",
       "      <td>15</td>\n",
       "      <td>Regular customer</td>\n",
       "      <td>7.921801</td>\n",
       "      <td>Low Spender</td>\n",
       "      <td>16.0</td>\n",
       "      <td>Regular customer</td>\n",
       "    </tr>\n",
       "    <tr>\n",
       "      <th>10</th>\n",
       "      <td>473747</td>\n",
       "      <td>1</td>\n",
       "      <td>3</td>\n",
       "      <td>3</td>\n",
       "      <td>12</td>\n",
       "      <td>21.0</td>\n",
       "      <td>30450</td>\n",
       "      <td>5</td>\n",
       "      <td>0</td>\n",
       "      <td>Creamy Almond Butter</td>\n",
       "      <td>...</td>\n",
       "      <td>3.2</td>\n",
       "      <td>Low-range product</td>\n",
       "      <td>Slowest Days</td>\n",
       "      <td>Average Orders</td>\n",
       "      <td>15</td>\n",
       "      <td>Regular customer</td>\n",
       "      <td>7.921801</td>\n",
       "      <td>Low Spender</td>\n",
       "      <td>16.0</td>\n",
       "      <td>Regular customer</td>\n",
       "    </tr>\n",
       "    <tr>\n",
       "      <th>...</th>\n",
       "      <td>...</td>\n",
       "      <td>...</td>\n",
       "      <td>...</td>\n",
       "      <td>...</td>\n",
       "      <td>...</td>\n",
       "      <td>...</td>\n",
       "      <td>...</td>\n",
       "      <td>...</td>\n",
       "      <td>...</td>\n",
       "      <td>...</td>\n",
       "      <td>...</td>\n",
       "      <td>...</td>\n",
       "      <td>...</td>\n",
       "      <td>...</td>\n",
       "      <td>...</td>\n",
       "      <td>...</td>\n",
       "      <td>...</td>\n",
       "      <td>...</td>\n",
       "      <td>...</td>\n",
       "      <td>...</td>\n",
       "      <td>...</td>\n",
       "    </tr>\n",
       "    <tr>\n",
       "      <th>30356943</th>\n",
       "      <td>626363</td>\n",
       "      <td>9601</td>\n",
       "      <td>12</td>\n",
       "      <td>1</td>\n",
       "      <td>12</td>\n",
       "      <td>18.0</td>\n",
       "      <td>16168</td>\n",
       "      <td>16</td>\n",
       "      <td>0</td>\n",
       "      <td>Large Organic Omega3 Brown Eggs</td>\n",
       "      <td>...</td>\n",
       "      <td>11.8</td>\n",
       "      <td>Mid-range product</td>\n",
       "      <td>Busiest Days</td>\n",
       "      <td>Average Orders</td>\n",
       "      <td>17</td>\n",
       "      <td>Regular customer</td>\n",
       "      <td>7.864758</td>\n",
       "      <td>Low Spender</td>\n",
       "      <td>19.0</td>\n",
       "      <td>Regular customer</td>\n",
       "    </tr>\n",
       "    <tr>\n",
       "      <th>30356949</th>\n",
       "      <td>2977660</td>\n",
       "      <td>9601</td>\n",
       "      <td>13</td>\n",
       "      <td>1</td>\n",
       "      <td>12</td>\n",
       "      <td>7.0</td>\n",
       "      <td>9405</td>\n",
       "      <td>2</td>\n",
       "      <td>1</td>\n",
       "      <td>Calcium Enriched 100% Lactose Free Fat Free Milk</td>\n",
       "      <td>...</td>\n",
       "      <td>11.5</td>\n",
       "      <td>Mid-range product</td>\n",
       "      <td>Busiest Days</td>\n",
       "      <td>Average Orders</td>\n",
       "      <td>17</td>\n",
       "      <td>Regular customer</td>\n",
       "      <td>7.864758</td>\n",
       "      <td>Low Spender</td>\n",
       "      <td>19.0</td>\n",
       "      <td>Regular customer</td>\n",
       "    </tr>\n",
       "    <tr>\n",
       "      <th>30356951</th>\n",
       "      <td>2977660</td>\n",
       "      <td>9601</td>\n",
       "      <td>13</td>\n",
       "      <td>1</td>\n",
       "      <td>12</td>\n",
       "      <td>7.0</td>\n",
       "      <td>39216</td>\n",
       "      <td>4</td>\n",
       "      <td>0</td>\n",
       "      <td>Original Multigrain Spoonfuls Cereal</td>\n",
       "      <td>...</td>\n",
       "      <td>3.3</td>\n",
       "      <td>Low-range product</td>\n",
       "      <td>Busiest Days</td>\n",
       "      <td>Average Orders</td>\n",
       "      <td>17</td>\n",
       "      <td>Regular customer</td>\n",
       "      <td>7.864758</td>\n",
       "      <td>Low Spender</td>\n",
       "      <td>19.0</td>\n",
       "      <td>Regular customer</td>\n",
       "    </tr>\n",
       "    <tr>\n",
       "      <th>30356952</th>\n",
       "      <td>2977660</td>\n",
       "      <td>9601</td>\n",
       "      <td>13</td>\n",
       "      <td>1</td>\n",
       "      <td>12</td>\n",
       "      <td>7.0</td>\n",
       "      <td>14197</td>\n",
       "      <td>5</td>\n",
       "      <td>1</td>\n",
       "      <td>Tomato Paste</td>\n",
       "      <td>...</td>\n",
       "      <td>5.6</td>\n",
       "      <td>Mid-range product</td>\n",
       "      <td>Busiest Days</td>\n",
       "      <td>Average Orders</td>\n",
       "      <td>17</td>\n",
       "      <td>Regular customer</td>\n",
       "      <td>7.864758</td>\n",
       "      <td>Low Spender</td>\n",
       "      <td>19.0</td>\n",
       "      <td>Regular customer</td>\n",
       "    </tr>\n",
       "    <tr>\n",
       "      <th>30356953</th>\n",
       "      <td>2977660</td>\n",
       "      <td>9601</td>\n",
       "      <td>13</td>\n",
       "      <td>1</td>\n",
       "      <td>12</td>\n",
       "      <td>7.0</td>\n",
       "      <td>38730</td>\n",
       "      <td>6</td>\n",
       "      <td>0</td>\n",
       "      <td>Brownie Crunch High Protein Bar</td>\n",
       "      <td>...</td>\n",
       "      <td>5.9</td>\n",
       "      <td>Mid-range product</td>\n",
       "      <td>Busiest Days</td>\n",
       "      <td>Average Orders</td>\n",
       "      <td>17</td>\n",
       "      <td>Regular customer</td>\n",
       "      <td>7.864758</td>\n",
       "      <td>Low Spender</td>\n",
       "      <td>19.0</td>\n",
       "      <td>Regular customer</td>\n",
       "    </tr>\n",
       "  </tbody>\n",
       "</table>\n",
       "<p>9105980 rows × 22 columns</p>\n",
       "</div>"
      ],
      "text/plain": [
       "          order_id  user_id  order_number  orders_day_of_week  \\\n",
       "0          2398795        1             2                   3   \n",
       "2          2398795        1             2                   3   \n",
       "3          2398795        1             2                   3   \n",
       "6           473747        1             3                   3   \n",
       "10          473747        1             3                   3   \n",
       "...            ...      ...           ...                 ...   \n",
       "30356943    626363     9601            12                   1   \n",
       "30356949   2977660     9601            13                   1   \n",
       "30356951   2977660     9601            13                   1   \n",
       "30356952   2977660     9601            13                   1   \n",
       "30356953   2977660     9601            13                   1   \n",
       "\n",
       "          order_time_of_day  days_since_prior_order  product_id  \\\n",
       "0                         7                    15.0         196   \n",
       "2                         7                    15.0       12427   \n",
       "3                         7                    15.0       13176   \n",
       "6                        12                    21.0         196   \n",
       "10                       12                    21.0       30450   \n",
       "...                     ...                     ...         ...   \n",
       "30356943                 12                    18.0       16168   \n",
       "30356949                 12                     7.0        9405   \n",
       "30356951                 12                     7.0       39216   \n",
       "30356952                 12                     7.0       14197   \n",
       "30356953                 12                     7.0       38730   \n",
       "\n",
       "          add_to_cart_order  reordered  \\\n",
       "0                         1          1   \n",
       "2                         3          1   \n",
       "3                         4          0   \n",
       "6                         1          1   \n",
       "10                        5          0   \n",
       "...                     ...        ...   \n",
       "30356943                 16          0   \n",
       "30356949                  2          1   \n",
       "30356951                  4          0   \n",
       "30356952                  5          1   \n",
       "30356953                  6          0   \n",
       "\n",
       "                                              product_name  ...  prices  \\\n",
       "0                                                     Soda  ...     9.0   \n",
       "2                                      Original Beef Jerky  ...     4.4   \n",
       "3                                   Bag of Organic Bananas  ...    10.3   \n",
       "6                                                     Soda  ...     9.0   \n",
       "10                                    Creamy Almond Butter  ...     3.2   \n",
       "...                                                    ...  ...     ...   \n",
       "30356943                   Large Organic Omega3 Brown Eggs  ...    11.8   \n",
       "30356949  Calcium Enriched 100% Lactose Free Fat Free Milk  ...    11.5   \n",
       "30356951              Original Multigrain Spoonfuls Cereal  ...     3.3   \n",
       "30356952                                      Tomato Paste  ...     5.6   \n",
       "30356953                   Brownie Crunch High Protein Bar  ...     5.9   \n",
       "\n",
       "            price_range_loc  busiest_days busiest_period_of_day max_order  \\\n",
       "0         Mid-range product  Slowest Days        Average Orders        15   \n",
       "2         Low-range product  Slowest Days        Average Orders        15   \n",
       "3         Mid-range product  Slowest Days        Average Orders        15   \n",
       "6         Mid-range product  Slowest Days        Average Orders        15   \n",
       "10        Low-range product  Slowest Days        Average Orders        15   \n",
       "...                     ...           ...                   ...       ...   \n",
       "30356943  Mid-range product  Busiest Days        Average Orders        17   \n",
       "30356949  Mid-range product  Busiest Days        Average Orders        17   \n",
       "30356951  Low-range product  Busiest Days        Average Orders        17   \n",
       "30356952  Mid-range product  Busiest Days        Average Orders        17   \n",
       "30356953  Mid-range product  Busiest Days        Average Orders        17   \n",
       "\n",
       "              loyalty_flag  spending spending_flag  frequency  \\\n",
       "0         Regular customer  7.921801   Low Spender       16.0   \n",
       "2         Regular customer  7.921801   Low Spender       16.0   \n",
       "3         Regular customer  7.921801   Low Spender       16.0   \n",
       "6         Regular customer  7.921801   Low Spender       16.0   \n",
       "10        Regular customer  7.921801   Low Spender       16.0   \n",
       "...                    ...       ...           ...        ...   \n",
       "30356943  Regular customer  7.864758   Low Spender       19.0   \n",
       "30356949  Regular customer  7.864758   Low Spender       19.0   \n",
       "30356951  Regular customer  7.864758   Low Spender       19.0   \n",
       "30356952  Regular customer  7.864758   Low Spender       19.0   \n",
       "30356953  Regular customer  7.864758   Low Spender       19.0   \n",
       "\n",
       "            frequency_flag  \n",
       "0         Regular customer  \n",
       "2         Regular customer  \n",
       "3         Regular customer  \n",
       "6         Regular customer  \n",
       "10        Regular customer  \n",
       "...                    ...  \n",
       "30356943  Regular customer  \n",
       "30356949  Regular customer  \n",
       "30356951  Regular customer  \n",
       "30356952  Regular customer  \n",
       "30356953  Regular customer  \n",
       "\n",
       "[9105980 rows x 22 columns]"
      ]
     },
     "execution_count": 25,
     "metadata": {},
     "output_type": "execute_result"
    }
   ],
   "source": [
    "small"
   ]
  },
  {
   "cell_type": "code",
   "execution_count": 26,
   "id": "91f89d40",
   "metadata": {},
   "outputs": [
    {
     "data": {
      "text/plain": [
       "30356957"
      ]
     },
     "execution_count": 26,
     "metadata": {},
     "output_type": "execute_result"
    }
   ],
   "source": [
    "# Check length of entire dataframe\n",
    "len(df_op_merged)"
   ]
  },
  {
   "cell_type": "code",
   "execution_count": 27,
   "id": "228dcb4f",
   "metadata": {},
   "outputs": [
    {
     "data": {
      "text/plain": [
       "30356957"
      ]
     },
     "execution_count": 27,
     "metadata": {},
     "output_type": "execute_result"
    }
   ],
   "source": [
    "# Add length of datframe big and small together to make sure it equals total length of dataframe\n",
    "len(big)+len(small)"
   ]
  },
  {
   "cell_type": "code",
   "execution_count": 28,
   "id": "0667f5d8",
   "metadata": {},
   "outputs": [],
   "source": [
    "# Create dataframe from small sample to only have necessary columns\n",
    "df_2 = small[['orders_day_of_week','prices']]"
   ]
  },
  {
   "cell_type": "code",
   "execution_count": 29,
   "id": "98fbd1cc",
   "metadata": {},
   "outputs": [
    {
     "data": {
      "image/png": "[encoded data removed]",
      "text/plain": [
       "<Figure size 432x288 with 1 Axes>"
      ]
     },
     "metadata": {
      "needs_background": "light"
     },
     "output_type": "display_data"
    }
   ],
   "source": [
    "line = sns.lineplot(data=df_2, x = 'orders_day_of_week', y='prices')"
   ]
  },
  {
   "cell_type": "code",
   "execution_count": null,
   "id": "3be1b4c3",
   "metadata": {},
   "outputs": [],
   "source": []
  }
 ],
 "metadata": {
  "kernelspec": {
   "display_name": "Python 3",
   "language": "python",
   "name": "python3"
  },
  "language_info": {
   "codemirror_mode": {
    "name": "ipython",
    "version": 3
   },
   "file_extension": ".py",
   "mimetype": "text/x-python",
   "name": "python",
   "nbconvert_exporter": "python",
   "pygments_lexer": "ipython3",
   "version": "3.8.8"
  }
 },
 "nbformat": 4,
 "nbformat_minor": 5
}
